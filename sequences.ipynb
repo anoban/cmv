{
 "cells": [
  {
   "cell_type": "code",
   "execution_count": 43,
   "id": "0d7c8e9c-ad9f-4f2d-bcd4-a14b27fd8f57",
   "metadata": {
    "execution": {
     "iopub.execute_input": "2023-09-19T14:56:04.210135Z",
     "iopub.status.busy": "2023-09-19T14:56:04.210135Z",
     "iopub.status.idle": "2023-09-19T14:56:05.255822Z",
     "shell.execute_reply": "2023-09-19T14:56:05.255822Z",
     "shell.execute_reply.started": "2023-09-19T14:56:04.210135Z"
    }
   },
   "outputs": [],
   "source": [
    "from xml.etree import ElementTree\n",
    "import numpy as np\n",
    "from itertools import combinations\n",
    "from bs4 import BeautifulSoup\n",
    "import pandas as pd"
   ]
  },
  {
   "cell_type": "code",
   "execution_count": 5,
   "id": "53d0b52b-85a9-4c6c-8807-9c5ac4c9fddf",
   "metadata": {
    "execution": {
     "iopub.execute_input": "2023-09-19T13:13:08.654174Z",
     "iopub.status.busy": "2023-09-19T13:13:08.654174Z",
     "iopub.status.idle": "2023-09-19T13:13:08.671298Z",
     "shell.execute_reply": "2023-09-19T13:13:08.670946Z",
     "shell.execute_reply.started": "2023-09-19T13:13:08.654174Z"
    }
   },
   "outputs": [],
   "source": [
    "tmvseqs = ElementTree.parse(\"./data/seqs/ledger.xml\")"
   ]
  },
  {
   "cell_type": "code",
   "execution_count": 55,
   "id": "767d0170-f3df-4830-aaa2-252deb85e1b6",
   "metadata": {
    "execution": {
     "iopub.execute_input": "2023-09-19T13:26:54.750178Z",
     "iopub.status.busy": "2023-09-19T13:26:54.750178Z",
     "iopub.status.idle": "2023-09-19T13:26:54.756287Z",
     "shell.execute_reply": "2023-09-19T13:26:54.755701Z",
     "shell.execute_reply.started": "2023-09-19T13:26:54.750178Z"
    }
   },
   "outputs": [
    {
     "data": {
      "text/plain": [
       "<Element 'DOCUMENT_ROOT' at 0x00000247FB924EF0>"
      ]
     },
     "execution_count": 55,
     "metadata": {},
     "output_type": "execute_result"
    }
   ],
   "source": [
    "tmvseqs.getroot()"
   ]
  },
  {
   "cell_type": "code",
   "execution_count": 14,
   "id": "5f0fc731-3c7f-4580-b45c-16ba9b9db79c",
   "metadata": {
    "execution": {
     "iopub.execute_input": "2023-09-19T13:14:26.976316Z",
     "iopub.status.busy": "2023-09-19T13:14:26.976316Z",
     "iopub.status.idle": "2023-09-19T13:14:26.993897Z",
     "shell.execute_reply": "2023-09-19T13:14:26.993842Z",
     "shell.execute_reply.started": "2023-09-19T13:14:26.976316Z"
    }
   },
   "outputs": [],
   "source": [
    "seqs = tmvseqs.getroot().findall(\"RECORD\")"
   ]
  },
  {
   "cell_type": "code",
   "execution_count": 16,
   "id": "c1d26d2c-3cfe-487d-b9c0-c8c92c39bc3d",
   "metadata": {
    "execution": {
     "iopub.execute_input": "2023-09-19T13:14:58.191778Z",
     "iopub.status.busy": "2023-09-19T13:14:58.191778Z",
     "iopub.status.idle": "2023-09-19T13:14:58.208834Z",
     "shell.execute_reply": "2023-09-19T13:14:58.208834Z",
     "shell.execute_reply.started": "2023-09-19T13:14:58.191778Z"
    }
   },
   "outputs": [
    {
     "name": "stdout",
     "output_type": "stream",
     "text": [
      "OK377342\n",
      "OK377341\n",
      "OK377343\n",
      "OK424595\n",
      "OK362288\n"
     ]
    }
   ],
   "source": [
    "for seq in seqs:\n",
    "    print(seq.find(\"ACCESSION_NO\").text)"
   ]
  },
  {
   "cell_type": "code",
   "execution_count": 19,
   "id": "a0227c8c-0764-4b82-9f80-e5847a7a363b",
   "metadata": {
    "execution": {
     "iopub.execute_input": "2023-09-19T13:16:09.730945Z",
     "iopub.status.busy": "2023-09-19T13:16:09.730945Z",
     "iopub.status.idle": "2023-09-19T13:16:09.743493Z",
     "shell.execute_reply": "2023-09-19T13:16:09.743389Z",
     "shell.execute_reply.started": "2023-09-19T13:16:09.730945Z"
    }
   },
   "outputs": [],
   "source": [
    "fasta = []\n",
    "\n",
    "for seq in seqs:\n",
    "   fasta.append(seq.find(\"FASTA\").text.replace('\\n', '').replace('\\t', ''))"
   ]
  },
  {
   "cell_type": "code",
   "execution_count": 22,
   "id": "0fe077c3-85e4-44f2-a990-bb4f2388b0c9",
   "metadata": {
    "execution": {
     "iopub.execute_input": "2023-09-19T13:17:09.812327Z",
     "iopub.status.busy": "2023-09-19T13:17:09.812327Z",
     "iopub.status.idle": "2023-09-19T13:17:09.818407Z",
     "shell.execute_reply": "2023-09-19T13:17:09.818407Z",
     "shell.execute_reply.started": "2023-09-19T13:17:09.812327Z"
    }
   },
   "outputs": [
    {
     "data": {
      "text/plain": [
       "[2746, 2746, 2746, 2746, 2746]"
      ]
     },
     "execution_count": 22,
     "metadata": {},
     "output_type": "execute_result"
    }
   ],
   "source": [
    "# All sequences seem to have the same length!\n",
    "\n",
    "[len(f) for f in fasta]"
   ]
  },
  {
   "cell_type": "code",
   "execution_count": 51,
   "id": "df95c12c-3a97-4dcb-a2dc-7091ac0be647",
   "metadata": {
    "execution": {
     "iopub.execute_input": "2023-09-19T13:25:25.636436Z",
     "iopub.status.busy": "2023-09-19T13:25:25.636436Z",
     "iopub.status.idle": "2023-09-19T13:25:25.643436Z",
     "shell.execute_reply": "2023-09-19T13:25:25.643436Z",
     "shell.execute_reply.started": "2023-09-19T13:25:25.636436Z"
    }
   },
   "outputs": [],
   "source": [
    "seqarrays = [np.array([letter for letter in f]) for f in fasta]"
   ]
  },
  {
   "cell_type": "code",
   "execution_count": 52,
   "id": "f9006a6e-6c20-4fd2-ac7d-f481bbb07d88",
   "metadata": {
    "execution": {
     "iopub.execute_input": "2023-09-19T13:25:26.344801Z",
     "iopub.status.busy": "2023-09-19T13:25:26.344801Z",
     "iopub.status.idle": "2023-09-19T13:25:26.350639Z",
     "shell.execute_reply": "2023-09-19T13:25:26.350639Z",
     "shell.execute_reply.started": "2023-09-19T13:25:26.344801Z"
    }
   },
   "outputs": [],
   "source": [
    "seqpairs = list(combinations(seqarrays, r = 2))"
   ]
  },
  {
   "cell_type": "code",
   "execution_count": 53,
   "id": "99404d4c-f6d5-4617-93de-6af57780b539",
   "metadata": {
    "execution": {
     "iopub.execute_input": "2023-09-19T13:25:26.740303Z",
     "iopub.status.busy": "2023-09-19T13:25:26.736290Z",
     "iopub.status.idle": "2023-09-19T13:25:26.745664Z",
     "shell.execute_reply": "2023-09-19T13:25:26.745664Z",
     "shell.execute_reply.started": "2023-09-19T13:25:26.740303Z"
    }
   },
   "outputs": [
    {
     "data": {
      "text/plain": [
       "[37, 44, 12, 5, 7, 39, 32, 42, 39, 7]"
      ]
     },
     "execution_count": 53,
     "metadata": {},
     "output_type": "execute_result"
    }
   ],
   "source": [
    "# There are differences.\n",
    "\n",
    "[(sp[0] != sp[1]).sum() for sp in seqpairs]"
   ]
  },
  {
   "cell_type": "code",
   "execution_count": 42,
   "id": "e9377e03-48af-41c4-a9a8-d1a815275333",
   "metadata": {
    "execution": {
     "iopub.execute_input": "2023-09-19T14:55:43.061844Z",
     "iopub.status.busy": "2023-09-19T14:55:43.061844Z",
     "iopub.status.idle": "2023-09-19T14:55:43.066423Z",
     "shell.execute_reply": "2023-09-19T14:55:43.066423Z",
     "shell.execute_reply.started": "2023-09-19T14:55:43.061844Z"
    }
   },
   "outputs": [],
   "source": [
    "# https://ictv.global/report/chapter/geminiviridae/geminiviridae/begomovirus"
   ]
  },
  {
   "cell_type": "code",
   "execution_count": 40,
   "id": "c9e35bfb-ca67-4517-a61d-bad731620f12",
   "metadata": {
    "execution": {
     "iopub.execute_input": "2023-09-19T14:55:21.791812Z",
     "iopub.status.busy": "2023-09-19T14:55:21.791812Z",
     "iopub.status.idle": "2023-09-19T14:55:22.188158Z",
     "shell.execute_reply": "2023-09-19T14:55:22.188158Z",
     "shell.execute_reply.started": "2023-09-19T14:55:21.791812Z"
    }
   },
   "outputs": [],
   "source": [
    "# Copy pasted the HTML manually from Firefox. _|_ lazy loads.\n",
    "\n",
    "with open(\"./data/Genus Begomovirus ICTV.html\", mode = \"r\", encoding = \"utf8\") as html:\n",
    "    content = html.read()\n",
    "    soup = BeautifulSoup(content, \"html.parser\")"
   ]
  },
  {
   "cell_type": "code",
   "execution_count": 67,
   "id": "b3706930-5c24-456a-b22a-d5fa3c8b1728",
   "metadata": {
    "execution": {
     "iopub.execute_input": "2023-09-19T14:59:24.319452Z",
     "iopub.status.busy": "2023-09-19T14:59:24.319452Z",
     "iopub.status.idle": "2023-09-19T14:59:24.347098Z",
     "shell.execute_reply": "2023-09-19T14:59:24.346582Z",
     "shell.execute_reply.started": "2023-09-19T14:59:24.319452Z"
    }
   },
   "outputs": [],
   "source": [
    "table = soup.find_all(\"table\", attrs = {\"class\" : \"virus-isolates-table\"})[0]"
   ]
  },
  {
   "cell_type": "code",
   "execution_count": 68,
   "id": "a9db8c3b-52f0-47b1-8b9c-abb2cfcaa13d",
   "metadata": {
    "execution": {
     "iopub.execute_input": "2023-09-19T14:59:25.136502Z",
     "iopub.status.busy": "2023-09-19T14:59:25.136502Z",
     "iopub.status.idle": "2023-09-19T14:59:25.145442Z",
     "shell.execute_reply": "2023-09-19T14:59:25.145442Z",
     "shell.execute_reply.started": "2023-09-19T14:59:25.136502Z"
    }
   },
   "outputs": [
    {
     "data": {
      "text/plain": [
       "2"
      ]
     },
     "execution_count": 68,
     "metadata": {},
     "output_type": "execute_result"
    }
   ],
   "source": [
    "len(table)"
   ]
  },
  {
   "cell_type": "code",
   "execution_count": 87,
   "id": "3735aa59-980d-4b17-ba12-8fb23a5b0df9",
   "metadata": {
    "execution": {
     "iopub.execute_input": "2023-09-19T15:06:24.017605Z",
     "iopub.status.busy": "2023-09-19T15:06:24.017605Z",
     "iopub.status.idle": "2023-09-19T15:06:24.040086Z",
     "shell.execute_reply": "2023-09-19T15:06:24.040086Z",
     "shell.execute_reply.started": "2023-09-19T15:06:24.017605Z"
    }
   },
   "outputs": [
    {
     "data": {
      "text/plain": [
       "['',\n",
       " 'Genus',\n",
       " 'Subgenus',\n",
       " 'Species',\n",
       " 'Virus name',\n",
       " 'Isolate',\n",
       " 'Accession',\n",
       " 'Available sequence',\n",
       " 'Abbrev.']"
      ]
     },
     "execution_count": 87,
     "metadata": {},
     "output_type": "execute_result"
    }
   ],
   "source": [
    "headers = [th.text for th in table.find_all(\"th\")]\n",
    "headers"
   ]
  },
  {
   "cell_type": "code",
   "execution_count": 88,
   "id": "70129864-da12-47f2-89c9-691a3d03de62",
   "metadata": {
    "execution": {
     "iopub.execute_input": "2023-09-19T15:07:35.727403Z",
     "iopub.status.busy": "2023-09-19T15:07:35.727403Z",
     "iopub.status.idle": "2023-09-19T15:07:35.739449Z",
     "shell.execute_reply": "2023-09-19T15:07:35.739289Z",
     "shell.execute_reply.started": "2023-09-19T15:07:35.727403Z"
    }
   },
   "outputs": [],
   "source": [
    "table_dict = {\n",
    "    \"Species\": [],\n",
    "    \"Virus name\": [],\n",
    "    \"Isolate\": [],\n",
    "    \"Accession\": [],\n",
    "    \"Available sequence\": [],\n",
    "    \"Abbrev\":[]\n",
    "}"
   ]
  },
  {
   "cell_type": "code",
   "execution_count": 105,
   "id": "b1738165-c8ff-46bf-9aff-b45b61a5a586",
   "metadata": {
    "execution": {
     "iopub.execute_input": "2023-09-19T15:20:44.942352Z",
     "iopub.status.busy": "2023-09-19T15:20:44.942352Z",
     "iopub.status.idle": "2023-09-19T15:20:44.953210Z",
     "shell.execute_reply": "2023-09-19T15:20:44.953089Z",
     "shell.execute_reply.started": "2023-09-19T15:20:44.942352Z"
    }
   },
   "outputs": [
    {
     "data": {
      "text/plain": [
       "['',\n",
       " 'Genus',\n",
       " 'Subgenus',\n",
       " 'Species',\n",
       " 'Virus name',\n",
       " 'Isolate',\n",
       " 'Accession',\n",
       " 'Available sequence',\n",
       " 'Abbrev.']"
      ]
     },
     "execution_count": 105,
     "metadata": {},
     "output_type": "execute_result"
    }
   ],
   "source": [
    "[th.text for th in table.find_all(\"tr\")[0].find_all(\"th\")]"
   ]
  },
  {
   "cell_type": "code",
   "execution_count": 108,
   "id": "81ec6a93-440e-4262-92aa-781919fd7604",
   "metadata": {
    "execution": {
     "iopub.execute_input": "2023-09-19T15:23:20.001644Z",
     "iopub.status.busy": "2023-09-19T15:23:20.001644Z",
     "iopub.status.idle": "2023-09-19T15:23:20.010450Z",
     "shell.execute_reply": "2023-09-19T15:23:20.010450Z",
     "shell.execute_reply.started": "2023-09-19T15:23:20.001644Z"
    }
   },
   "outputs": [
    {
     "data": {
      "text/plain": [
       "{'Species': [],\n",
       " 'Virus name': [],\n",
       " 'Isolate': [],\n",
       " 'Accession': [],\n",
       " 'Available sequence': [],\n",
       " 'Abbrev': []}"
      ]
     },
     "execution_count": 108,
     "metadata": {},
     "output_type": "execute_result"
    }
   ],
   "source": [
    "table_dict"
   ]
  },
  {
   "cell_type": "code",
   "execution_count": 110,
   "id": "74519f56-17ad-4cff-bebf-9cb65029bb88",
   "metadata": {
    "execution": {
     "iopub.execute_input": "2023-09-19T15:24:25.886737Z",
     "iopub.status.busy": "2023-09-19T15:24:25.886737Z",
     "iopub.status.idle": "2023-09-19T15:24:26.015515Z",
     "shell.execute_reply": "2023-09-19T15:24:26.015515Z",
     "shell.execute_reply.started": "2023-09-19T15:24:25.886737Z"
    }
   },
   "outputs": [],
   "source": [
    "# Except for the row with table headers, there seems to be two kinds of table rows.\n",
    "# 1) <tr class=\"virus-row\">\n",
    "# 2) <tr class=\"alt-virus-row\">\n",
    "\n",
    "counter = 0\n",
    "for tr in table.find_all(\"tr\"):\n",
    "    if counter == 0:\n",
    "        counter += 1\n",
    "        continue\n",
    "    else:\n",
    "        table_dict[\"Species\"].append(tr.find(\"td\", attrs = {\"class\": \"col-species\"}).text)\n",
    "        table_dict[\"Virus name\"].append(tr.find(\"td\", attrs = {\"class\": \"col-alternativeNameCSV\"}).text)\n",
    "        table_dict[\"Isolate\"].append(tr.find(\"td\", attrs = {\"class\": \"col-isolate\"}).text)\n",
    "        table_dict[\"Accession\"].append(tr.find(\"td\", attrs = {\"class\": \"col-accessionNumber\"}).text)\n",
    "        table_dict[\"Available sequence\"].append(tr.find(\"td\", attrs = {\"class\": \"col-availableSequence\"}).text)\n",
    "        table_dict[\"Abbrev\"].append(tr.find(\"td\", attrs = {\"class\": \"col-abbrev\"}).text)\n",
    "        counter += 1"
   ]
  },
  {
   "cell_type": "code",
   "execution_count": 113,
   "id": "7dd7aff2-0fab-4991-b91c-c0282c3b8739",
   "metadata": {
    "execution": {
     "iopub.execute_input": "2023-09-19T15:25:31.943879Z",
     "iopub.status.busy": "2023-09-19T15:25:31.943879Z",
     "iopub.status.idle": "2023-09-19T15:25:31.948301Z",
     "shell.execute_reply": "2023-09-19T15:25:31.948301Z",
     "shell.execute_reply.started": "2023-09-19T15:25:31.943879Z"
    }
   },
   "outputs": [],
   "source": [
    "begomovirus = pd.DataFrame(table_dict)"
   ]
  },
  {
   "cell_type": "code",
   "execution_count": 114,
   "id": "bc2992f6-3dad-46b6-927c-1195d3f7a1c2",
   "metadata": {
    "execution": {
     "iopub.execute_input": "2023-09-19T15:27:13.612644Z",
     "iopub.status.busy": "2023-09-19T15:27:13.612644Z",
     "iopub.status.idle": "2023-09-19T15:27:13.659251Z",
     "shell.execute_reply": "2023-09-19T15:27:13.659251Z",
     "shell.execute_reply.started": "2023-09-19T15:27:13.612644Z"
    }
   },
   "outputs": [],
   "source": [
    "begomovirus.to_csv(\"./data/begomovirus_ictv.csv\", sep = ',', header = True, index = False, mode = \"w\")"
   ]
  },
  {
   "cell_type": "code",
   "execution_count": null,
   "id": "ec7c4ed4-16f6-46b6-bd05-e7b5b08ee132",
   "metadata": {},
   "outputs": [],
   "source": []
  }
 ],
 "metadata": {
  "kernelspec": {
   "display_name": "Python 3 (ipykernel)",
   "language": "python",
   "name": "python3"
  },
  "language_info": {
   "codemirror_mode": {
    "name": "ipython",
    "version": 3
   },
   "file_extension": ".py",
   "mimetype": "text/x-python",
   "name": "python",
   "nbconvert_exporter": "python",
   "pygments_lexer": "ipython3",
   "version": "3.11.5"
  }
 },
 "nbformat": 4,
 "nbformat_minor": 5
}
