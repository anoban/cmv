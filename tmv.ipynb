{
 "cells": [
  {
   "cell_type": "code",
   "execution_count": 1,
   "id": "0d7c8e9c-ad9f-4f2d-bcd4-a14b27fd8f57",
   "metadata": {
    "execution": {
     "iopub.execute_input": "2023-09-20T00:43:54.953550Z",
     "iopub.status.busy": "2023-09-20T00:43:54.952553Z",
     "iopub.status.idle": "2023-09-20T00:43:56.921851Z",
     "shell.execute_reply": "2023-09-20T00:43:56.920842Z",
     "shell.execute_reply.started": "2023-09-20T00:43:54.953550Z"
    }
   },
   "outputs": [],
   "source": [
    "from xml.etree import ElementTree\n",
    "import numpy as np\n",
    "from itertools import combinations\n",
    "from bs4 import BeautifulSoup\n",
    "import pandas as pd"
   ]
  },
  {
   "cell_type": "code",
   "execution_count": 5,
   "id": "53d0b52b-85a9-4c6c-8807-9c5ac4c9fddf",
   "metadata": {
    "execution": {
     "iopub.execute_input": "2023-09-19T13:13:08.654174Z",
     "iopub.status.busy": "2023-09-19T13:13:08.654174Z",
     "iopub.status.idle": "2023-09-19T13:13:08.671298Z",
     "shell.execute_reply": "2023-09-19T13:13:08.670946Z",
     "shell.execute_reply.started": "2023-09-19T13:13:08.654174Z"
    }
   },
   "outputs": [],
   "source": [
    "tmvseqs = ElementTree.parse(\"./data/seqs/ledger.xml\")"
   ]
  },
  {
   "cell_type": "code",
   "execution_count": 55,
   "id": "767d0170-f3df-4830-aaa2-252deb85e1b6",
   "metadata": {
    "execution": {
     "iopub.execute_input": "2023-09-19T13:26:54.750178Z",
     "iopub.status.busy": "2023-09-19T13:26:54.750178Z",
     "iopub.status.idle": "2023-09-19T13:26:54.756287Z",
     "shell.execute_reply": "2023-09-19T13:26:54.755701Z",
     "shell.execute_reply.started": "2023-09-19T13:26:54.750178Z"
    }
   },
   "outputs": [
    {
     "data": {
      "text/plain": [
       "<Element 'DOCUMENT_ROOT' at 0x00000247FB924EF0>"
      ]
     },
     "execution_count": 55,
     "metadata": {},
     "output_type": "execute_result"
    }
   ],
   "source": [
    "tmvseqs.getroot()"
   ]
  },
  {
   "cell_type": "code",
   "execution_count": 14,
   "id": "5f0fc731-3c7f-4580-b45c-16ba9b9db79c",
   "metadata": {
    "execution": {
     "iopub.execute_input": "2023-09-19T13:14:26.976316Z",
     "iopub.status.busy": "2023-09-19T13:14:26.976316Z",
     "iopub.status.idle": "2023-09-19T13:14:26.993897Z",
     "shell.execute_reply": "2023-09-19T13:14:26.993842Z",
     "shell.execute_reply.started": "2023-09-19T13:14:26.976316Z"
    }
   },
   "outputs": [],
   "source": [
    "seqs = tmvseqs.getroot().findall(\"RECORD\")"
   ]
  },
  {
   "cell_type": "code",
   "execution_count": 16,
   "id": "c1d26d2c-3cfe-487d-b9c0-c8c92c39bc3d",
   "metadata": {
    "execution": {
     "iopub.execute_input": "2023-09-19T13:14:58.191778Z",
     "iopub.status.busy": "2023-09-19T13:14:58.191778Z",
     "iopub.status.idle": "2023-09-19T13:14:58.208834Z",
     "shell.execute_reply": "2023-09-19T13:14:58.208834Z",
     "shell.execute_reply.started": "2023-09-19T13:14:58.191778Z"
    }
   },
   "outputs": [
    {
     "name": "stdout",
     "output_type": "stream",
     "text": [
      "OK377342\n",
      "OK377341\n",
      "OK377343\n",
      "OK424595\n",
      "OK362288\n"
     ]
    }
   ],
   "source": [
    "for seq in seqs:\n",
    "    print(seq.find(\"ACCESSION_NO\").text)"
   ]
  },
  {
   "cell_type": "code",
   "execution_count": 19,
   "id": "a0227c8c-0764-4b82-9f80-e5847a7a363b",
   "metadata": {
    "execution": {
     "iopub.execute_input": "2023-09-19T13:16:09.730945Z",
     "iopub.status.busy": "2023-09-19T13:16:09.730945Z",
     "iopub.status.idle": "2023-09-19T13:16:09.743493Z",
     "shell.execute_reply": "2023-09-19T13:16:09.743389Z",
     "shell.execute_reply.started": "2023-09-19T13:16:09.730945Z"
    }
   },
   "outputs": [],
   "source": [
    "fasta = []\n",
    "\n",
    "for seq in seqs:\n",
    "   fasta.append(seq.find(\"FASTA\").text.replace('\\n', '').replace('\\t', ''))"
   ]
  },
  {
   "cell_type": "code",
   "execution_count": 22,
   "id": "0fe077c3-85e4-44f2-a990-bb4f2388b0c9",
   "metadata": {
    "execution": {
     "iopub.execute_input": "2023-09-19T13:17:09.812327Z",
     "iopub.status.busy": "2023-09-19T13:17:09.812327Z",
     "iopub.status.idle": "2023-09-19T13:17:09.818407Z",
     "shell.execute_reply": "2023-09-19T13:17:09.818407Z",
     "shell.execute_reply.started": "2023-09-19T13:17:09.812327Z"
    }
   },
   "outputs": [
    {
     "data": {
      "text/plain": [
       "[2746, 2746, 2746, 2746, 2746]"
      ]
     },
     "execution_count": 22,
     "metadata": {},
     "output_type": "execute_result"
    }
   ],
   "source": [
    "# All sequences seem to have the same length!\n",
    "\n",
    "[len(f) for f in fasta]"
   ]
  },
  {
   "cell_type": "code",
   "execution_count": 51,
   "id": "df95c12c-3a97-4dcb-a2dc-7091ac0be647",
   "metadata": {
    "execution": {
     "iopub.execute_input": "2023-09-19T13:25:25.636436Z",
     "iopub.status.busy": "2023-09-19T13:25:25.636436Z",
     "iopub.status.idle": "2023-09-19T13:25:25.643436Z",
     "shell.execute_reply": "2023-09-19T13:25:25.643436Z",
     "shell.execute_reply.started": "2023-09-19T13:25:25.636436Z"
    }
   },
   "outputs": [],
   "source": [
    "seqarrays = [np.array([letter for letter in f]) for f in fasta]"
   ]
  },
  {
   "cell_type": "code",
   "execution_count": 52,
   "id": "f9006a6e-6c20-4fd2-ac7d-f481bbb07d88",
   "metadata": {
    "execution": {
     "iopub.execute_input": "2023-09-19T13:25:26.344801Z",
     "iopub.status.busy": "2023-09-19T13:25:26.344801Z",
     "iopub.status.idle": "2023-09-19T13:25:26.350639Z",
     "shell.execute_reply": "2023-09-19T13:25:26.350639Z",
     "shell.execute_reply.started": "2023-09-19T13:25:26.344801Z"
    }
   },
   "outputs": [],
   "source": [
    "seqpairs = list(combinations(seqarrays, r = 2))"
   ]
  },
  {
   "cell_type": "code",
   "execution_count": 53,
   "id": "99404d4c-f6d5-4617-93de-6af57780b539",
   "metadata": {
    "execution": {
     "iopub.execute_input": "2023-09-19T13:25:26.740303Z",
     "iopub.status.busy": "2023-09-19T13:25:26.736290Z",
     "iopub.status.idle": "2023-09-19T13:25:26.745664Z",
     "shell.execute_reply": "2023-09-19T13:25:26.745664Z",
     "shell.execute_reply.started": "2023-09-19T13:25:26.740303Z"
    }
   },
   "outputs": [
    {
     "data": {
      "text/plain": [
       "[37, 44, 12, 5, 7, 39, 32, 42, 39, 7]"
      ]
     },
     "execution_count": 53,
     "metadata": {},
     "output_type": "execute_result"
    }
   ],
   "source": [
    "# There are differences.\n",
    "\n",
    "[(sp[0] != sp[1]).sum() for sp in seqpairs]"
   ]
  },
  {
   "cell_type": "code",
   "execution_count": 42,
   "id": "e9377e03-48af-41c4-a9a8-d1a815275333",
   "metadata": {
    "execution": {
     "iopub.execute_input": "2023-09-19T14:55:43.061844Z",
     "iopub.status.busy": "2023-09-19T14:55:43.061844Z",
     "iopub.status.idle": "2023-09-19T14:55:43.066423Z",
     "shell.execute_reply": "2023-09-19T14:55:43.066423Z",
     "shell.execute_reply.started": "2023-09-19T14:55:43.061844Z"
    }
   },
   "outputs": [],
   "source": [
    "# https://ictv.global/report/chapter/geminiviridae/geminiviridae/begomovirus"
   ]
  },
  {
   "cell_type": "code",
   "execution_count": 40,
   "id": "c9e35bfb-ca67-4517-a61d-bad731620f12",
   "metadata": {
    "execution": {
     "iopub.execute_input": "2023-09-19T14:55:21.791812Z",
     "iopub.status.busy": "2023-09-19T14:55:21.791812Z",
     "iopub.status.idle": "2023-09-19T14:55:22.188158Z",
     "shell.execute_reply": "2023-09-19T14:55:22.188158Z",
     "shell.execute_reply.started": "2023-09-19T14:55:21.791812Z"
    }
   },
   "outputs": [],
   "source": [
    "# Copy pasted the HTML manually from Firefox. _|_ lazy loads.\n",
    "\n",
    "with open(\"./data/Genus Begomovirus ICTV.html\", mode = \"r\", encoding = \"utf8\") as html:\n",
    "    content = html.read()\n",
    "    soup = BeautifulSoup(content, \"html.parser\")"
   ]
  },
  {
   "cell_type": "code",
   "execution_count": 67,
   "id": "b3706930-5c24-456a-b22a-d5fa3c8b1728",
   "metadata": {
    "execution": {
     "iopub.execute_input": "2023-09-19T14:59:24.319452Z",
     "iopub.status.busy": "2023-09-19T14:59:24.319452Z",
     "iopub.status.idle": "2023-09-19T14:59:24.347098Z",
     "shell.execute_reply": "2023-09-19T14:59:24.346582Z",
     "shell.execute_reply.started": "2023-09-19T14:59:24.319452Z"
    }
   },
   "outputs": [],
   "source": [
    "table = soup.find_all(\"table\", attrs = {\"class\" : \"virus-isolates-table\"})[0]"
   ]
  },
  {
   "cell_type": "code",
   "execution_count": 68,
   "id": "a9db8c3b-52f0-47b1-8b9c-abb2cfcaa13d",
   "metadata": {
    "execution": {
     "iopub.execute_input": "2023-09-19T14:59:25.136502Z",
     "iopub.status.busy": "2023-09-19T14:59:25.136502Z",
     "iopub.status.idle": "2023-09-19T14:59:25.145442Z",
     "shell.execute_reply": "2023-09-19T14:59:25.145442Z",
     "shell.execute_reply.started": "2023-09-19T14:59:25.136502Z"
    }
   },
   "outputs": [
    {
     "data": {
      "text/plain": [
       "2"
      ]
     },
     "execution_count": 68,
     "metadata": {},
     "output_type": "execute_result"
    }
   ],
   "source": [
    "len(table)"
   ]
  },
  {
   "cell_type": "code",
   "execution_count": 87,
   "id": "3735aa59-980d-4b17-ba12-8fb23a5b0df9",
   "metadata": {
    "execution": {
     "iopub.execute_input": "2023-09-19T15:06:24.017605Z",
     "iopub.status.busy": "2023-09-19T15:06:24.017605Z",
     "iopub.status.idle": "2023-09-19T15:06:24.040086Z",
     "shell.execute_reply": "2023-09-19T15:06:24.040086Z",
     "shell.execute_reply.started": "2023-09-19T15:06:24.017605Z"
    }
   },
   "outputs": [
    {
     "data": {
      "text/plain": [
       "['',\n",
       " 'Genus',\n",
       " 'Subgenus',\n",
       " 'Species',\n",
       " 'Virus name',\n",
       " 'Isolate',\n",
       " 'Accession',\n",
       " 'Available sequence',\n",
       " 'Abbrev.']"
      ]
     },
     "execution_count": 87,
     "metadata": {},
     "output_type": "execute_result"
    }
   ],
   "source": [
    "headers = [th.text for th in table.find_all(\"th\")]\n",
    "headers"
   ]
  },
  {
   "cell_type": "code",
   "execution_count": 88,
   "id": "70129864-da12-47f2-89c9-691a3d03de62",
   "metadata": {
    "execution": {
     "iopub.execute_input": "2023-09-19T15:07:35.727403Z",
     "iopub.status.busy": "2023-09-19T15:07:35.727403Z",
     "iopub.status.idle": "2023-09-19T15:07:35.739449Z",
     "shell.execute_reply": "2023-09-19T15:07:35.739289Z",
     "shell.execute_reply.started": "2023-09-19T15:07:35.727403Z"
    }
   },
   "outputs": [],
   "source": [
    "table_dict = {\n",
    "    \"Species\": [],\n",
    "    \"Virus name\": [],\n",
    "    \"Isolate\": [],\n",
    "    \"Accession\": [],\n",
    "    \"Available sequence\": [],\n",
    "    \"Abbrev\":[]\n",
    "}"
   ]
  },
  {
   "cell_type": "code",
   "execution_count": 105,
   "id": "b1738165-c8ff-46bf-9aff-b45b61a5a586",
   "metadata": {
    "execution": {
     "iopub.execute_input": "2023-09-19T15:20:44.942352Z",
     "iopub.status.busy": "2023-09-19T15:20:44.942352Z",
     "iopub.status.idle": "2023-09-19T15:20:44.953210Z",
     "shell.execute_reply": "2023-09-19T15:20:44.953089Z",
     "shell.execute_reply.started": "2023-09-19T15:20:44.942352Z"
    }
   },
   "outputs": [
    {
     "data": {
      "text/plain": [
       "['',\n",
       " 'Genus',\n",
       " 'Subgenus',\n",
       " 'Species',\n",
       " 'Virus name',\n",
       " 'Isolate',\n",
       " 'Accession',\n",
       " 'Available sequence',\n",
       " 'Abbrev.']"
      ]
     },
     "execution_count": 105,
     "metadata": {},
     "output_type": "execute_result"
    }
   ],
   "source": [
    "[th.text for th in table.find_all(\"tr\")[0].find_all(\"th\")]"
   ]
  },
  {
   "cell_type": "code",
   "execution_count": 108,
   "id": "81ec6a93-440e-4262-92aa-781919fd7604",
   "metadata": {
    "execution": {
     "iopub.execute_input": "2023-09-19T15:23:20.001644Z",
     "iopub.status.busy": "2023-09-19T15:23:20.001644Z",
     "iopub.status.idle": "2023-09-19T15:23:20.010450Z",
     "shell.execute_reply": "2023-09-19T15:23:20.010450Z",
     "shell.execute_reply.started": "2023-09-19T15:23:20.001644Z"
    }
   },
   "outputs": [
    {
     "data": {
      "text/plain": [
       "{'Species': [],\n",
       " 'Virus name': [],\n",
       " 'Isolate': [],\n",
       " 'Accession': [],\n",
       " 'Available sequence': [],\n",
       " 'Abbrev': []}"
      ]
     },
     "execution_count": 108,
     "metadata": {},
     "output_type": "execute_result"
    }
   ],
   "source": [
    "table_dict"
   ]
  },
  {
   "cell_type": "code",
   "execution_count": 110,
   "id": "74519f56-17ad-4cff-bebf-9cb65029bb88",
   "metadata": {
    "execution": {
     "iopub.execute_input": "2023-09-19T15:24:25.886737Z",
     "iopub.status.busy": "2023-09-19T15:24:25.886737Z",
     "iopub.status.idle": "2023-09-19T15:24:26.015515Z",
     "shell.execute_reply": "2023-09-19T15:24:26.015515Z",
     "shell.execute_reply.started": "2023-09-19T15:24:25.886737Z"
    }
   },
   "outputs": [],
   "source": [
    "# Except for the row with table headers, there seems to be two kinds of table rows.\n",
    "# 1) <tr class=\"virus-row\">\n",
    "# 2) <tr class=\"alt-virus-row\">\n",
    "\n",
    "counter = 0\n",
    "for tr in table.find_all(\"tr\"):\n",
    "    if counter == 0:\n",
    "        counter += 1\n",
    "        continue\n",
    "    else:\n",
    "        table_dict[\"Species\"].append(tr.find(\"td\", attrs = {\"class\": \"col-species\"}).text)\n",
    "        table_dict[\"Virus name\"].append(tr.find(\"td\", attrs = {\"class\": \"col-alternativeNameCSV\"}).text)\n",
    "        table_dict[\"Isolate\"].append(tr.find(\"td\", attrs = {\"class\": \"col-isolate\"}).text)\n",
    "        table_dict[\"Accession\"].append(tr.find(\"td\", attrs = {\"class\": \"col-accessionNumber\"}).text)\n",
    "        table_dict[\"Available sequence\"].append(tr.find(\"td\", attrs = {\"class\": \"col-availableSequence\"}).text)\n",
    "        table_dict[\"Abbrev\"].append(tr.find(\"td\", attrs = {\"class\": \"col-abbrev\"}).text)\n",
    "        counter += 1"
   ]
  },
  {
   "cell_type": "code",
   "execution_count": 113,
   "id": "7dd7aff2-0fab-4991-b91c-c0282c3b8739",
   "metadata": {
    "execution": {
     "iopub.execute_input": "2023-09-19T15:25:31.943879Z",
     "iopub.status.busy": "2023-09-19T15:25:31.943879Z",
     "iopub.status.idle": "2023-09-19T15:25:31.948301Z",
     "shell.execute_reply": "2023-09-19T15:25:31.948301Z",
     "shell.execute_reply.started": "2023-09-19T15:25:31.943879Z"
    }
   },
   "outputs": [],
   "source": [
    "begomovirus = pd.DataFrame(table_dict)"
   ]
  },
  {
   "cell_type": "code",
   "execution_count": 114,
   "id": "bc2992f6-3dad-46b6-927c-1195d3f7a1c2",
   "metadata": {
    "execution": {
     "iopub.execute_input": "2023-09-19T15:27:13.612644Z",
     "iopub.status.busy": "2023-09-19T15:27:13.612644Z",
     "iopub.status.idle": "2023-09-19T15:27:13.659251Z",
     "shell.execute_reply": "2023-09-19T15:27:13.659251Z",
     "shell.execute_reply.started": "2023-09-19T15:27:13.612644Z"
    }
   },
   "outputs": [],
   "source": [
    "begomovirus.to_csv(\"./data/begomovirus_ictv.csv\", sep = ',', header = True, index = False, mode = \"w\")"
   ]
  },
  {
   "cell_type": "code",
   "execution_count": null,
   "id": "ec7c4ed4-16f6-46b6-bd05-e7b5b08ee132",
   "metadata": {},
   "outputs": [],
   "source": []
  },
  {
   "cell_type": "code",
   "execution_count": null,
   "id": "29d8eed5-9542-46f5-9ee8-1446920a411d",
   "metadata": {},
   "outputs": [],
   "source": []
  },
  {
   "cell_type": "code",
   "execution_count": 2,
   "id": "e9aba5af-a971-4c37-bafc-4d508347f6ea",
   "metadata": {
    "execution": {
     "iopub.execute_input": "2023-09-19T15:35:40.414175Z",
     "iopub.status.busy": "2023-09-19T15:35:40.414175Z",
     "iopub.status.idle": "2023-09-19T15:35:40.426063Z",
     "shell.execute_reply": "2023-09-19T15:35:40.425946Z",
     "shell.execute_reply.started": "2023-09-19T15:35:40.414175Z"
    }
   },
   "outputs": [],
   "source": [
    "ictv_begomo = pd.read_csv(\"./data/begomovirus_ictv.csv\")"
   ]
  },
  {
   "cell_type": "code",
   "execution_count": 13,
   "id": "d92db59c-79b9-420f-9ba0-b8da45f8d4d7",
   "metadata": {
    "execution": {
     "iopub.execute_input": "2023-09-19T15:39:59.819724Z",
     "iopub.status.busy": "2023-09-19T15:39:59.819724Z",
     "iopub.status.idle": "2023-09-19T15:39:59.835125Z",
     "shell.execute_reply": "2023-09-19T15:39:59.835125Z",
     "shell.execute_reply.started": "2023-09-19T15:39:59.819724Z"
    }
   },
   "outputs": [],
   "source": [
    "ind = np.array([True if \"cassava\" in name.lower() else False for name in ictv_begomo[\"Virus name\"].values])"
   ]
  },
  {
   "cell_type": "code",
   "execution_count": 18,
   "id": "e478dcbc-ec7d-4fdb-a6a8-05b7477bac72",
   "metadata": {
    "execution": {
     "iopub.execute_input": "2023-09-19T15:41:43.232996Z",
     "iopub.status.busy": "2023-09-19T15:41:43.232996Z",
     "iopub.status.idle": "2023-09-19T15:41:43.255375Z",
     "shell.execute_reply": "2023-09-19T15:41:43.254359Z",
     "shell.execute_reply.started": "2023-09-19T15:41:43.232996Z"
    }
   },
   "outputs": [],
   "source": [
    "ictv_begomo.loc[ind, :].to_csv(\"./data/cassava_filtered.csv\", sep = ',', header = True, index = False, mode = \"w\")"
   ]
  },
  {
   "cell_type": "code",
   "execution_count": null,
   "id": "6bb37ce5-75bd-4963-a242-fabceb1ed586",
   "metadata": {},
   "outputs": [],
   "source": []
  },
  {
   "cell_type": "code",
   "execution_count": 3,
   "id": "a86df455-c122-4a06-b7a7-64c31718f334",
   "metadata": {
    "execution": {
     "iopub.execute_input": "2023-09-20T00:44:36.092681Z",
     "iopub.status.busy": "2023-09-20T00:44:36.092681Z",
     "iopub.status.idle": "2023-09-20T00:44:36.113390Z",
     "shell.execute_reply": "2023-09-20T00:44:36.112878Z",
     "shell.execute_reply.started": "2023-09-20T00:44:36.092681Z"
    }
   },
   "outputs": [],
   "source": [
    "begomo = pd.read_csv(\"./data/begomovirus_ictv.csv\")"
   ]
  },
  {
   "cell_type": "code",
   "execution_count": 4,
   "id": "dd0ba5ec-a5fe-45f9-a372-ccb995d46a4f",
   "metadata": {
    "execution": {
     "iopub.execute_input": "2023-09-20T00:44:49.519242Z",
     "iopub.status.busy": "2023-09-20T00:44:49.519242Z",
     "iopub.status.idle": "2023-09-20T00:44:49.529012Z",
     "shell.execute_reply": "2023-09-20T00:44:49.528422Z",
     "shell.execute_reply.started": "2023-09-20T00:44:49.519242Z"
    }
   },
   "outputs": [
    {
     "data": {
      "text/plain": [
       "Index(['Species', 'Virus name', 'Isolate', 'Accession', 'Available sequence',\n",
       "       'Abbrev'],\n",
       "      dtype='object')"
      ]
     },
     "execution_count": 4,
     "metadata": {},
     "output_type": "execute_result"
    }
   ],
   "source": [
    "begomo.columns"
   ]
  },
  {
   "cell_type": "code",
   "execution_count": 11,
   "id": "68d384c8-e54d-4852-9edb-aed711c9de6f",
   "metadata": {
    "execution": {
     "iopub.execute_input": "2023-09-20T00:45:55.277872Z",
     "iopub.status.busy": "2023-09-20T00:45:55.277872Z",
     "iopub.status.idle": "2023-09-20T00:45:55.339965Z",
     "shell.execute_reply": "2023-09-20T00:45:55.339965Z",
     "shell.execute_reply.started": "2023-09-20T00:45:55.277872Z"
    }
   },
   "outputs": [
    {
     "data": {
      "text/html": [
       "<div>\n",
       "<style scoped>\n",
       "    .dataframe tbody tr th:only-of-type {\n",
       "        vertical-align: middle;\n",
       "    }\n",
       "\n",
       "    .dataframe tbody tr th {\n",
       "        vertical-align: top;\n",
       "    }\n",
       "\n",
       "    .dataframe thead th {\n",
       "        text-align: right;\n",
       "    }\n",
       "</style>\n",
       "<table border=\"1\" class=\"dataframe\">\n",
       "  <thead>\n",
       "    <tr style=\"text-align: right;\">\n",
       "      <th></th>\n",
       "      <th>Species</th>\n",
       "      <th>Virus name</th>\n",
       "      <th>Isolate</th>\n",
       "      <th>Accession</th>\n",
       "      <th>Available sequence</th>\n",
       "      <th>Abbrev</th>\n",
       "    </tr>\n",
       "  </thead>\n",
       "  <tbody>\n",
       "    <tr>\n",
       "      <th>4</th>\n",
       "      <td>African cassava mosaic Burkina Faso virus</td>\n",
       "      <td>African cassava mosaic Burkina Faso virus</td>\n",
       "      <td>BF-Oua-127-08</td>\n",
       "      <td>DNA-A: HE616777;DNA-B: HE616778</td>\n",
       "      <td>Complete genome</td>\n",
       "      <td>ACMBFV</td>\n",
       "    </tr>\n",
       "    <tr>\n",
       "      <th>5</th>\n",
       "      <td>African cassava mosaic virus</td>\n",
       "      <td>African cassava mosaic virus</td>\n",
       "      <td>Cameroon/1998</td>\n",
       "      <td>DNA-A: J02057;DNA-B: J02058</td>\n",
       "      <td>Complete genome</td>\n",
       "      <td>ACMV</td>\n",
       "    </tr>\n",
       "    <tr>\n",
       "      <th>58</th>\n",
       "      <td>Cassava mosaic Madagascar virus</td>\n",
       "      <td>cassava mosaic Madagascar virus</td>\n",
       "      <td>Madgascar/Toliary/2006</td>\n",
       "      <td>DNA-A: HE617299;DNA-B: HE617300</td>\n",
       "      <td>Complete genome</td>\n",
       "      <td>CMMGV</td>\n",
       "    </tr>\n",
       "    <tr>\n",
       "      <th>147</th>\n",
       "      <td>East African cassava mosaic Cameroon virus</td>\n",
       "      <td>East African cassava mosaic Cameroon virus</td>\n",
       "      <td>Cameroon/1998</td>\n",
       "      <td>DNA-A: AF112354;DNA-B: AF112355</td>\n",
       "      <td>Complete genome</td>\n",
       "      <td>EACMCMV</td>\n",
       "    </tr>\n",
       "    <tr>\n",
       "      <th>148</th>\n",
       "      <td>East African cassava mosaic Kenya virus</td>\n",
       "      <td>East African cassava mosaic Kenya virus</td>\n",
       "      <td>Kenya/Mitaboni/K298/2002</td>\n",
       "      <td>DNA-A: AJ717572;DNA-B: AJ704971</td>\n",
       "      <td>Complete genome</td>\n",
       "      <td>EACMKV</td>\n",
       "    </tr>\n",
       "    <tr>\n",
       "      <th>149</th>\n",
       "      <td>East African cassava mosaic Malawi virus</td>\n",
       "      <td>East African cassava mosaic Malawi virus</td>\n",
       "      <td>Malawi/K/1996</td>\n",
       "      <td>DNA-A: AJ006460</td>\n",
       "      <td>Complete genome</td>\n",
       "      <td>EACMMV</td>\n",
       "    </tr>\n",
       "    <tr>\n",
       "      <th>150</th>\n",
       "      <td>East African cassava mosaic virus</td>\n",
       "      <td>East African cassava mosaic virus</td>\n",
       "      <td>Uganda/Severe 2/1997/Uganda</td>\n",
       "      <td>DNA-A: AF126806;DNA-B: AF126807</td>\n",
       "      <td>Complete genome</td>\n",
       "      <td>EACMV/UG</td>\n",
       "    </tr>\n",
       "    <tr>\n",
       "      <th>151</th>\n",
       "      <td>East African cassava mosaic virus</td>\n",
       "      <td>East African cassava mosaic virus</td>\n",
       "      <td>Kenya/Boa/K48/2001/Kenya</td>\n",
       "      <td>DNA-A: AJ717542;DNA-B: AJ704949</td>\n",
       "      <td>Complete genome</td>\n",
       "      <td>EACMV/KE</td>\n",
       "    </tr>\n",
       "    <tr>\n",
       "      <th>152</th>\n",
       "      <td>East African cassava mosaic virus</td>\n",
       "      <td>East African cassava mosaic virus</td>\n",
       "      <td>Malawi/8N/2007/Malawi</td>\n",
       "      <td>JX473582</td>\n",
       "      <td>Complete genome</td>\n",
       "      <td>EACMV/MW</td>\n",
       "    </tr>\n",
       "    <tr>\n",
       "      <th>153</th>\n",
       "      <td>East African cassava mosaic virus</td>\n",
       "      <td>East African cassava mosaic virus</td>\n",
       "      <td>Tanzania/1/2001/Tanzania</td>\n",
       "      <td>DNA-A: AY795983;DNA-B: AY795989</td>\n",
       "      <td>Complete genome</td>\n",
       "      <td>EACMV/TZ</td>\n",
       "    </tr>\n",
       "    <tr>\n",
       "      <th>154</th>\n",
       "      <td>East African cassava mosaic Zanzibar virus</td>\n",
       "      <td>East African cassava mosaic Zanzibar virus</td>\n",
       "      <td>Tanzania/Uguja/1998</td>\n",
       "      <td>DNA-A: AF422174;DNA-B: AF422175</td>\n",
       "      <td>Complete genome</td>\n",
       "      <td>EACMZV</td>\n",
       "    </tr>\n",
       "    <tr>\n",
       "      <th>198</th>\n",
       "      <td>Indian cassava mosaic virus</td>\n",
       "      <td>Indian cassava mosaic virus</td>\n",
       "      <td>India/Trivandrum/1986/India</td>\n",
       "      <td>DNA-A: Z24758;DNA-B: Z24759</td>\n",
       "      <td>Complete genome</td>\n",
       "      <td>ICMV/IN</td>\n",
       "    </tr>\n",
       "    <tr>\n",
       "      <th>199</th>\n",
       "      <td>Indian cassava mosaic virus</td>\n",
       "      <td>Indian cassava mosaic virus</td>\n",
       "      <td>India/Maharashtra/2009</td>\n",
       "      <td>DNA-A: JF496657</td>\n",
       "      <td>Complete genome</td>\n",
       "      <td>ICMV</td>\n",
       "    </tr>\n",
       "    <tr>\n",
       "      <th>200</th>\n",
       "      <td>Indian cassava mosaic virus</td>\n",
       "      <td>Indian cassava mosaic virus</td>\n",
       "      <td>India/Dhawad/2008/Jatropha</td>\n",
       "      <td>DNA-A: GQ924760;DNA-B: GQ924761</td>\n",
       "      <td>Complete genome</td>\n",
       "      <td>ICMV/Jat</td>\n",
       "    </tr>\n",
       "    <tr>\n",
       "      <th>201</th>\n",
       "      <td>Indian cassava mosaic virus</td>\n",
       "      <td>Indian cassava mosaic virus</td>\n",
       "      <td>India/Kerala 2/2002/Kerala</td>\n",
       "      <td>DNA-A: AJ575819</td>\n",
       "      <td>Complete genome</td>\n",
       "      <td>ICMV/Ker</td>\n",
       "    </tr>\n",
       "    <tr>\n",
       "      <th>393</th>\n",
       "      <td>South African cassava mosaic virus</td>\n",
       "      <td>South African cassava mosaic virus</td>\n",
       "      <td>South Africa</td>\n",
       "      <td>DNA-A: AF155806;DNA-B: AF155807</td>\n",
       "      <td>Complete genome</td>\n",
       "      <td>SACMV</td>\n",
       "    </tr>\n",
       "    <tr>\n",
       "      <th>407</th>\n",
       "      <td>Sri Lankan cassava mosaic virus</td>\n",
       "      <td>Sri Lankan cassava mosaic virus</td>\n",
       "      <td>Sri Lanka/Colombo/1998/Sri Lanka</td>\n",
       "      <td>DNA-A: AJ314737;DNA-B: AJ314738</td>\n",
       "      <td>Complete genome</td>\n",
       "      <td>SLCMV/LK</td>\n",
       "    </tr>\n",
       "    <tr>\n",
       "      <th>408</th>\n",
       "      <td>Sri Lankan cassava mosaic virus</td>\n",
       "      <td>Sri Lankan cassava mosaic virus</td>\n",
       "      <td>India/Adivaram/2003/India</td>\n",
       "      <td>DNA-A: AJ579307</td>\n",
       "      <td>Complete genome</td>\n",
       "      <td>SLCMV/IN</td>\n",
       "    </tr>\n",
       "  </tbody>\n",
       "</table>\n",
       "</div>"
      ],
      "text/plain": [
       "                                        Species  \\\n",
       "4     African cassava mosaic Burkina Faso virus   \n",
       "5                  African cassava mosaic virus   \n",
       "58              Cassava mosaic Madagascar virus   \n",
       "147  East African cassava mosaic Cameroon virus   \n",
       "148     East African cassava mosaic Kenya virus   \n",
       "149    East African cassava mosaic Malawi virus   \n",
       "150           East African cassava mosaic virus   \n",
       "151           East African cassava mosaic virus   \n",
       "152           East African cassava mosaic virus   \n",
       "153           East African cassava mosaic virus   \n",
       "154  East African cassava mosaic Zanzibar virus   \n",
       "198                 Indian cassava mosaic virus   \n",
       "199                 Indian cassava mosaic virus   \n",
       "200                 Indian cassava mosaic virus   \n",
       "201                 Indian cassava mosaic virus   \n",
       "393          South African cassava mosaic virus   \n",
       "407             Sri Lankan cassava mosaic virus   \n",
       "408             Sri Lankan cassava mosaic virus   \n",
       "\n",
       "                                     Virus name  \\\n",
       "4     African cassava mosaic Burkina Faso virus   \n",
       "5                  African cassava mosaic virus   \n",
       "58              cassava mosaic Madagascar virus   \n",
       "147  East African cassava mosaic Cameroon virus   \n",
       "148     East African cassava mosaic Kenya virus   \n",
       "149    East African cassava mosaic Malawi virus   \n",
       "150           East African cassava mosaic virus   \n",
       "151           East African cassava mosaic virus   \n",
       "152           East African cassava mosaic virus   \n",
       "153           East African cassava mosaic virus   \n",
       "154  East African cassava mosaic Zanzibar virus   \n",
       "198                 Indian cassava mosaic virus   \n",
       "199                 Indian cassava mosaic virus   \n",
       "200                 Indian cassava mosaic virus   \n",
       "201                 Indian cassava mosaic virus   \n",
       "393          South African cassava mosaic virus   \n",
       "407             Sri Lankan cassava mosaic virus   \n",
       "408             Sri Lankan cassava mosaic virus   \n",
       "\n",
       "                              Isolate                        Accession  \\\n",
       "4                       BF-Oua-127-08  DNA-A: HE616777;DNA-B: HE616778   \n",
       "5                       Cameroon/1998      DNA-A: J02057;DNA-B: J02058   \n",
       "58             Madgascar/Toliary/2006  DNA-A: HE617299;DNA-B: HE617300   \n",
       "147                     Cameroon/1998  DNA-A: AF112354;DNA-B: AF112355   \n",
       "148          Kenya/Mitaboni/K298/2002  DNA-A: AJ717572;DNA-B: AJ704971   \n",
       "149                     Malawi/K/1996                  DNA-A: AJ006460   \n",
       "150       Uganda/Severe 2/1997/Uganda  DNA-A: AF126806;DNA-B: AF126807   \n",
       "151          Kenya/Boa/K48/2001/Kenya  DNA-A: AJ717542;DNA-B: AJ704949   \n",
       "152             Malawi/8N/2007/Malawi                         JX473582   \n",
       "153          Tanzania/1/2001/Tanzania  DNA-A: AY795983;DNA-B: AY795989   \n",
       "154               Tanzania/Uguja/1998  DNA-A: AF422174;DNA-B: AF422175   \n",
       "198       India/Trivandrum/1986/India      DNA-A: Z24758;DNA-B: Z24759   \n",
       "199            India/Maharashtra/2009                  DNA-A: JF496657   \n",
       "200        India/Dhawad/2008/Jatropha  DNA-A: GQ924760;DNA-B: GQ924761   \n",
       "201        India/Kerala 2/2002/Kerala                  DNA-A: AJ575819   \n",
       "393                      South Africa  DNA-A: AF155806;DNA-B: AF155807   \n",
       "407  Sri Lanka/Colombo/1998/Sri Lanka  DNA-A: AJ314737;DNA-B: AJ314738   \n",
       "408         India/Adivaram/2003/India                  DNA-A: AJ579307   \n",
       "\n",
       "    Available sequence    Abbrev  \n",
       "4      Complete genome    ACMBFV  \n",
       "5      Complete genome      ACMV  \n",
       "58     Complete genome     CMMGV  \n",
       "147    Complete genome   EACMCMV  \n",
       "148    Complete genome    EACMKV  \n",
       "149    Complete genome    EACMMV  \n",
       "150    Complete genome  EACMV/UG  \n",
       "151    Complete genome  EACMV/KE  \n",
       "152    Complete genome  EACMV/MW  \n",
       "153    Complete genome  EACMV/TZ  \n",
       "154    Complete genome    EACMZV  \n",
       "198    Complete genome   ICMV/IN  \n",
       "199    Complete genome      ICMV  \n",
       "200    Complete genome  ICMV/Jat  \n",
       "201    Complete genome  ICMV/Ker  \n",
       "393    Complete genome     SACMV  \n",
       "407    Complete genome  SLCMV/LK  \n",
       "408    Complete genome  SLCMV/IN  "
      ]
     },
     "execution_count": 11,
     "metadata": {},
     "output_type": "execute_result"
    }
   ],
   "source": [
    "begomo.loc[begomo.Species.str.contains(\"cassava\", case = False), :]"
   ]
  },
  {
   "cell_type": "code",
   "execution_count": 12,
   "id": "613111ba-1540-4f77-92fe-060aede186d4",
   "metadata": {
    "execution": {
     "iopub.execute_input": "2023-09-20T00:46:26.380404Z",
     "iopub.status.busy": "2023-09-20T00:46:26.379353Z",
     "iopub.status.idle": "2023-09-20T00:46:26.387421Z",
     "shell.execute_reply": "2023-09-20T00:46:26.387421Z",
     "shell.execute_reply.started": "2023-09-20T00:46:26.380404Z"
    }
   },
   "outputs": [
    {
     "data": {
      "text/plain": [
       "(18, 6)"
      ]
     },
     "execution_count": 12,
     "metadata": {},
     "output_type": "execute_result"
    }
   ],
   "source": [
    "begomo.loc[begomo.Species.str.contains(\"cassava\", case = False), :].shape"
   ]
  },
  {
   "cell_type": "code",
   "execution_count": null,
   "id": "c5d34181-4d61-4a88-8cc1-c439aacdbfd8",
   "metadata": {},
   "outputs": [],
   "source": []
  },
  {
   "cell_type": "code",
   "execution_count": null,
   "id": "0c190a70-fb5a-42b9-98c9-d61785a4a824",
   "metadata": {},
   "outputs": [],
   "source": [
    "# https://www.ncbi.nlm.nih.gov/sviewer/viewer.cgi?tool=portal&save=file&log$=seqview&db=nuccore&report=fasta&id=89330928&conwithfeat=on&withparts=on&show-sequence=on&hide-cdd=on&ncbi_phid=CE8AC93650A0D641000000000A89088C"
   ]
  }
 ],
 "metadata": {
  "kernelspec": {
   "display_name": "Python 3 (ipykernel)",
   "language": "python",
   "name": "python3"
  },
  "language_info": {
   "codemirror_mode": {
    "name": "ipython",
    "version": 3
   },
   "file_extension": ".py",
   "mimetype": "text/x-python",
   "name": "python",
   "nbconvert_exporter": "python",
   "pygments_lexer": "ipython3",
   "version": "3.11.5"
  }
 },
 "nbformat": 4,
 "nbformat_minor": 5
}
