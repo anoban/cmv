{
 "cells": [
  {
   "cell_type": "code",
   "execution_count": 17,
   "id": "e2ecd13a-3772-4a18-bb26-9faa21f40c60",
   "metadata": {
    "execution": {
     "iopub.execute_input": "2024-01-23T04:02:17.535100Z",
     "iopub.status.busy": "2024-01-23T04:02:17.535100Z",
     "iopub.status.idle": "2024-01-23T04:02:17.541478Z",
     "shell.execute_reply": "2024-01-23T04:02:17.541478Z",
     "shell.execute_reply.started": "2024-01-23T04:02:17.535100Z"
    }
   },
   "outputs": [],
   "source": [
    "import typing"
   ]
  },
  {
   "cell_type": "code",
   "execution_count": 1,
   "id": "0f7f6062-d001-4d96-8f95-796452a325d1",
   "metadata": {
    "execution": {
     "iopub.execute_input": "2024-01-23T03:47:01.856934Z",
     "iopub.status.busy": "2024-01-23T03:47:01.856934Z",
     "iopub.status.idle": "2024-01-23T03:47:01.862110Z",
     "shell.execute_reply": "2024-01-23T03:47:01.861245Z",
     "shell.execute_reply.started": "2024-01-23T03:47:01.856934Z"
    }
   },
   "outputs": [],
   "source": [
    "# DNA-A primers\n",
    "\n",
    "# OY2395F 5'-GCTCCCTGAATGTTCGGATGGA-3'\n",
    "# OY680R 5'-GTTCTCRTCCATCCATATCTTAC-3'\n",
    "# MKBEGF4 5'-ATATCTGCAGGGNAARATHTGGATGGA-3'\n",
    "# MKBEGR5 5'-TGGACTGCAGACNGGNAARACNATGTGGGC-3'\n",
    "# GEMA1223F 5'-GTCGGAGGSTGTAAGGTCGTCCAG-3'\n",
    "# GEMA2454R 5'-CTCACWTAYCHCAARTGCTCTC-3'"
   ]
  },
  {
   "cell_type": "code",
   "execution_count": 12,
   "id": "54501370-c091-4804-9a3d-2e10e09096ce",
   "metadata": {
    "execution": {
     "iopub.execute_input": "2024-01-23T03:50:05.257899Z",
     "iopub.status.busy": "2024-01-23T03:50:05.257899Z",
     "iopub.status.idle": "2024-01-23T03:50:05.265552Z",
     "shell.execute_reply": "2024-01-23T03:50:05.264362Z",
     "shell.execute_reply.started": "2024-01-23T03:50:05.257899Z"
    }
   },
   "outputs": [],
   "source": [
    "primers = [\"GCTCCCTGAATGTTCGGATGGA\", \"GTTCTCRTCCATCCATATCTTAC\", \"ATATCTGCAGGGNAARATHTGGATGGA\", \"TGGACTGCAGACNGGNAARACNATGTGGGC\", \n",
    "            \"GTCGGAGGSTGTAAGGTCGTCCAG\", \"CTCACWTAYCHCAARTGCTCTC\"]"
   ]
  },
  {
   "cell_type": "code",
   "execution_count": 27,
   "id": "bbd3552a-69da-4682-b511-39da833f1131",
   "metadata": {
    "execution": {
     "iopub.execute_input": "2024-01-23T04:07:09.054898Z",
     "iopub.status.busy": "2024-01-23T04:07:09.054898Z",
     "iopub.status.idle": "2024-01-23T04:07:09.065905Z",
     "shell.execute_reply": "2024-01-23T04:07:09.064932Z",
     "shell.execute_reply.started": "2024-01-23T04:07:09.054898Z"
    }
   },
   "outputs": [],
   "source": [
    "def unique(sequence: str) -> typing.List[str]:\n",
    "    \"\"\"\n",
    "    \n",
    "    \"\"\"\n",
    "    \n",
    "    bases: typing.List[str] = []\n",
    "    for base in sequence:\n",
    "        if base not in bases:\n",
    "            bases.append(base)\n",
    "    return bases"
   ]
  },
  {
   "cell_type": "code",
   "execution_count": 28,
   "id": "6b7cf08a-fe65-4e08-a838-cc2325bcfeb0",
   "metadata": {
    "execution": {
     "iopub.execute_input": "2024-01-23T04:07:09.558503Z",
     "iopub.status.busy": "2024-01-23T04:07:09.558503Z",
     "iopub.status.idle": "2024-01-23T04:07:09.575717Z",
     "shell.execute_reply": "2024-01-23T04:07:09.574711Z",
     "shell.execute_reply.started": "2024-01-23T04:07:09.558503Z"
    }
   },
   "outputs": [
    {
     "data": {
      "text/plain": [
       "['G', 'C', 'T', 'A', 'R', 'N', 'H', 'S', 'W', 'Y']"
      ]
     },
     "execution_count": 28,
     "metadata": {},
     "output_type": "execute_result"
    }
   ],
   "source": [
    "bases = []\n",
    "\n",
    "for primer in primers:\n",
    "    for base in primer:\n",
    "        if base not in bases:\n",
    "            bases.append(base)\n",
    "\n",
    "bases"
   ]
  },
  {
   "cell_type": "code",
   "execution_count": 39,
   "id": "66be9fe5-9b69-491d-9667-b9fb4dc1f502",
   "metadata": {
    "execution": {
     "iopub.execute_input": "2024-01-23T04:11:32.852476Z",
     "iopub.status.busy": "2024-01-23T04:11:32.836835Z",
     "iopub.status.idle": "2024-01-23T04:11:32.856878Z",
     "shell.execute_reply": "2024-01-23T04:11:32.856552Z",
     "shell.execute_reply.started": "2024-01-23T04:11:32.852476Z"
    }
   },
   "outputs": [],
   "source": [
    "def complement(sequence: str) -> str:\n",
    "    \"\"\"\n",
    "    \n",
    "    \"\"\"\n",
    "\n",
    "    lookup : typing.Dict[str, str]= {'A': 'T', 'T': 'A', 'C': 'G', 'G': 'C', 'R': 'Y', 'Y': 'R', 'N': 'N', 'H': 'D', 'D': 'H', 'S': 'S', 'W': 'W'}\n",
    "    tmp : str = \"\"\n",
    "    for b in sequence:\n",
    "        tmp += lookup.get(b, 'N')\n",
    "    return tmp"
   ]
  },
  {
   "cell_type": "code",
   "execution_count": 40,
   "id": "f08f48ae-9442-4bec-a8dc-a54dca2dc9f5",
   "metadata": {
    "execution": {
     "iopub.execute_input": "2024-01-23T04:11:33.246869Z",
     "iopub.status.busy": "2024-01-23T04:11:33.246869Z",
     "iopub.status.idle": "2024-01-23T04:11:33.254217Z",
     "shell.execute_reply": "2024-01-23T04:11:33.254093Z",
     "shell.execute_reply.started": "2024-01-23T04:11:33.246869Z"
    }
   },
   "outputs": [
    {
     "name": "stdout",
     "output_type": "stream",
     "text": [
      "StarSX\n"
     ]
    },
    {
     "data": {
      "text/plain": [
       "'starsX'"
      ]
     },
     "execution_count": 40,
     "metadata": {},
     "output_type": "execute_result"
    }
   ],
   "source": [
    "x = \"starsX\"\n",
    "print(x.replace('s', 'S'))\n",
    "x"
   ]
  },
  {
   "cell_type": "code",
   "execution_count": 41,
   "id": "35e9381a-6e10-4889-83c2-01355f23db38",
   "metadata": {
    "execution": {
     "iopub.execute_input": "2024-01-23T04:11:33.640768Z",
     "iopub.status.busy": "2024-01-23T04:11:33.640768Z",
     "iopub.status.idle": "2024-01-23T04:11:33.660881Z",
     "shell.execute_reply": "2024-01-23T04:11:33.660881Z",
     "shell.execute_reply.started": "2024-01-23T04:11:33.640768Z"
    }
   },
   "outputs": [
    {
     "data": {
      "text/plain": [
       "['CGAGGGACTTACAAGCCTACCT',\n",
       " 'CAAGAGYAGGTAGGTATAGAATG',\n",
       " 'TATAGACGTCCCNTTYTADACCTACCT',\n",
       " 'ACCTGACGTCTGNCCNTTYTGNTACACCCG',\n",
       " 'CAGCCTCCSACATTCCAGCAGGTC',\n",
       " 'GAGTGWATRGDGTTYACGAGAG']"
      ]
     },
     "execution_count": 41,
     "metadata": {},
     "output_type": "execute_result"
    }
   ],
   "source": [
    "[complement(primer) for primer in primers]"
   ]
  },
  {
   "cell_type": "code",
   "execution_count": null,
   "id": "b28141d8-8be3-40fe-9243-21a5630b2aa0",
   "metadata": {},
   "outputs": [],
   "source": []
  }
 ],
 "metadata": {
  "kernelspec": {
   "display_name": "Python 3 (ipykernel)",
   "language": "python",
   "name": "python3"
  },
  "language_info": {
   "codemirror_mode": {
    "name": "ipython",
    "version": 3
   },
   "file_extension": ".py",
   "mimetype": "text/x-python",
   "name": "python",
   "nbconvert_exporter": "python",
   "pygments_lexer": "ipython3",
   "version": "3.11.7"
  }
 },
 "nbformat": 4,
 "nbformat_minor": 5
}
