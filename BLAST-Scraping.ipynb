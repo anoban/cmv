{
 "cells": [
  {
   "cell_type": "code",
   "execution_count": 29,
   "id": "9901060a-afac-4e94-8251-376b74ba3d06",
   "metadata": {
    "execution": {
     "iopub.execute_input": "2023-09-27T01:58:48.710742Z",
     "iopub.status.busy": "2023-09-27T01:58:48.710742Z",
     "iopub.status.idle": "2023-09-27T01:58:48.716107Z",
     "shell.execute_reply": "2023-09-27T01:58:48.716107Z",
     "shell.execute_reply.started": "2023-09-27T01:58:48.710742Z"
    }
   },
   "outputs": [],
   "source": [
    "import os\n",
    "import pandas as pd\n",
    "from bs4 import BeautifulSoup\n",
    "from urllib import request\n",
    "from selenium import webdriver\n",
    "from selenium.webdriver.common.by import By\n",
    "from selenium.webdriver.support.wait import WebDriverWait\n",
    "from selenium.webdriver.support import expected_conditions as EC\n",
    "import typing\n",
    "import time"
   ]
  },
  {
   "cell_type": "code",
   "execution_count": 26,
   "id": "b7340566-0f7e-4ae5-a14e-196812275693",
   "metadata": {
    "execution": {
     "iopub.execute_input": "2023-09-26T12:00:19.403475Z",
     "iopub.status.busy": "2023-09-26T12:00:19.403475Z",
     "iopub.status.idle": "2023-09-26T12:00:19.410354Z",
     "shell.execute_reply": "2023-09-26T12:00:19.410354Z",
     "shell.execute_reply.started": "2023-09-26T12:00:19.403475Z"
    }
   },
   "outputs": [
    {
     "data": {
      "text/plain": [
       "['NC_003861.html',\n",
       " 'OK362288.html',\n",
       " 'OK377341.html',\n",
       " 'OK377342.html',\n",
       " 'OK377343.html',\n",
       " 'OK424595.html']"
      ]
     },
     "execution_count": 26,
     "metadata": {},
     "output_type": "execute_result"
    }
   ],
   "source": [
    "os.listdir(\"./data/BLAST/\")"
   ]
  },
  {
   "cell_type": "code",
   "execution_count": 21,
   "id": "e03e57e5-3f32-4188-ac19-40a0d872768d",
   "metadata": {
    "execution": {
     "iopub.execute_input": "2023-09-26T11:57:31.111314Z",
     "iopub.status.busy": "2023-09-26T11:57:31.111314Z",
     "iopub.status.idle": "2023-09-26T11:57:32.494497Z",
     "shell.execute_reply": "2023-09-26T11:57:32.494497Z",
     "shell.execute_reply.started": "2023-09-26T11:57:31.111314Z"
    }
   },
   "outputs": [],
   "source": [
    "contents = {}\n",
    "\n",
    "for file in os.listdir(\"./data/BLAST/\"):\n",
    "    with open(\"./data/BLAST/\" + file, 'r') as fp:\n",
    "        contents[file.replace(\".html\", \"\")] = BeautifulSoup(fp.read(), \"html.parser\")"
   ]
  },
  {
   "cell_type": "code",
   "execution_count": 33,
   "id": "1ee8d353-f80d-4352-ad01-c2c6d11a50eb",
   "metadata": {
    "execution": {
     "iopub.execute_input": "2023-09-26T12:03:26.821876Z",
     "iopub.status.busy": "2023-09-26T12:03:26.821876Z",
     "iopub.status.idle": "2023-09-26T12:03:26.837556Z",
     "shell.execute_reply": "2023-09-26T12:03:26.837556Z",
     "shell.execute_reply.started": "2023-09-26T12:03:26.821876Z"
    }
   },
   "outputs": [],
   "source": [
    "contents[\"NC_003861\"].find(\"table\", attrs = {\"id\": \"dscTable\"});"
   ]
  },
  {
   "cell_type": "code",
   "execution_count": 34,
   "id": "5a4936b2-9870-47bd-b6c7-e18ef5311b43",
   "metadata": {
    "execution": {
     "iopub.execute_input": "2023-09-26T12:04:04.852456Z",
     "iopub.status.busy": "2023-09-26T12:04:04.836989Z",
     "iopub.status.idle": "2023-09-26T12:04:04.858393Z",
     "shell.execute_reply": "2023-09-26T12:04:04.858393Z",
     "shell.execute_reply.started": "2023-09-26T12:04:04.852456Z"
    }
   },
   "outputs": [
    {
     "data": {
      "text/plain": [
       "'\\n\\n<tr id=\"dtr_61657622\" ind=\"7\" class=\"odd dflLnk\">\\n<td class=\"l c0\"><span class=\"ind\">7</span><input type=\"checkbox\" id=\"chk_7\" class=\"cb\" name=\"getSeqGi\" value=\"61657622\" onclick=\"configDescrLinks(event,this)\"><label for=\"chk_7\" onclick=\"checkShiftKey(event,this)\"><span class=\"accsb\">Select seq AJ890224.1</span></label></td>\\n<td class=\"ellipsis c2\"><span><a title=\"Go to alignment for Sri Lankan cassava mosaic virus ac1 gene, ac2 gene, ac3 gene, ac4 gene, av1 gene and av2 gene, isolate Kerala 15, complete virus segment\" class=\"deflnDesc\" hsp=\"1\" len=\"2761\" ind=\"7\" accs=\"AJ890224.1\" seqfsta=\"gi|61657622\" gi=\"61657622\" seqid=\"61657622\" id=\"deflnDesc_7\" onclick=\"DisplayAlignFromDescription(this);\" href=\"#alnHdr_61657622\">Sri Lankan cassava mosaic virus ac1 gene, ac2 gene, ac3 gene, ac4 gene, av1 gene and av2 gene, isolate Kerala 15, complete virus segment</a></span></td>\\n<td class=\"ellipsis c3\"><span><a href=\"https://www.ncbi.nlm.nih.gov/Taxonomy/Browser/wwwtax.cgi?id=161378\" class=\"sciName\" title=\"Taxonomy for Sri Lankan cassava mosaic virus\" target=\"lnk<@rid@>\">Sri Lankan cassava mosaic virus</a></span></td>\\n<td class=\"ellipsis c4 ui-ncbigrid-column-hidden\"><span><a href=\"https://www.ncbi.nlm.nih.gov/Taxonomy/Browser/wwwtax.cgi?id=161378\" class=\"cmnName\" title=\"Taxonomy for NA\">NA</a></span></td>\\n<td class=\"c5 ui-ncbigrid-column-hidden\"><a href=\"https://www.ncbi.nlm.nih.gov/Taxonomy/Browser/wwwtax.cgi?id=161378\" class=\"txid\" title=\"Taxonomy for taxid 161378\">161378</a></td>\\n<td class=\"c6\">4102</td>\\n<td class=\"c7\">4102</td>\\n<td class=\"c8\">100%</td>\\n<td class=\"c9\">0.0</td>\\n<td class=\"c10\">93.55%</td>\\n<td class=\"c11 acclen\">2756</td>\\n<td class=\"c12 l lim\">\\n<a href=\"https://www.ncbi.nlm.nih.gov/nucleotide/AJ890224.1?report=genbank&amp;log$=nucltop&amp;blast_rank=7&amp;RID=H5G050J9016\" class=\"dflSeq\" target=\"lnkH5G050J9016\" title=\"Show report for AJ890224.1\">AJ890224.1</a>\\n</td>\\n</tr>\\n\\n'"
      ]
     },
     "execution_count": 34,
     "metadata": {},
     "output_type": "execute_result"
    }
   ],
   "source": [
    "# a typical table record\n",
    "\n",
    "\"\"\"\n",
    "\n",
    "<tr id=\"dtr_61657622\" ind=\"7\" class=\"odd dflLnk\">\n",
    "<td class=\"l c0\"><span class=\"ind\">7</span><input type=\"checkbox\" id=\"chk_7\" class=\"cb\" name=\"getSeqGi\" value=\"61657622\" onclick=\"configDescrLinks(event,this)\"><label for=\"chk_7\" onclick=\"checkShiftKey(event,this)\"><span class=\"accsb\">Select seq AJ890224.1</span></label></td>\n",
    "# Need this!\n",
    "<td class=\"ellipsis c2\"><span><a title=\"Go to alignment for Sri Lankan cassava mosaic virus ac1 gene, ac2 gene, ac3 gene, ac4 gene, av1 gene and av2 gene, isolate Kerala 15, complete virus segment\" class=\"deflnDesc\" hsp=\"1\" len=\"2761\" ind=\"7\" accs=\"AJ890224.1\" seqfsta=\"gi|61657622\" gi=\"61657622\" seqid=\"61657622\" id=\"deflnDesc_7\" onclick=\"DisplayAlignFromDescription(this);\" href=\"#alnHdr_61657622\">Sri Lankan cassava mosaic virus ac1 gene, ac2 gene, ac3 gene, ac4 gene, av1 gene and av2 gene, isolate Kerala 15, complete virus segment</a></span></td>\n",
    "<td class=\"ellipsis c3\"><span><a href=\"https://www.ncbi.nlm.nih.gov/Taxonomy/Browser/wwwtax.cgi?id=161378\" class=\"sciName\" title=\"Taxonomy for Sri Lankan cassava mosaic virus\" target=\"lnk<@rid@>\">Sri Lankan cassava mosaic virus</a></span></td>\n",
    "<td class=\"ellipsis c4 ui-ncbigrid-column-hidden\"><span><a href=\"https://www.ncbi.nlm.nih.gov/Taxonomy/Browser/wwwtax.cgi?id=161378\" class=\"cmnName\" title=\"Taxonomy for NA\">NA</a></span></td>\n",
    "<td class=\"c5 ui-ncbigrid-column-hidden\"><a href=\"https://www.ncbi.nlm.nih.gov/Taxonomy/Browser/wwwtax.cgi?id=161378\" class=\"txid\" title=\"Taxonomy for taxid 161378\">161378</a></td>\n",
    "<td class=\"c6\">4102</td>\n",
    "<td class=\"c7\">4102</td>\n",
    "<td class=\"c8\">100%</td>\n",
    "<td class=\"c9\">0.0</td>\n",
    "# Need this! (Percentage identity)\n",
    "<td class=\"c10\">93.55%</td>\n",
    "# Need this!\n",
    "<td class=\"c11 acclen\">2756</td>\n",
    "<td class=\"c12 l lim\">\n",
    "# Need this! (Link and the accession number)\n",
    "<a href=\"https://www.ncbi.nlm.nih.gov/nucleotide/AJ890224.1?report=genbank&amp;log$=nucltop&amp;blast_rank=7&amp;RID=H5G050J9016\" class=\"dflSeq\" target=\"lnkH5G050J9016\" title=\"Show report for AJ890224.1\">AJ890224.1</a>\n",
    "</td>\n",
    "</tr>\n",
    "\n",
    "\"\"\""
   ]
  },
  {
   "cell_type": "code",
   "execution_count": 48,
   "id": "a8a3189b-dfa3-4f3c-9970-9cda19fa492c",
   "metadata": {
    "execution": {
     "iopub.execute_input": "2023-09-26T12:17:57.929711Z",
     "iopub.status.busy": "2023-09-26T12:17:57.929711Z",
     "iopub.status.idle": "2023-09-26T12:17:57.955228Z",
     "shell.execute_reply": "2023-09-26T12:17:57.955228Z",
     "shell.execute_reply.started": "2023-09-26T12:17:57.929711Z"
    }
   },
   "outputs": [
    {
     "data": {
      "text/plain": [
       "<tr class=\"odd dflLnk\" id=\"dtr_20806048\" ind=\"1\">\n",
       "<td class=\"l c0\"><span class=\"ind\">1</span><input class=\"cb\" id=\"chk_1\" name=\"getSeqGi\" onclick=\"configDescrLinks(event,this)\" type=\"checkbox\" value=\"20806048\"/><label for=\"chk_1\" onclick=\"checkShiftKey(event,this)\"><span class=\"accsb\">Select seq NC_003861.1</span></label></td>\n",
       "<td class=\"ellipsis c2\"><span><a accs=\"NC_003861.1\" class=\"deflnDesc\" gi=\"20806048\" href=\"#alnHdr_20806048\" hsp=\"1\" id=\"deflnDesc_1\" ind=\"1\" len=\"2755\" onclick=\"DisplayAlignFromDescription(this);\" seqfsta=\"gi|20806048\" seqid=\"20806048\" stat=\"disp\" title=\"Go to alignment for Sri Lankan cassava mosaic virus-[Colombo] DNA-A, complete genome, isolate SLCMV-Col &gt;emb|AJ314737.1| Sri Lankan cassava mosaic virus-[Colombo] DNA-A, complete genome, isolate SLCMV-Col\">Sri Lankan cassava mosaic virus-[Colombo] DNA-A, complete genome, isolate SLCMV-Col</a></span></td>\n",
       "<td class=\"ellipsis c3\"><span><a class=\"sciName\" href=\"https://www.ncbi.nlm.nih.gov/Taxonomy/Browser/wwwtax.cgi?id=223328\" target=\"lnk&lt;@rid@&gt;\" title=\"Taxonomy for Sri Lankan cassava mosaic virus-[Colombo]\">Sri Lankan cassava mosaic virus-[Colombo]</a></span></td>\n",
       "<td class=\"ellipsis c4 ui-ncbigrid-column-hidden\"><span><a class=\"cmnName\" href=\"https://www.ncbi.nlm.nih.gov/Taxonomy/Browser/wwwtax.cgi?id=223328\" title=\"Taxonomy for NA\">NA</a></span></td>\n",
       "<td class=\"c5 ui-ncbigrid-column-hidden\"><a class=\"txid\" href=\"https://www.ncbi.nlm.nih.gov/Taxonomy/Browser/wwwtax.cgi?id=223328\" title=\"Taxonomy for taxid 223328\">223328</a></td>\n",
       "<td class=\"c6\">5088</td>\n",
       "<td class=\"c7\">5088</td>\n",
       "<td class=\"c8\">100%</td>\n",
       "<td class=\"c9\">0.0</td>\n",
       "<td class=\"c10\">100.00%</td>\n",
       "<td class=\"c11 acclen\">2755</td>\n",
       "<td class=\"c12 l lim\">\n",
       "<a class=\"dflSeq\" href=\"https://www.ncbi.nlm.nih.gov/nucleotide/NC_003861.1?report=genbank&amp;log$=nucltop&amp;blast_rank=1&amp;RID=H5G050J9016\" target=\"lnkH5G050J9016\" title=\"Show report for NC_003861.1\">NC_003861.1</a>\n",
       "</td>\n",
       "</tr>"
      ]
     },
     "execution_count": 48,
     "metadata": {},
     "output_type": "execute_result"
    }
   ],
   "source": [
    "res_table = contents[\"NC_003861\"].find(\"table\", attrs = {\"id\": \"dscTable\"})\n",
    "trows = res_table.find_all(\"tr\", attrs = {\"class\": [\"odd dflLnk\", \"even dflLnk\"]})\n",
    "\n",
    "trows[0]"
   ]
  },
  {
   "cell_type": "code",
   "execution_count": 57,
   "id": "e24a8e14-eac9-454b-b5b7-b672fd4238ac",
   "metadata": {
    "execution": {
     "iopub.execute_input": "2023-09-26T12:23:00.555906Z",
     "iopub.status.busy": "2023-09-26T12:23:00.555906Z",
     "iopub.status.idle": "2023-09-26T12:23:00.562698Z",
     "shell.execute_reply": "2023-09-26T12:23:00.562698Z",
     "shell.execute_reply.started": "2023-09-26T12:23:00.555906Z"
    }
   },
   "outputs": [
    {
     "data": {
      "text/plain": [
       "'https://www.ncbi.nlm.nih.gov/nucleotide/NC_003861.1?report=genbank&log$=nucltop&blast_rank=1&RID=H5G050J9016'"
      ]
     },
     "execution_count": 57,
     "metadata": {},
     "output_type": "execute_result"
    }
   ],
   "source": [
    "# Design the logic to extract the needed details from each table row.\n",
    "\n",
    "# Extract the name\n",
    "trows[0].find(\"a\", attrs = {\"class\": \"deflnDesc\"}).text\n",
    "\n",
    "# Extract the percentage identity and sequence length\n",
    "trows[0].find_all(\"td\", attrs = {\"class\": [\"c10\", \"c11 acclen\"]})\n",
    "\n",
    "# Extract the accession id \n",
    "trows[0].find(\"a\", attrs = {\"class\": \"dflSeq\"}).text\n",
    "\n",
    "# Extract the genbank link\n",
    "trows[0].find(\"a\", attrs = {\"class\": \"dflSeq\"}).get(\"href\")"
   ]
  },
  {
   "cell_type": "code",
   "execution_count": 71,
   "id": "8b985ed1-b350-4a08-9ab0-9da3ca39ae8d",
   "metadata": {
    "execution": {
     "iopub.execute_input": "2023-09-26T12:38:58.750243Z",
     "iopub.status.busy": "2023-09-26T12:38:58.750243Z",
     "iopub.status.idle": "2023-09-26T12:38:58.764146Z",
     "shell.execute_reply": "2023-09-26T12:38:58.764146Z",
     "shell.execute_reply.started": "2023-09-26T12:38:58.750243Z"
    }
   },
   "outputs": [],
   "source": [
    "def parse_blast_report(file_path: str) -> dict[str: list[str]]:\n",
    "\n",
    "    \"\"\"\n",
    "    \n",
    "    \"\"\"\n",
    "    \n",
    "    assert (file_path.endswith(\".html\") or file_path.endswith(\".htm\")), \"Only HTML files are supported!\"\n",
    "    with open(file_path, 'r') as fp:\n",
    "        soup = BeautifulSoup(fp.read(), \"html.parser\")\n",
    "\n",
    "    table = soup.find(\"table\", attrs = {\"id\": \"dscTable\"})\n",
    "    assert table, \"There isn't a <table> tag with id=\\\"dscTable\\\" in the HTML file!\"\n",
    "\n",
    "    trows = res_table.find_all(\"tr\", attrs = {\"class\": [\"odd dflLnk\", \"even dflLnk\"]})\n",
    "    assert trows, \"There isn't a <tr> tag with class=\\\"odd dflLnk\\\" or class=\\\"even dflLnk\\\" in the HTML file!\"\n",
    "\n",
    "    result = {\n",
    "        \"Name\": [],\n",
    "        \"PercntIdentity\": [],\n",
    "        \"SeqLength\": [],\n",
    "        \"Accession\": [],\n",
    "        \"GenBankLink\": []\n",
    "    }\n",
    "\n",
    "    for trow in trows:\n",
    "        # Extract the name\n",
    "        result[\"Name\"].append(trow.find(\"a\", attrs = {\"class\": \"deflnDesc\"}).text)\n",
    "\n",
    "        # Extract the percentage identity and sequence length\n",
    "        prcntident_and_len = trow.find_all(\"td\", attrs = {\"class\": [\"c10\", \"c11 acclen\"]})\n",
    "        result[\"PercntIdentity\"].append(prcntident_and_len[0].text)\n",
    "        result[\"SeqLength\"].append(prcntident_and_len[1].text)\n",
    "        \n",
    "        # Extract the accession id \n",
    "        result[\"Accession\"].append(trow.find(\"a\", attrs = {\"class\": \"dflSeq\"}).text)\n",
    "        \n",
    "        # Extract the genbank link\n",
    "        result[\"GenBankLink\"].append(trow.find(\"a\", attrs = {\"class\": \"dflSeq\"}).get(\"href\"))\n",
    "\n",
    "    return result"
   ]
  },
  {
   "cell_type": "code",
   "execution_count": 83,
   "id": "77d2702a-9733-4e9d-9b77-448382e22da0",
   "metadata": {
    "execution": {
     "iopub.execute_input": "2023-09-26T12:43:43.439776Z",
     "iopub.status.busy": "2023-09-26T12:43:43.439776Z",
     "iopub.status.idle": "2023-09-26T12:43:44.967597Z",
     "shell.execute_reply": "2023-09-26T12:43:44.967597Z",
     "shell.execute_reply.started": "2023-09-26T12:43:43.439776Z"
    }
   },
   "outputs": [],
   "source": [
    "df = pd.DataFrame()\n",
    "\n",
    "root = \"./data/BLAST/\"\n",
    "\n",
    "for file in os.listdir(root):\n",
    "    temp = pd.DataFrame(parse_blast_report(root + file))\n",
    "    df = pd.concat([df, temp], axis = 0)"
   ]
  },
  {
   "cell_type": "code",
   "execution_count": 85,
   "id": "eee44f6a-afef-4baf-a63e-095f1505e3e3",
   "metadata": {
    "execution": {
     "iopub.execute_input": "2023-09-26T12:43:54.491068Z",
     "iopub.status.busy": "2023-09-26T12:43:54.491068Z",
     "iopub.status.idle": "2023-09-26T12:43:54.508598Z",
     "shell.execute_reply": "2023-09-26T12:43:54.508079Z",
     "shell.execute_reply.started": "2023-09-26T12:43:54.491068Z"
    }
   },
   "outputs": [
    {
     "data": {
      "text/plain": [
       "(600, 5)"
      ]
     },
     "execution_count": 85,
     "metadata": {},
     "output_type": "execute_result"
    }
   ],
   "source": [
    "df.shape"
   ]
  },
  {
   "cell_type": "code",
   "execution_count": 88,
   "id": "1bc88b84-bb05-402d-980f-961a0f584304",
   "metadata": {
    "execution": {
     "iopub.execute_input": "2023-09-26T12:45:37.407598Z",
     "iopub.status.busy": "2023-09-26T12:45:37.407598Z",
     "iopub.status.idle": "2023-09-26T12:45:37.427550Z",
     "shell.execute_reply": "2023-09-26T12:45:37.427550Z",
     "shell.execute_reply.started": "2023-09-26T12:45:37.407598Z"
    }
   },
   "outputs": [
    {
     "data": {
      "text/plain": [
       "(100, 5)"
      ]
     },
     "execution_count": 88,
     "metadata": {},
     "output_type": "execute_result"
    }
   ],
   "source": [
    "# Well, if that isn't disappointing\n",
    "\n",
    "df.drop_duplicates().shape"
   ]
  },
  {
   "cell_type": "code",
   "execution_count": 90,
   "id": "1d35c170-e1ed-4382-9774-75df80a9fd02",
   "metadata": {
    "execution": {
     "iopub.execute_input": "2023-09-26T12:46:32.788102Z",
     "iopub.status.busy": "2023-09-26T12:46:32.788102Z",
     "iopub.status.idle": "2023-09-26T12:46:32.843740Z",
     "shell.execute_reply": "2023-09-26T12:46:32.843740Z",
     "shell.execute_reply.started": "2023-09-26T12:46:32.788102Z"
    }
   },
   "outputs": [],
   "source": [
    "df.to_csv(\"./data/BLAST/results.csv\", sep = ',', index = None)"
   ]
  },
  {
   "cell_type": "code",
   "execution_count": null,
   "id": "5fe43786-f55b-40db-a78a-7b5baaa302f5",
   "metadata": {},
   "outputs": [],
   "source": []
  },
  {
   "cell_type": "code",
   "execution_count": null,
   "id": "315efa6a-a4f5-4da4-8d26-52afd484fdab",
   "metadata": {},
   "outputs": [],
   "source": []
  },
  {
   "cell_type": "code",
   "execution_count": 33,
   "id": "56cd874a-4266-4317-8fd8-e3f6f082fb79",
   "metadata": {
    "execution": {
     "iopub.execute_input": "2023-09-27T02:24:35.710626Z",
     "iopub.status.busy": "2023-09-27T02:24:35.710626Z",
     "iopub.status.idle": "2023-09-27T02:24:35.737721Z",
     "shell.execute_reply": "2023-09-27T02:24:35.737135Z",
     "shell.execute_reply.started": "2023-09-27T02:24:35.710626Z"
    }
   },
   "outputs": [
    {
     "data": {
      "text/plain": [
       "(100, 6)"
      ]
     },
     "execution_count": 33,
     "metadata": {},
     "output_type": "execute_result"
    }
   ],
   "source": [
    "# BLAST results\n",
    "\n",
    "blast = pd.read_csv(\"./data/BLAST/results.csv\")\n",
    "blast.shape"
   ]
  },
  {
   "cell_type": "code",
   "execution_count": 34,
   "id": "8e2c1a28-9356-499b-ad4a-8f9428f68ff6",
   "metadata": {
    "execution": {
     "iopub.execute_input": "2023-09-27T02:24:37.285780Z",
     "iopub.status.busy": "2023-09-27T02:24:37.284271Z",
     "iopub.status.idle": "2023-09-27T02:24:37.292114Z",
     "shell.execute_reply": "2023-09-27T02:24:37.292114Z",
     "shell.execute_reply.started": "2023-09-27T02:24:37.285780Z"
    }
   },
   "outputs": [
    {
     "data": {
      "text/plain": [
       "0     NC_003861.1\n",
       "1      KP455484.1\n",
       "2      OM857615.1\n",
       "3      AJ890226.1\n",
       "4      KU550961.1\n",
       "         ...     \n",
       "95     MW816856.1\n",
       "96     JN135236.3\n",
       "97     MW816855.1\n",
       "98    NC_038956.1\n",
       "99     OK236813.1\n",
       "Name: Accession, Length: 100, dtype: object"
      ]
     },
     "execution_count": 34,
     "metadata": {},
     "output_type": "execute_result"
    }
   ],
   "source": [
    "# FASTA query format => https://www.ncbi.nlm.nih.gov/nuccore/NC_003861.1?report=fasta\n",
    "\n",
    "blast.Accession"
   ]
  },
  {
   "cell_type": "code",
   "execution_count": 35,
   "id": "710c146b-fee9-4ce7-8e85-00d3a1a88b3e",
   "metadata": {
    "execution": {
     "iopub.execute_input": "2023-09-27T02:24:41.450890Z",
     "iopub.status.busy": "2023-09-27T02:24:41.450890Z",
     "iopub.status.idle": "2023-09-27T02:24:41.467379Z",
     "shell.execute_reply": "2023-09-27T02:24:41.466366Z",
     "shell.execute_reply.started": "2023-09-27T02:24:41.450890Z"
    }
   },
   "outputs": [
    {
     "data": {
      "text/plain": [
       "['blastseqs',\n",
       " 'NC_003861.html',\n",
       " 'OK362288.html',\n",
       " 'OK377341.html',\n",
       " 'OK377342.html',\n",
       " 'OK377343.html',\n",
       " 'OK424595.html',\n",
       " 'results.csv']"
      ]
     },
     "execution_count": 35,
     "metadata": {},
     "output_type": "execute_result"
    }
   ],
   "source": [
    "os.listdir(\"./data/BLAST/\")"
   ]
  },
  {
   "cell_type": "code",
   "execution_count": 21,
   "id": "2d36a03e-f469-4bbc-88e7-6d1b43753141",
   "metadata": {
    "execution": {
     "iopub.execute_input": "2023-09-27T01:51:46.976886Z",
     "iopub.status.busy": "2023-09-27T01:51:46.976886Z",
     "iopub.status.idle": "2023-09-27T01:51:46.979995Z",
     "shell.execute_reply": "2023-09-27T01:51:46.979995Z",
     "shell.execute_reply.started": "2023-09-27T01:51:46.976886Z"
    }
   },
   "outputs": [],
   "source": [
    "URL_TEMPLATE: str = \"https://www.ncbi.nlm.nih.gov/nuccore/{}?report=fasta\""
   ]
  },
  {
   "cell_type": "code",
   "execution_count": 36,
   "id": "6b6c2bea-10a1-4a9b-8e81-b00f7b50f1ae",
   "metadata": {
    "execution": {
     "iopub.execute_input": "2023-09-27T02:25:19.183633Z",
     "iopub.status.busy": "2023-09-27T02:25:19.183633Z",
     "iopub.status.idle": "2023-09-27T02:25:23.005211Z",
     "shell.execute_reply": "2023-09-27T02:25:23.005211Z",
     "shell.execute_reply.started": "2023-09-27T02:25:19.183633Z"
    }
   },
   "outputs": [],
   "source": [
    "# Yes, Edge!\n",
    "\n",
    "service = webdriver.EdgeService()\n",
    "options = webdriver.EdgeOptions()\n",
    "options.add_argument(\"--headless\")\n",
    "\n",
    "wdriver = webdriver.Edge(options, service)"
   ]
  },
  {
   "cell_type": "code",
   "execution_count": 37,
   "id": "285817f3-a756-45a1-8b4d-18fff848b8dd",
   "metadata": {
    "execution": {
     "iopub.execute_input": "2023-09-27T02:25:47.709003Z",
     "iopub.status.busy": "2023-09-27T02:25:47.709003Z",
     "iopub.status.idle": "2023-09-27T02:39:07.842821Z",
     "shell.execute_reply": "2023-09-27T02:39:07.841055Z",
     "shell.execute_reply.started": "2023-09-27T02:25:47.709003Z"
    }
   },
   "outputs": [],
   "source": [
    "WRITE_PATH_TEMPLATE = \"./data/BLAST/blastseqs/{}.fasta\"\n",
    "URL_TEMPLATE = \"https://www.ncbi.nlm.nih.gov/nuccore/{}?report=fasta\"\n",
    "\n",
    "for accession in blast.Accession:\n",
    "    \n",
    "    wdriver.get(URL_TEMPLATE.format(accession))\n",
    "    \n",
    "    # Wait until the <div id=\"viewercontent1\" class=\"seq gbff\" ....> tag is loaded.\n",
    "    # 10 seconds wait\n",
    "    time.sleep(5)\n",
    "    # _ = WebDriverWait(wdriver, 20).until(EC.presence_of_element_located((By.CLASS_NAME, \"seq gbff\")))\n",
    "    \n",
    "    response = wdriver.page_source\n",
    "    assert response     # Make sure it's not empty.\n",
    "\n",
    "    soup = BeautifulSoup(response, \"html.parser\")\n",
    "    div = soup.find(\"div\", attrs = {\"class\": \"seq gbff\", \"id\": \"viewercontent1\"})\n",
    "    \n",
    "    fasta = div.find(\"pre\").text\n",
    "\n",
    "    # remove the trailing digits after the period in file names.\n",
    "    with open(WRITE_PATH_TEMPLATE.format(accession.split('.')[0]), 'w') as fp:\n",
    "        fp.write(fasta)\n",
    "\n",
    "wdriver.quit()"
   ]
  },
  {
   "cell_type": "code",
   "execution_count": null,
   "id": "8b6dd0be-aff0-4b31-9cd2-119c89120495",
   "metadata": {},
   "outputs": [],
   "source": []
  },
  {
   "cell_type": "code",
   "execution_count": null,
   "id": "f45d93b5-95de-4cd6-9ced-79b96bd7e5af",
   "metadata": {
    "execution": {
     "iopub.status.busy": "2023-09-27T02:23:07.536283Z",
     "iopub.status.idle": "2023-09-27T02:23:07.537429Z",
     "shell.execute_reply": "2023-09-27T02:23:07.537429Z",
     "shell.execute_reply.started": "2023-09-27T02:23:07.537429Z"
    }
   },
   "outputs": [],
   "source": []
  },
  {
   "cell_type": "code",
   "execution_count": 10,
   "id": "2a9fdacf-d591-43f7-a386-1d067a27cc13",
   "metadata": {
    "execution": {
     "iopub.execute_input": "2023-09-27T00:59:18.046127Z",
     "iopub.status.busy": "2023-09-27T00:59:18.046127Z",
     "iopub.status.idle": "2023-09-27T00:59:20.121287Z",
     "shell.execute_reply": "2023-09-27T00:59:20.121287Z",
     "shell.execute_reply.started": "2023-09-27T00:59:18.046127Z"
    }
   },
   "outputs": [],
   "source": []
  }
 ],
 "metadata": {
  "kernelspec": {
   "display_name": "Python 3 (ipykernel)",
   "language": "python",
   "name": "python3"
  },
  "language_info": {
   "codemirror_mode": {
    "name": "ipython",
    "version": 3
   },
   "file_extension": ".py",
   "mimetype": "text/x-python",
   "name": "python",
   "nbconvert_exporter": "python",
   "pygments_lexer": "ipython3",
   "version": "3.11.5"
  }
 },
 "nbformat": 4,
 "nbformat_minor": 5
}
