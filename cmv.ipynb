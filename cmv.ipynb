{
 "cells": [
  {
   "cell_type": "code",
   "execution_count": 1,
   "id": "0d7c8e9c-ad9f-4f2d-bcd4-a14b27fd8f57",
   "metadata": {
    "execution": {
     "iopub.execute_input": "2023-09-20T12:15:04.574465Z",
     "iopub.status.busy": "2023-09-20T12:15:04.574465Z",
     "iopub.status.idle": "2023-09-20T12:15:06.686533Z",
     "shell.execute_reply": "2023-09-20T12:15:06.686249Z",
     "shell.execute_reply.started": "2023-09-20T12:15:04.574465Z"
    }
   },
   "outputs": [],
   "source": [
    "from xml.etree import ElementTree\n",
    "import numpy as np\n",
    "from itertools import combinations\n",
    "from bs4 import BeautifulSoup\n",
    "import pandas as pd\n",
    "import matplotlib.pyplot as plt\n",
    "import os"
   ]
  },
  {
   "cell_type": "code",
   "execution_count": 42,
   "id": "e9377e03-48af-41c4-a9a8-d1a815275333",
   "metadata": {
    "execution": {
     "iopub.execute_input": "2023-09-19T14:55:43.061844Z",
     "iopub.status.busy": "2023-09-19T14:55:43.061844Z",
     "iopub.status.idle": "2023-09-19T14:55:43.066423Z",
     "shell.execute_reply": "2023-09-19T14:55:43.066423Z",
     "shell.execute_reply.started": "2023-09-19T14:55:43.061844Z"
    }
   },
   "outputs": [],
   "source": [
    "# https://ictv.global/report/chapter/geminiviridae/geminiviridae/begomovirus"
   ]
  },
  {
   "cell_type": "code",
   "execution_count": 40,
   "id": "c9e35bfb-ca67-4517-a61d-bad731620f12",
   "metadata": {
    "execution": {
     "iopub.execute_input": "2023-09-19T14:55:21.791812Z",
     "iopub.status.busy": "2023-09-19T14:55:21.791812Z",
     "iopub.status.idle": "2023-09-19T14:55:22.188158Z",
     "shell.execute_reply": "2023-09-19T14:55:22.188158Z",
     "shell.execute_reply.started": "2023-09-19T14:55:21.791812Z"
    }
   },
   "outputs": [],
   "source": [
    "# Copy pasted the HTML manually from Firefox. _|_ lazy loads.\n",
    "\n",
    "with open(\"./data/Genus Begomovirus ICTV.html\", mode = \"r\", encoding = \"utf8\") as html:\n",
    "    content = html.read()\n",
    "    soup = BeautifulSoup(content, \"html.parser\")"
   ]
  },
  {
   "cell_type": "code",
   "execution_count": 67,
   "id": "b3706930-5c24-456a-b22a-d5fa3c8b1728",
   "metadata": {
    "execution": {
     "iopub.execute_input": "2023-09-19T14:59:24.319452Z",
     "iopub.status.busy": "2023-09-19T14:59:24.319452Z",
     "iopub.status.idle": "2023-09-19T14:59:24.347098Z",
     "shell.execute_reply": "2023-09-19T14:59:24.346582Z",
     "shell.execute_reply.started": "2023-09-19T14:59:24.319452Z"
    }
   },
   "outputs": [],
   "source": [
    "table = soup.find_all(\"table\", attrs = {\"class\" : \"virus-isolates-table\"})[0]"
   ]
  },
  {
   "cell_type": "code",
   "execution_count": 68,
   "id": "a9db8c3b-52f0-47b1-8b9c-abb2cfcaa13d",
   "metadata": {
    "execution": {
     "iopub.execute_input": "2023-09-19T14:59:25.136502Z",
     "iopub.status.busy": "2023-09-19T14:59:25.136502Z",
     "iopub.status.idle": "2023-09-19T14:59:25.145442Z",
     "shell.execute_reply": "2023-09-19T14:59:25.145442Z",
     "shell.execute_reply.started": "2023-09-19T14:59:25.136502Z"
    }
   },
   "outputs": [
    {
     "data": {
      "text/plain": [
       "2"
      ]
     },
     "execution_count": 68,
     "metadata": {},
     "output_type": "execute_result"
    }
   ],
   "source": [
    "len(table)"
   ]
  },
  {
   "cell_type": "code",
   "execution_count": 87,
   "id": "3735aa59-980d-4b17-ba12-8fb23a5b0df9",
   "metadata": {
    "execution": {
     "iopub.execute_input": "2023-09-19T15:06:24.017605Z",
     "iopub.status.busy": "2023-09-19T15:06:24.017605Z",
     "iopub.status.idle": "2023-09-19T15:06:24.040086Z",
     "shell.execute_reply": "2023-09-19T15:06:24.040086Z",
     "shell.execute_reply.started": "2023-09-19T15:06:24.017605Z"
    }
   },
   "outputs": [
    {
     "data": {
      "text/plain": [
       "['',\n",
       " 'Genus',\n",
       " 'Subgenus',\n",
       " 'Species',\n",
       " 'Virus name',\n",
       " 'Isolate',\n",
       " 'Accession',\n",
       " 'Available sequence',\n",
       " 'Abbrev.']"
      ]
     },
     "execution_count": 87,
     "metadata": {},
     "output_type": "execute_result"
    }
   ],
   "source": [
    "headers = [th.text for th in table.find_all(\"th\")]\n",
    "headers"
   ]
  },
  {
   "cell_type": "code",
   "execution_count": 88,
   "id": "70129864-da12-47f2-89c9-691a3d03de62",
   "metadata": {
    "execution": {
     "iopub.execute_input": "2023-09-19T15:07:35.727403Z",
     "iopub.status.busy": "2023-09-19T15:07:35.727403Z",
     "iopub.status.idle": "2023-09-19T15:07:35.739449Z",
     "shell.execute_reply": "2023-09-19T15:07:35.739289Z",
     "shell.execute_reply.started": "2023-09-19T15:07:35.727403Z"
    }
   },
   "outputs": [],
   "source": [
    "table_dict = {\n",
    "    \"Species\": [],\n",
    "    \"Virus name\": [],\n",
    "    \"Isolate\": [],\n",
    "    \"Accession\": [],\n",
    "    \"Available sequence\": [],\n",
    "    \"Abbrev\":[]\n",
    "}"
   ]
  },
  {
   "cell_type": "code",
   "execution_count": 105,
   "id": "b1738165-c8ff-46bf-9aff-b45b61a5a586",
   "metadata": {
    "execution": {
     "iopub.execute_input": "2023-09-19T15:20:44.942352Z",
     "iopub.status.busy": "2023-09-19T15:20:44.942352Z",
     "iopub.status.idle": "2023-09-19T15:20:44.953210Z",
     "shell.execute_reply": "2023-09-19T15:20:44.953089Z",
     "shell.execute_reply.started": "2023-09-19T15:20:44.942352Z"
    }
   },
   "outputs": [
    {
     "data": {
      "text/plain": [
       "['',\n",
       " 'Genus',\n",
       " 'Subgenus',\n",
       " 'Species',\n",
       " 'Virus name',\n",
       " 'Isolate',\n",
       " 'Accession',\n",
       " 'Available sequence',\n",
       " 'Abbrev.']"
      ]
     },
     "execution_count": 105,
     "metadata": {},
     "output_type": "execute_result"
    }
   ],
   "source": [
    "[th.text for th in table.find_all(\"tr\")[0].find_all(\"th\")]"
   ]
  },
  {
   "cell_type": "code",
   "execution_count": 108,
   "id": "81ec6a93-440e-4262-92aa-781919fd7604",
   "metadata": {
    "execution": {
     "iopub.execute_input": "2023-09-19T15:23:20.001644Z",
     "iopub.status.busy": "2023-09-19T15:23:20.001644Z",
     "iopub.status.idle": "2023-09-19T15:23:20.010450Z",
     "shell.execute_reply": "2023-09-19T15:23:20.010450Z",
     "shell.execute_reply.started": "2023-09-19T15:23:20.001644Z"
    }
   },
   "outputs": [
    {
     "data": {
      "text/plain": [
       "{'Species': [],\n",
       " 'Virus name': [],\n",
       " 'Isolate': [],\n",
       " 'Accession': [],\n",
       " 'Available sequence': [],\n",
       " 'Abbrev': []}"
      ]
     },
     "execution_count": 108,
     "metadata": {},
     "output_type": "execute_result"
    }
   ],
   "source": [
    "table_dict"
   ]
  },
  {
   "cell_type": "code",
   "execution_count": 110,
   "id": "74519f56-17ad-4cff-bebf-9cb65029bb88",
   "metadata": {
    "execution": {
     "iopub.execute_input": "2023-09-19T15:24:25.886737Z",
     "iopub.status.busy": "2023-09-19T15:24:25.886737Z",
     "iopub.status.idle": "2023-09-19T15:24:26.015515Z",
     "shell.execute_reply": "2023-09-19T15:24:26.015515Z",
     "shell.execute_reply.started": "2023-09-19T15:24:25.886737Z"
    }
   },
   "outputs": [],
   "source": [
    "# Except for the row with table headers, there seems to be two kinds of table rows.\n",
    "# 1) <tr class=\"virus-row\">\n",
    "# 2) <tr class=\"alt-virus-row\">\n",
    "\n",
    "counter = 0\n",
    "for tr in table.find_all(\"tr\"):\n",
    "    if counter == 0:\n",
    "        counter += 1\n",
    "        continue\n",
    "    else:\n",
    "        table_dict[\"Species\"].append(tr.find(\"td\", attrs = {\"class\": \"col-species\"}).text)\n",
    "        table_dict[\"Virus name\"].append(tr.find(\"td\", attrs = {\"class\": \"col-alternativeNameCSV\"}).text)\n",
    "        table_dict[\"Isolate\"].append(tr.find(\"td\", attrs = {\"class\": \"col-isolate\"}).text)\n",
    "        table_dict[\"Accession\"].append(tr.find(\"td\", attrs = {\"class\": \"col-accessionNumber\"}).text)\n",
    "        table_dict[\"Available sequence\"].append(tr.find(\"td\", attrs = {\"class\": \"col-availableSequence\"}).text)\n",
    "        table_dict[\"Abbrev\"].append(tr.find(\"td\", attrs = {\"class\": \"col-abbrev\"}).text)\n",
    "        counter += 1"
   ]
  },
  {
   "cell_type": "code",
   "execution_count": 113,
   "id": "7dd7aff2-0fab-4991-b91c-c0282c3b8739",
   "metadata": {
    "execution": {
     "iopub.execute_input": "2023-09-19T15:25:31.943879Z",
     "iopub.status.busy": "2023-09-19T15:25:31.943879Z",
     "iopub.status.idle": "2023-09-19T15:25:31.948301Z",
     "shell.execute_reply": "2023-09-19T15:25:31.948301Z",
     "shell.execute_reply.started": "2023-09-19T15:25:31.943879Z"
    }
   },
   "outputs": [],
   "source": [
    "begomovirus = pd.DataFrame(table_dict)"
   ]
  },
  {
   "cell_type": "code",
   "execution_count": 114,
   "id": "bc2992f6-3dad-46b6-927c-1195d3f7a1c2",
   "metadata": {
    "execution": {
     "iopub.execute_input": "2023-09-19T15:27:13.612644Z",
     "iopub.status.busy": "2023-09-19T15:27:13.612644Z",
     "iopub.status.idle": "2023-09-19T15:27:13.659251Z",
     "shell.execute_reply": "2023-09-19T15:27:13.659251Z",
     "shell.execute_reply.started": "2023-09-19T15:27:13.612644Z"
    }
   },
   "outputs": [],
   "source": [
    "begomovirus.to_csv(\"./data/begomovirus_ictv.csv\", sep = ',', header = True, index = False, mode = \"w\")"
   ]
  },
  {
   "cell_type": "code",
   "execution_count": null,
   "id": "ec7c4ed4-16f6-46b6-bd05-e7b5b08ee132",
   "metadata": {},
   "outputs": [],
   "source": []
  },
  {
   "cell_type": "code",
   "execution_count": null,
   "id": "29d8eed5-9542-46f5-9ee8-1446920a411d",
   "metadata": {},
   "outputs": [],
   "source": []
  },
  {
   "cell_type": "code",
   "execution_count": 2,
   "id": "e9aba5af-a971-4c37-bafc-4d508347f6ea",
   "metadata": {
    "execution": {
     "iopub.execute_input": "2023-09-19T15:35:40.414175Z",
     "iopub.status.busy": "2023-09-19T15:35:40.414175Z",
     "iopub.status.idle": "2023-09-19T15:35:40.426063Z",
     "shell.execute_reply": "2023-09-19T15:35:40.425946Z",
     "shell.execute_reply.started": "2023-09-19T15:35:40.414175Z"
    }
   },
   "outputs": [],
   "source": [
    "ictv_begomo = pd.read_csv(\"./data/begomovirus_ictv.csv\")"
   ]
  },
  {
   "cell_type": "code",
   "execution_count": 13,
   "id": "d92db59c-79b9-420f-9ba0-b8da45f8d4d7",
   "metadata": {
    "execution": {
     "iopub.execute_input": "2023-09-19T15:39:59.819724Z",
     "iopub.status.busy": "2023-09-19T15:39:59.819724Z",
     "iopub.status.idle": "2023-09-19T15:39:59.835125Z",
     "shell.execute_reply": "2023-09-19T15:39:59.835125Z",
     "shell.execute_reply.started": "2023-09-19T15:39:59.819724Z"
    }
   },
   "outputs": [],
   "source": [
    "ind = np.array([True if \"cassava\" in name.lower() else False for name in ictv_begomo[\"Virus name\"].values])"
   ]
  },
  {
   "cell_type": "code",
   "execution_count": 18,
   "id": "e478dcbc-ec7d-4fdb-a6a8-05b7477bac72",
   "metadata": {
    "execution": {
     "iopub.execute_input": "2023-09-19T15:41:43.232996Z",
     "iopub.status.busy": "2023-09-19T15:41:43.232996Z",
     "iopub.status.idle": "2023-09-19T15:41:43.255375Z",
     "shell.execute_reply": "2023-09-19T15:41:43.254359Z",
     "shell.execute_reply.started": "2023-09-19T15:41:43.232996Z"
    }
   },
   "outputs": [],
   "source": [
    "ictv_begomo.loc[ind, :].to_csv(\"./data/cassava_filtered.csv\", sep = ',', header = True, index = False, mode = \"w\")"
   ]
  },
  {
   "cell_type": "code",
   "execution_count": null,
   "id": "6bb37ce5-75bd-4963-a242-fabceb1ed586",
   "metadata": {},
   "outputs": [],
   "source": []
  },
  {
   "cell_type": "code",
   "execution_count": 6,
   "id": "a86df455-c122-4a06-b7a7-64c31718f334",
   "metadata": {
    "execution": {
     "iopub.execute_input": "2023-09-20T12:16:24.113768Z",
     "iopub.status.busy": "2023-09-20T12:16:24.112762Z",
     "iopub.status.idle": "2023-09-20T12:16:24.121541Z",
     "shell.execute_reply": "2023-09-20T12:16:24.120816Z",
     "shell.execute_reply.started": "2023-09-20T12:16:24.113768Z"
    }
   },
   "outputs": [],
   "source": [
    "begomo = pd.read_csv(\"./data/begomovirus_ictv.csv\")"
   ]
  },
  {
   "cell_type": "code",
   "execution_count": 7,
   "id": "dd0ba5ec-a5fe-45f9-a372-ccb995d46a4f",
   "metadata": {
    "execution": {
     "iopub.execute_input": "2023-09-20T12:16:24.621003Z",
     "iopub.status.busy": "2023-09-20T12:16:24.621003Z",
     "iopub.status.idle": "2023-09-20T12:16:24.628491Z",
     "shell.execute_reply": "2023-09-20T12:16:24.628374Z",
     "shell.execute_reply.started": "2023-09-20T12:16:24.621003Z"
    }
   },
   "outputs": [
    {
     "data": {
      "text/plain": [
       "Index(['Species', 'Virus name', 'Isolate', 'Accession', 'Available sequence',\n",
       "       'Abbrev'],\n",
       "      dtype='object')"
      ]
     },
     "execution_count": 7,
     "metadata": {},
     "output_type": "execute_result"
    }
   ],
   "source": [
    "begomo.columns"
   ]
  },
  {
   "cell_type": "code",
   "execution_count": 8,
   "id": "68d384c8-e54d-4852-9edb-aed711c9de6f",
   "metadata": {
    "execution": {
     "iopub.execute_input": "2023-09-20T12:16:25.257319Z",
     "iopub.status.busy": "2023-09-20T12:16:25.257319Z",
     "iopub.status.idle": "2023-09-20T12:16:25.268737Z",
     "shell.execute_reply": "2023-09-20T12:16:25.268737Z",
     "shell.execute_reply.started": "2023-09-20T12:16:25.257319Z"
    }
   },
   "outputs": [
    {
     "data": {
      "text/html": [
       "<div>\n",
       "<style scoped>\n",
       "    .dataframe tbody tr th:only-of-type {\n",
       "        vertical-align: middle;\n",
       "    }\n",
       "\n",
       "    .dataframe tbody tr th {\n",
       "        vertical-align: top;\n",
       "    }\n",
       "\n",
       "    .dataframe thead th {\n",
       "        text-align: right;\n",
       "    }\n",
       "</style>\n",
       "<table border=\"1\" class=\"dataframe\">\n",
       "  <thead>\n",
       "    <tr style=\"text-align: right;\">\n",
       "      <th></th>\n",
       "      <th>Species</th>\n",
       "      <th>Virus name</th>\n",
       "      <th>Isolate</th>\n",
       "      <th>Accession</th>\n",
       "      <th>Available sequence</th>\n",
       "      <th>Abbrev</th>\n",
       "    </tr>\n",
       "  </thead>\n",
       "  <tbody>\n",
       "    <tr>\n",
       "      <th>4</th>\n",
       "      <td>African cassava mosaic Burkina Faso virus</td>\n",
       "      <td>African cassava mosaic Burkina Faso virus</td>\n",
       "      <td>BF-Oua-127-08</td>\n",
       "      <td>DNA-A: HE616777;DNA-B: HE616778</td>\n",
       "      <td>Complete genome</td>\n",
       "      <td>ACMBFV</td>\n",
       "    </tr>\n",
       "    <tr>\n",
       "      <th>5</th>\n",
       "      <td>African cassava mosaic virus</td>\n",
       "      <td>African cassava mosaic virus</td>\n",
       "      <td>Cameroon/1998</td>\n",
       "      <td>DNA-A: J02057;DNA-B: J02058</td>\n",
       "      <td>Complete genome</td>\n",
       "      <td>ACMV</td>\n",
       "    </tr>\n",
       "    <tr>\n",
       "      <th>58</th>\n",
       "      <td>Cassava mosaic Madagascar virus</td>\n",
       "      <td>cassava mosaic Madagascar virus</td>\n",
       "      <td>Madgascar/Toliary/2006</td>\n",
       "      <td>DNA-A: HE617299;DNA-B: HE617300</td>\n",
       "      <td>Complete genome</td>\n",
       "      <td>CMMGV</td>\n",
       "    </tr>\n",
       "    <tr>\n",
       "      <th>147</th>\n",
       "      <td>East African cassava mosaic Cameroon virus</td>\n",
       "      <td>East African cassava mosaic Cameroon virus</td>\n",
       "      <td>Cameroon/1998</td>\n",
       "      <td>DNA-A: AF112354;DNA-B: AF112355</td>\n",
       "      <td>Complete genome</td>\n",
       "      <td>EACMCMV</td>\n",
       "    </tr>\n",
       "    <tr>\n",
       "      <th>148</th>\n",
       "      <td>East African cassava mosaic Kenya virus</td>\n",
       "      <td>East African cassava mosaic Kenya virus</td>\n",
       "      <td>Kenya/Mitaboni/K298/2002</td>\n",
       "      <td>DNA-A: AJ717572;DNA-B: AJ704971</td>\n",
       "      <td>Complete genome</td>\n",
       "      <td>EACMKV</td>\n",
       "    </tr>\n",
       "    <tr>\n",
       "      <th>149</th>\n",
       "      <td>East African cassava mosaic Malawi virus</td>\n",
       "      <td>East African cassava mosaic Malawi virus</td>\n",
       "      <td>Malawi/K/1996</td>\n",
       "      <td>DNA-A: AJ006460</td>\n",
       "      <td>Complete genome</td>\n",
       "      <td>EACMMV</td>\n",
       "    </tr>\n",
       "    <tr>\n",
       "      <th>150</th>\n",
       "      <td>East African cassava mosaic virus</td>\n",
       "      <td>East African cassava mosaic virus</td>\n",
       "      <td>Uganda/Severe 2/1997/Uganda</td>\n",
       "      <td>DNA-A: AF126806;DNA-B: AF126807</td>\n",
       "      <td>Complete genome</td>\n",
       "      <td>EACMV/UG</td>\n",
       "    </tr>\n",
       "    <tr>\n",
       "      <th>151</th>\n",
       "      <td>East African cassava mosaic virus</td>\n",
       "      <td>East African cassava mosaic virus</td>\n",
       "      <td>Kenya/Boa/K48/2001/Kenya</td>\n",
       "      <td>DNA-A: AJ717542;DNA-B: AJ704949</td>\n",
       "      <td>Complete genome</td>\n",
       "      <td>EACMV/KE</td>\n",
       "    </tr>\n",
       "    <tr>\n",
       "      <th>152</th>\n",
       "      <td>East African cassava mosaic virus</td>\n",
       "      <td>East African cassava mosaic virus</td>\n",
       "      <td>Malawi/8N/2007/Malawi</td>\n",
       "      <td>JX473582</td>\n",
       "      <td>Complete genome</td>\n",
       "      <td>EACMV/MW</td>\n",
       "    </tr>\n",
       "    <tr>\n",
       "      <th>153</th>\n",
       "      <td>East African cassava mosaic virus</td>\n",
       "      <td>East African cassava mosaic virus</td>\n",
       "      <td>Tanzania/1/2001/Tanzania</td>\n",
       "      <td>DNA-A: AY795983;DNA-B: AY795989</td>\n",
       "      <td>Complete genome</td>\n",
       "      <td>EACMV/TZ</td>\n",
       "    </tr>\n",
       "    <tr>\n",
       "      <th>154</th>\n",
       "      <td>East African cassava mosaic Zanzibar virus</td>\n",
       "      <td>East African cassava mosaic Zanzibar virus</td>\n",
       "      <td>Tanzania/Uguja/1998</td>\n",
       "      <td>DNA-A: AF422174;DNA-B: AF422175</td>\n",
       "      <td>Complete genome</td>\n",
       "      <td>EACMZV</td>\n",
       "    </tr>\n",
       "    <tr>\n",
       "      <th>198</th>\n",
       "      <td>Indian cassava mosaic virus</td>\n",
       "      <td>Indian cassava mosaic virus</td>\n",
       "      <td>India/Trivandrum/1986/India</td>\n",
       "      <td>DNA-A: Z24758;DNA-B: Z24759</td>\n",
       "      <td>Complete genome</td>\n",
       "      <td>ICMV/IN</td>\n",
       "    </tr>\n",
       "    <tr>\n",
       "      <th>199</th>\n",
       "      <td>Indian cassava mosaic virus</td>\n",
       "      <td>Indian cassava mosaic virus</td>\n",
       "      <td>India/Maharashtra/2009</td>\n",
       "      <td>DNA-A: JF496657</td>\n",
       "      <td>Complete genome</td>\n",
       "      <td>ICMV</td>\n",
       "    </tr>\n",
       "    <tr>\n",
       "      <th>200</th>\n",
       "      <td>Indian cassava mosaic virus</td>\n",
       "      <td>Indian cassava mosaic virus</td>\n",
       "      <td>India/Dhawad/2008/Jatropha</td>\n",
       "      <td>DNA-A: GQ924760;DNA-B: GQ924761</td>\n",
       "      <td>Complete genome</td>\n",
       "      <td>ICMV/Jat</td>\n",
       "    </tr>\n",
       "    <tr>\n",
       "      <th>201</th>\n",
       "      <td>Indian cassava mosaic virus</td>\n",
       "      <td>Indian cassava mosaic virus</td>\n",
       "      <td>India/Kerala 2/2002/Kerala</td>\n",
       "      <td>DNA-A: AJ575819</td>\n",
       "      <td>Complete genome</td>\n",
       "      <td>ICMV/Ker</td>\n",
       "    </tr>\n",
       "    <tr>\n",
       "      <th>393</th>\n",
       "      <td>South African cassava mosaic virus</td>\n",
       "      <td>South African cassava mosaic virus</td>\n",
       "      <td>South Africa</td>\n",
       "      <td>DNA-A: AF155806;DNA-B: AF155807</td>\n",
       "      <td>Complete genome</td>\n",
       "      <td>SACMV</td>\n",
       "    </tr>\n",
       "    <tr>\n",
       "      <th>407</th>\n",
       "      <td>Sri Lankan cassava mosaic virus</td>\n",
       "      <td>Sri Lankan cassava mosaic virus</td>\n",
       "      <td>Sri Lanka/Colombo/1998/Sri Lanka</td>\n",
       "      <td>DNA-A: AJ314737;DNA-B: AJ314738</td>\n",
       "      <td>Complete genome</td>\n",
       "      <td>SLCMV/LK</td>\n",
       "    </tr>\n",
       "    <tr>\n",
       "      <th>408</th>\n",
       "      <td>Sri Lankan cassava mosaic virus</td>\n",
       "      <td>Sri Lankan cassava mosaic virus</td>\n",
       "      <td>India/Adivaram/2003/India</td>\n",
       "      <td>DNA-A: AJ579307</td>\n",
       "      <td>Complete genome</td>\n",
       "      <td>SLCMV/IN</td>\n",
       "    </tr>\n",
       "  </tbody>\n",
       "</table>\n",
       "</div>"
      ],
      "text/plain": [
       "                                        Species  \\\n",
       "4     African cassava mosaic Burkina Faso virus   \n",
       "5                  African cassava mosaic virus   \n",
       "58              Cassava mosaic Madagascar virus   \n",
       "147  East African cassava mosaic Cameroon virus   \n",
       "148     East African cassava mosaic Kenya virus   \n",
       "149    East African cassava mosaic Malawi virus   \n",
       "150           East African cassava mosaic virus   \n",
       "151           East African cassava mosaic virus   \n",
       "152           East African cassava mosaic virus   \n",
       "153           East African cassava mosaic virus   \n",
       "154  East African cassava mosaic Zanzibar virus   \n",
       "198                 Indian cassava mosaic virus   \n",
       "199                 Indian cassava mosaic virus   \n",
       "200                 Indian cassava mosaic virus   \n",
       "201                 Indian cassava mosaic virus   \n",
       "393          South African cassava mosaic virus   \n",
       "407             Sri Lankan cassava mosaic virus   \n",
       "408             Sri Lankan cassava mosaic virus   \n",
       "\n",
       "                                     Virus name  \\\n",
       "4     African cassava mosaic Burkina Faso virus   \n",
       "5                  African cassava mosaic virus   \n",
       "58              cassava mosaic Madagascar virus   \n",
       "147  East African cassava mosaic Cameroon virus   \n",
       "148     East African cassava mosaic Kenya virus   \n",
       "149    East African cassava mosaic Malawi virus   \n",
       "150           East African cassava mosaic virus   \n",
       "151           East African cassava mosaic virus   \n",
       "152           East African cassava mosaic virus   \n",
       "153           East African cassava mosaic virus   \n",
       "154  East African cassava mosaic Zanzibar virus   \n",
       "198                 Indian cassava mosaic virus   \n",
       "199                 Indian cassava mosaic virus   \n",
       "200                 Indian cassava mosaic virus   \n",
       "201                 Indian cassava mosaic virus   \n",
       "393          South African cassava mosaic virus   \n",
       "407             Sri Lankan cassava mosaic virus   \n",
       "408             Sri Lankan cassava mosaic virus   \n",
       "\n",
       "                              Isolate                        Accession  \\\n",
       "4                       BF-Oua-127-08  DNA-A: HE616777;DNA-B: HE616778   \n",
       "5                       Cameroon/1998      DNA-A: J02057;DNA-B: J02058   \n",
       "58             Madgascar/Toliary/2006  DNA-A: HE617299;DNA-B: HE617300   \n",
       "147                     Cameroon/1998  DNA-A: AF112354;DNA-B: AF112355   \n",
       "148          Kenya/Mitaboni/K298/2002  DNA-A: AJ717572;DNA-B: AJ704971   \n",
       "149                     Malawi/K/1996                  DNA-A: AJ006460   \n",
       "150       Uganda/Severe 2/1997/Uganda  DNA-A: AF126806;DNA-B: AF126807   \n",
       "151          Kenya/Boa/K48/2001/Kenya  DNA-A: AJ717542;DNA-B: AJ704949   \n",
       "152             Malawi/8N/2007/Malawi                         JX473582   \n",
       "153          Tanzania/1/2001/Tanzania  DNA-A: AY795983;DNA-B: AY795989   \n",
       "154               Tanzania/Uguja/1998  DNA-A: AF422174;DNA-B: AF422175   \n",
       "198       India/Trivandrum/1986/India      DNA-A: Z24758;DNA-B: Z24759   \n",
       "199            India/Maharashtra/2009                  DNA-A: JF496657   \n",
       "200        India/Dhawad/2008/Jatropha  DNA-A: GQ924760;DNA-B: GQ924761   \n",
       "201        India/Kerala 2/2002/Kerala                  DNA-A: AJ575819   \n",
       "393                      South Africa  DNA-A: AF155806;DNA-B: AF155807   \n",
       "407  Sri Lanka/Colombo/1998/Sri Lanka  DNA-A: AJ314737;DNA-B: AJ314738   \n",
       "408         India/Adivaram/2003/India                  DNA-A: AJ579307   \n",
       "\n",
       "    Available sequence    Abbrev  \n",
       "4      Complete genome    ACMBFV  \n",
       "5      Complete genome      ACMV  \n",
       "58     Complete genome     CMMGV  \n",
       "147    Complete genome   EACMCMV  \n",
       "148    Complete genome    EACMKV  \n",
       "149    Complete genome    EACMMV  \n",
       "150    Complete genome  EACMV/UG  \n",
       "151    Complete genome  EACMV/KE  \n",
       "152    Complete genome  EACMV/MW  \n",
       "153    Complete genome  EACMV/TZ  \n",
       "154    Complete genome    EACMZV  \n",
       "198    Complete genome   ICMV/IN  \n",
       "199    Complete genome      ICMV  \n",
       "200    Complete genome  ICMV/Jat  \n",
       "201    Complete genome  ICMV/Ker  \n",
       "393    Complete genome     SACMV  \n",
       "407    Complete genome  SLCMV/LK  \n",
       "408    Complete genome  SLCMV/IN  "
      ]
     },
     "execution_count": 8,
     "metadata": {},
     "output_type": "execute_result"
    }
   ],
   "source": [
    "begomo.loc[begomo.Species.str.contains(\"cassava\", case = False), :]"
   ]
  },
  {
   "cell_type": "code",
   "execution_count": 12,
   "id": "613111ba-1540-4f77-92fe-060aede186d4",
   "metadata": {
    "execution": {
     "iopub.execute_input": "2023-09-20T00:46:26.380404Z",
     "iopub.status.busy": "2023-09-20T00:46:26.379353Z",
     "iopub.status.idle": "2023-09-20T00:46:26.387421Z",
     "shell.execute_reply": "2023-09-20T00:46:26.387421Z",
     "shell.execute_reply.started": "2023-09-20T00:46:26.380404Z"
    }
   },
   "outputs": [
    {
     "data": {
      "text/plain": [
       "(18, 6)"
      ]
     },
     "execution_count": 12,
     "metadata": {},
     "output_type": "execute_result"
    }
   ],
   "source": [
    "begomo.loc[begomo.Species.str.contains(\"cassava\", case = False), :].shape"
   ]
  },
  {
   "cell_type": "code",
   "execution_count": 44,
   "id": "89e08a8f-e705-49f2-b532-010de33aaa5e",
   "metadata": {
    "execution": {
     "iopub.execute_input": "2023-09-20T12:55:16.027131Z",
     "iopub.status.busy": "2023-09-20T12:55:16.027131Z",
     "iopub.status.idle": "2023-09-20T12:55:16.038565Z",
     "shell.execute_reply": "2023-09-20T12:55:16.038565Z",
     "shell.execute_reply.started": "2023-09-20T12:55:16.027131Z"
    }
   },
   "outputs": [
    {
     "data": {
      "text/html": [
       "<div>\n",
       "<style scoped>\n",
       "    .dataframe tbody tr th:only-of-type {\n",
       "        vertical-align: middle;\n",
       "    }\n",
       "\n",
       "    .dataframe tbody tr th {\n",
       "        vertical-align: top;\n",
       "    }\n",
       "\n",
       "    .dataframe thead th {\n",
       "        text-align: right;\n",
       "    }\n",
       "</style>\n",
       "<table border=\"1\" class=\"dataframe\">\n",
       "  <thead>\n",
       "    <tr style=\"text-align: right;\">\n",
       "      <th></th>\n",
       "      <th>Species</th>\n",
       "      <th>Virus name</th>\n",
       "      <th>Isolate</th>\n",
       "      <th>Accession</th>\n",
       "      <th>Available sequence</th>\n",
       "      <th>Abbrev</th>\n",
       "    </tr>\n",
       "  </thead>\n",
       "  <tbody>\n",
       "    <tr>\n",
       "      <th>0</th>\n",
       "      <td>Abutilon golden mosaic virus</td>\n",
       "      <td>Abutilon golden mosaic virus</td>\n",
       "      <td>Mexico/Yucatan/2007</td>\n",
       "      <td>DNA-A: KC430935</td>\n",
       "      <td>Complete genome</td>\n",
       "      <td>AbGMV</td>\n",
       "    </tr>\n",
       "    <tr>\n",
       "      <th>1</th>\n",
       "      <td>Abutilon mosaic Bolivia virus</td>\n",
       "      <td>Abutilon mosaic Bolivia virus</td>\n",
       "      <td>Bolivia/2007</td>\n",
       "      <td>DNA-A: HM585445;DNA-B: HM585446</td>\n",
       "      <td>Complete genome</td>\n",
       "      <td>AbMBoV</td>\n",
       "    </tr>\n",
       "    <tr>\n",
       "      <th>2</th>\n",
       "      <td>Abutilon mosaic Brazil virus</td>\n",
       "      <td>Abutilon mosaic Brazil virus</td>\n",
       "      <td>Brazil/BGV01A.1.C21</td>\n",
       "      <td>DNA-A: JF694480;DNA-B: JF694479</td>\n",
       "      <td>Complete genome</td>\n",
       "      <td>AbMBV</td>\n",
       "    </tr>\n",
       "    <tr>\n",
       "      <th>3</th>\n",
       "      <td>Abutilon mosaic virus</td>\n",
       "      <td>Abutilon mosaic virus</td>\n",
       "      <td>Germany</td>\n",
       "      <td>DNA-A: X15983;DNA-B: X15984</td>\n",
       "      <td>Complete genome</td>\n",
       "      <td>AbMV</td>\n",
       "    </tr>\n",
       "    <tr>\n",
       "      <th>4</th>\n",
       "      <td>African cassava mosaic Burkina Faso virus</td>\n",
       "      <td>African cassava mosaic Burkina Faso virus</td>\n",
       "      <td>BF-Oua-127-08</td>\n",
       "      <td>DNA-A: HE616777;DNA-B: HE616778</td>\n",
       "      <td>Complete genome</td>\n",
       "      <td>ACMBFV</td>\n",
       "    </tr>\n",
       "    <tr>\n",
       "      <th>...</th>\n",
       "      <td>...</td>\n",
       "      <td>...</td>\n",
       "      <td>...</td>\n",
       "      <td>...</td>\n",
       "      <td>...</td>\n",
       "      <td>...</td>\n",
       "    </tr>\n",
       "    <tr>\n",
       "      <th>624</th>\n",
       "      <td>Whitefly-associated begomovirus 4</td>\n",
       "      <td>whitefly-asssociated begomovirus 4</td>\n",
       "      <td>Guatemala-GtSq8-2012</td>\n",
       "      <td>DNA-A: KT099128</td>\n",
       "      <td>Complete genome</td>\n",
       "      <td>WfaBV4</td>\n",
       "    </tr>\n",
       "    <tr>\n",
       "      <th>625</th>\n",
       "      <td>Whitefly-associated begomovirus 6</td>\n",
       "      <td>whitefly-asssociated begomovirus 6</td>\n",
       "      <td>Puerto Rico-PR10-2010</td>\n",
       "      <td>DNA-A: KT099139</td>\n",
       "      <td>Complete genome</td>\n",
       "      <td>WfaBV6</td>\n",
       "    </tr>\n",
       "    <tr>\n",
       "      <th>626</th>\n",
       "      <td>Whitefly-associated begomovirus 7</td>\n",
       "      <td>whitefly-asssociated begomovirus 7</td>\n",
       "      <td>Spain-Sp5_4-2011</td>\n",
       "      <td>KT099156</td>\n",
       "      <td>Complete genome</td>\n",
       "      <td>WfaBV7</td>\n",
       "    </tr>\n",
       "    <tr>\n",
       "      <th>627</th>\n",
       "      <td>Wissadula golden mosaic virus</td>\n",
       "      <td>Wissadula golden mosaic virus</td>\n",
       "      <td>Jamaica/St Thomas/2005</td>\n",
       "      <td>DNA-A: DQ395343;DNA-B: EU158095</td>\n",
       "      <td>Complete genome</td>\n",
       "      <td>WGMV</td>\n",
       "    </tr>\n",
       "    <tr>\n",
       "      <th>628</th>\n",
       "      <td>Wissadula yellow mosaic virus</td>\n",
       "      <td>Wissadula yellow mosaic virus</td>\n",
       "      <td>Brazil-ALW35_5B-2014</td>\n",
       "      <td>DNA-A: KX691411</td>\n",
       "      <td>Complete genome</td>\n",
       "      <td>WYMV</td>\n",
       "    </tr>\n",
       "  </tbody>\n",
       "</table>\n",
       "<p>629 rows × 6 columns</p>\n",
       "</div>"
      ],
      "text/plain": [
       "                                       Species  \\\n",
       "0                 Abutilon golden mosaic virus   \n",
       "1                Abutilon mosaic Bolivia virus   \n",
       "2                 Abutilon mosaic Brazil virus   \n",
       "3                        Abutilon mosaic virus   \n",
       "4    African cassava mosaic Burkina Faso virus   \n",
       "..                                         ...   \n",
       "624          Whitefly-associated begomovirus 4   \n",
       "625          Whitefly-associated begomovirus 6   \n",
       "626          Whitefly-associated begomovirus 7   \n",
       "627              Wissadula golden mosaic virus   \n",
       "628              Wissadula yellow mosaic virus   \n",
       "\n",
       "                                    Virus name                 Isolate  \\\n",
       "0                 Abutilon golden mosaic virus     Mexico/Yucatan/2007   \n",
       "1                Abutilon mosaic Bolivia virus            Bolivia/2007   \n",
       "2                 Abutilon mosaic Brazil virus     Brazil/BGV01A.1.C21   \n",
       "3                        Abutilon mosaic virus                 Germany   \n",
       "4    African cassava mosaic Burkina Faso virus           BF-Oua-127-08   \n",
       "..                                         ...                     ...   \n",
       "624         whitefly-asssociated begomovirus 4    Guatemala-GtSq8-2012   \n",
       "625         whitefly-asssociated begomovirus 6   Puerto Rico-PR10-2010   \n",
       "626         whitefly-asssociated begomovirus 7        Spain-Sp5_4-2011   \n",
       "627              Wissadula golden mosaic virus  Jamaica/St Thomas/2005   \n",
       "628              Wissadula yellow mosaic virus    Brazil-ALW35_5B-2014   \n",
       "\n",
       "                           Accession Available sequence  Abbrev  \n",
       "0                    DNA-A: KC430935    Complete genome   AbGMV  \n",
       "1    DNA-A: HM585445;DNA-B: HM585446    Complete genome  AbMBoV  \n",
       "2    DNA-A: JF694480;DNA-B: JF694479    Complete genome   AbMBV  \n",
       "3        DNA-A: X15983;DNA-B: X15984    Complete genome    AbMV  \n",
       "4    DNA-A: HE616777;DNA-B: HE616778    Complete genome  ACMBFV  \n",
       "..                               ...                ...     ...  \n",
       "624                  DNA-A: KT099128    Complete genome  WfaBV4  \n",
       "625                  DNA-A: KT099139    Complete genome  WfaBV6  \n",
       "626                         KT099156    Complete genome  WfaBV7  \n",
       "627  DNA-A: DQ395343;DNA-B: EU158095    Complete genome    WGMV  \n",
       "628                  DNA-A: KX691411    Complete genome    WYMV  \n",
       "\n",
       "[629 rows x 6 columns]"
      ]
     },
     "execution_count": 44,
     "metadata": {},
     "output_type": "execute_result"
    }
   ],
   "source": [
    "begomo"
   ]
  },
  {
   "cell_type": "code",
   "execution_count": null,
   "id": "2f2fa24c-04f1-490f-aa5f-d612b2698621",
   "metadata": {},
   "outputs": [],
   "source": []
  },
  {
   "cell_type": "code",
   "execution_count": 3,
   "id": "0c190a70-fb5a-42b9-98c9-d61785a4a824",
   "metadata": {
    "execution": {
     "iopub.execute_input": "2023-09-20T09:11:23.517545Z",
     "iopub.status.busy": "2023-09-20T09:11:23.514957Z",
     "iopub.status.idle": "2023-09-20T09:11:23.523325Z",
     "shell.execute_reply": "2023-09-20T09:11:23.522712Z",
     "shell.execute_reply.started": "2023-09-20T09:11:23.517545Z"
    }
   },
   "outputs": [],
   "source": [
    "# https://www.ncbi.nlm.nih.gov/sviewer/viewer.cgi?tool=portal&save=file&log$=seqview&db=nuccore&report=fasta&id=89330928&conwithfeat=on&withparts=on&show-sequence=on&hide-cdd=on&ncbi_phid=CE8AC93650A0D641000000000A89088C"
   ]
  },
  {
   "cell_type": "code",
   "execution_count": null,
   "id": "d511842f-3d67-47cc-bc63-4b3b4e742e29",
   "metadata": {},
   "outputs": [],
   "source": []
  },
  {
   "cell_type": "code",
   "execution_count": 10,
   "id": "274a34db-352c-4d63-b6c5-822b40fa9219",
   "metadata": {
    "execution": {
     "iopub.execute_input": "2023-09-20T12:17:36.226411Z",
     "iopub.status.busy": "2023-09-20T12:17:36.226411Z",
     "iopub.status.idle": "2023-09-20T12:17:36.232356Z",
     "shell.execute_reply": "2023-09-20T12:17:36.232356Z",
     "shell.execute_reply.started": "2023-09-20T12:17:36.226411Z"
    }
   },
   "outputs": [],
   "source": [
    "cmv = pd.read_csv(\"./data/cassava_filtered.csv\")"
   ]
  },
  {
   "cell_type": "code",
   "execution_count": 13,
   "id": "b25faa67-38c8-4156-8b8a-d0f99d50f5bd",
   "metadata": {
    "execution": {
     "iopub.execute_input": "2023-09-20T12:22:39.309012Z",
     "iopub.status.busy": "2023-09-20T12:22:39.309012Z",
     "iopub.status.idle": "2023-09-20T12:22:39.318389Z",
     "shell.execute_reply": "2023-09-20T12:22:39.318389Z",
     "shell.execute_reply.started": "2023-09-20T12:22:39.309012Z"
    }
   },
   "outputs": [
    {
     "data": {
      "text/plain": [
       "Index(['Species', 'Virus name', 'Isolate', 'Accession', 'Available sequence',\n",
       "       'Abbrev'],\n",
       "      dtype='object')"
      ]
     },
     "execution_count": 13,
     "metadata": {},
     "output_type": "execute_result"
    }
   ],
   "source": [
    "cmv.columns"
   ]
  },
  {
   "cell_type": "code",
   "execution_count": 16,
   "id": "495f9895-5ede-450b-a329-79d40783b276",
   "metadata": {
    "execution": {
     "iopub.execute_input": "2023-09-20T12:27:29.923284Z",
     "iopub.status.busy": "2023-09-20T12:27:29.919282Z",
     "iopub.status.idle": "2023-09-20T12:27:29.931652Z",
     "shell.execute_reply": "2023-09-20T12:27:29.931652Z",
     "shell.execute_reply.started": "2023-09-20T12:27:29.919282Z"
    }
   },
   "outputs": [
    {
     "data": {
      "text/html": [
       "<div>\n",
       "<style scoped>\n",
       "    .dataframe tbody tr th:only-of-type {\n",
       "        vertical-align: middle;\n",
       "    }\n",
       "\n",
       "    .dataframe tbody tr th {\n",
       "        vertical-align: top;\n",
       "    }\n",
       "\n",
       "    .dataframe thead th {\n",
       "        text-align: right;\n",
       "    }\n",
       "</style>\n",
       "<table border=\"1\" class=\"dataframe\">\n",
       "  <thead>\n",
       "    <tr style=\"text-align: right;\">\n",
       "      <th></th>\n",
       "      <th>Abbrev</th>\n",
       "      <th>Accession</th>\n",
       "    </tr>\n",
       "  </thead>\n",
       "  <tbody>\n",
       "    <tr>\n",
       "      <th>0</th>\n",
       "      <td>ACMBFV</td>\n",
       "      <td>DNA-A: HE616777;DNA-B: HE616778</td>\n",
       "    </tr>\n",
       "    <tr>\n",
       "      <th>1</th>\n",
       "      <td>ACMV</td>\n",
       "      <td>DNA-A: J02057;DNA-B: J02058</td>\n",
       "    </tr>\n",
       "    <tr>\n",
       "      <th>2</th>\n",
       "      <td>CMMGV</td>\n",
       "      <td>DNA-A: HE617299;DNA-B: HE617300</td>\n",
       "    </tr>\n",
       "    <tr>\n",
       "      <th>3</th>\n",
       "      <td>EACMCMV</td>\n",
       "      <td>DNA-A: AF112354;DNA-B: AF112355</td>\n",
       "    </tr>\n",
       "    <tr>\n",
       "      <th>4</th>\n",
       "      <td>EACMKV</td>\n",
       "      <td>DNA-A: AJ717572;DNA-B: AJ704971</td>\n",
       "    </tr>\n",
       "    <tr>\n",
       "      <th>5</th>\n",
       "      <td>EACMMV</td>\n",
       "      <td>DNA-A: AJ006460</td>\n",
       "    </tr>\n",
       "    <tr>\n",
       "      <th>6</th>\n",
       "      <td>EACMV/UG</td>\n",
       "      <td>DNA-A: AF126806;DNA-B: AF126807</td>\n",
       "    </tr>\n",
       "    <tr>\n",
       "      <th>7</th>\n",
       "      <td>EACMV/KE</td>\n",
       "      <td>DNA-A: AJ717542;DNA-B: AJ704949</td>\n",
       "    </tr>\n",
       "    <tr>\n",
       "      <th>8</th>\n",
       "      <td>EACMV/MW</td>\n",
       "      <td>JX473582</td>\n",
       "    </tr>\n",
       "    <tr>\n",
       "      <th>9</th>\n",
       "      <td>EACMV/TZ</td>\n",
       "      <td>DNA-A: AY795983;DNA-B: AY795989</td>\n",
       "    </tr>\n",
       "    <tr>\n",
       "      <th>10</th>\n",
       "      <td>EACMZV</td>\n",
       "      <td>DNA-A: AF422174;DNA-B: AF422175</td>\n",
       "    </tr>\n",
       "    <tr>\n",
       "      <th>11</th>\n",
       "      <td>ICMV/IN</td>\n",
       "      <td>DNA-A: Z24758;DNA-B: Z24759</td>\n",
       "    </tr>\n",
       "    <tr>\n",
       "      <th>12</th>\n",
       "      <td>ICMV</td>\n",
       "      <td>DNA-A: JF496657</td>\n",
       "    </tr>\n",
       "    <tr>\n",
       "      <th>13</th>\n",
       "      <td>ICMV/Jat</td>\n",
       "      <td>DNA-A: GQ924760;DNA-B: GQ924761</td>\n",
       "    </tr>\n",
       "    <tr>\n",
       "      <th>14</th>\n",
       "      <td>ICMV/Ker</td>\n",
       "      <td>DNA-A: AJ575819</td>\n",
       "    </tr>\n",
       "    <tr>\n",
       "      <th>15</th>\n",
       "      <td>SACMV</td>\n",
       "      <td>DNA-A: AF155806;DNA-B: AF155807</td>\n",
       "    </tr>\n",
       "    <tr>\n",
       "      <th>16</th>\n",
       "      <td>SLCMV/LK</td>\n",
       "      <td>DNA-A: AJ314737;DNA-B: AJ314738</td>\n",
       "    </tr>\n",
       "    <tr>\n",
       "      <th>17</th>\n",
       "      <td>SLCMV/IN</td>\n",
       "      <td>DNA-A: AJ579307</td>\n",
       "    </tr>\n",
       "  </tbody>\n",
       "</table>\n",
       "</div>"
      ],
      "text/plain": [
       "      Abbrev                        Accession\n",
       "0     ACMBFV  DNA-A: HE616777;DNA-B: HE616778\n",
       "1       ACMV      DNA-A: J02057;DNA-B: J02058\n",
       "2      CMMGV  DNA-A: HE617299;DNA-B: HE617300\n",
       "3    EACMCMV  DNA-A: AF112354;DNA-B: AF112355\n",
       "4     EACMKV  DNA-A: AJ717572;DNA-B: AJ704971\n",
       "5     EACMMV                  DNA-A: AJ006460\n",
       "6   EACMV/UG  DNA-A: AF126806;DNA-B: AF126807\n",
       "7   EACMV/KE  DNA-A: AJ717542;DNA-B: AJ704949\n",
       "8   EACMV/MW                         JX473582\n",
       "9   EACMV/TZ  DNA-A: AY795983;DNA-B: AY795989\n",
       "10    EACMZV  DNA-A: AF422174;DNA-B: AF422175\n",
       "11   ICMV/IN      DNA-A: Z24758;DNA-B: Z24759\n",
       "12      ICMV                  DNA-A: JF496657\n",
       "13  ICMV/Jat  DNA-A: GQ924760;DNA-B: GQ924761\n",
       "14  ICMV/Ker                  DNA-A: AJ575819\n",
       "15     SACMV  DNA-A: AF155806;DNA-B: AF155807\n",
       "16  SLCMV/LK  DNA-A: AJ314737;DNA-B: AJ314738\n",
       "17  SLCMV/IN                  DNA-A: AJ579307"
      ]
     },
     "execution_count": 16,
     "metadata": {},
     "output_type": "execute_result"
    }
   ],
   "source": [
    "cmv.loc[:, [\"Abbrev\", \"Accession\"]]"
   ]
  },
  {
   "cell_type": "code",
   "execution_count": 35,
   "id": "d39c9aed-fa61-4783-befe-6db277d44ee7",
   "metadata": {
    "execution": {
     "iopub.execute_input": "2023-09-20T12:32:02.550977Z",
     "iopub.status.busy": "2023-09-20T12:32:02.550977Z",
     "iopub.status.idle": "2023-09-20T12:32:02.557285Z",
     "shell.execute_reply": "2023-09-20T12:32:02.557285Z",
     "shell.execute_reply.started": "2023-09-20T12:32:02.550977Z"
    }
   },
   "outputs": [
    {
     "data": {
      "text/plain": [
       "['DNA-A: HE616777',\n",
       " 'DNA-A: J02057',\n",
       " 'DNA-A: HE617299',\n",
       " 'DNA-A: AF112354',\n",
       " 'DNA-A: AJ717572',\n",
       " 'DNA-A: AJ006460',\n",
       " 'DNA-A: AF126806',\n",
       " 'DNA-A: AJ717542',\n",
       " 'JX473582',\n",
       " 'DNA-A: AY795983',\n",
       " 'DNA-A: AF422174',\n",
       " 'DNA-A: Z24758',\n",
       " 'DNA-A: JF496657',\n",
       " 'DNA-A: GQ924760',\n",
       " 'DNA-A: AJ575819',\n",
       " 'DNA-A: AF155806',\n",
       " 'DNA-A: AJ314737',\n",
       " 'DNA-A: AJ579307']"
      ]
     },
     "execution_count": 35,
     "metadata": {},
     "output_type": "execute_result"
    }
   ],
   "source": [
    "[acc[0] for acc in cmv.Accession.str.split(\";\")]"
   ]
  },
  {
   "cell_type": "code",
   "execution_count": 38,
   "id": "9fde55eb-2ba3-45d5-859f-55c3137fefbe",
   "metadata": {
    "execution": {
     "iopub.execute_input": "2023-09-20T12:34:46.552957Z",
     "iopub.status.busy": "2023-09-20T12:34:46.552957Z",
     "iopub.status.idle": "2023-09-20T12:34:46.610989Z",
     "shell.execute_reply": "2023-09-20T12:34:46.610989Z",
     "shell.execute_reply.started": "2023-09-20T12:34:46.552957Z"
    }
   },
   "outputs": [],
   "source": [
    "accessions = []\n",
    "\n",
    "for fasta in os.listdir(\"./data/refseqs/edited/\"):\n",
    "    with open(\"./data/refseqs/edited/\" + fasta, \"r\") as file:\n",
    "        accessions.append(str(file.read()).split(\"|\")[0].replace('>', ''))"
   ]
  },
  {
   "cell_type": "code",
   "execution_count": 42,
   "id": "f5d63eb7-5dbc-4dd3-a711-1989b40a4c8d",
   "metadata": {
    "execution": {
     "iopub.execute_input": "2023-09-20T12:39:04.516636Z",
     "iopub.status.busy": "2023-09-20T12:39:04.516636Z",
     "iopub.status.idle": "2023-09-20T12:39:04.526360Z",
     "shell.execute_reply": "2023-09-20T12:39:04.525678Z",
     "shell.execute_reply.started": "2023-09-20T12:39:04.516636Z"
    }
   },
   "outputs": [
    {
     "data": {
      "text/plain": [
       "['HE616777',\n",
       " 'J02057',\n",
       " 'HE617299',\n",
       " 'AF112354',\n",
       " 'AJ717572',\n",
       " 'AJ006460',\n",
       " 'AJ717542',\n",
       " 'JX473582',\n",
       " 'AY795983',\n",
       " 'AF126806',\n",
       " 'AF422174',\n",
       " 'Z24758',\n",
       " 'GQ924760',\n",
       " 'AJ575819',\n",
       " 'JF496657',\n",
       " 'AF155806',\n",
       " 'AJ579307',\n",
       " 'AJ314737']"
      ]
     },
     "execution_count": 42,
     "metadata": {},
     "output_type": "execute_result"
    }
   ],
   "source": [
    "accessions"
   ]
  },
  {
   "cell_type": "code",
   "execution_count": 43,
   "id": "296363ca-e33f-4ffa-aba4-98d487c175b0",
   "metadata": {
    "execution": {
     "iopub.execute_input": "2023-09-20T12:39:14.311193Z",
     "iopub.status.busy": "2023-09-20T12:39:14.311193Z",
     "iopub.status.idle": "2023-09-20T12:39:14.319454Z",
     "shell.execute_reply": "2023-09-20T12:39:14.319454Z",
     "shell.execute_reply.started": "2023-09-20T12:39:14.311193Z"
    }
   },
   "outputs": [
    {
     "data": {
      "text/html": [
       "<div>\n",
       "<style scoped>\n",
       "    .dataframe tbody tr th:only-of-type {\n",
       "        vertical-align: middle;\n",
       "    }\n",
       "\n",
       "    .dataframe tbody tr th {\n",
       "        vertical-align: top;\n",
       "    }\n",
       "\n",
       "    .dataframe thead th {\n",
       "        text-align: right;\n",
       "    }\n",
       "</style>\n",
       "<table border=\"1\" class=\"dataframe\">\n",
       "  <thead>\n",
       "    <tr style=\"text-align: right;\">\n",
       "      <th></th>\n",
       "      <th>Species</th>\n",
       "      <th>Virus name</th>\n",
       "      <th>Isolate</th>\n",
       "      <th>Accession</th>\n",
       "      <th>Available sequence</th>\n",
       "      <th>Abbrev</th>\n",
       "    </tr>\n",
       "  </thead>\n",
       "  <tbody>\n",
       "    <tr>\n",
       "      <th>0</th>\n",
       "      <td>African cassava mosaic Burkina Faso virus</td>\n",
       "      <td>African cassava mosaic Burkina Faso virus</td>\n",
       "      <td>BF-Oua-127-08</td>\n",
       "      <td>DNA-A: HE616777;DNA-B: HE616778</td>\n",
       "      <td>Complete genome</td>\n",
       "      <td>ACMBFV</td>\n",
       "    </tr>\n",
       "    <tr>\n",
       "      <th>1</th>\n",
       "      <td>African cassava mosaic virus</td>\n",
       "      <td>African cassava mosaic virus</td>\n",
       "      <td>Cameroon/1998</td>\n",
       "      <td>DNA-A: J02057;DNA-B: J02058</td>\n",
       "      <td>Complete genome</td>\n",
       "      <td>ACMV</td>\n",
       "    </tr>\n",
       "    <tr>\n",
       "      <th>2</th>\n",
       "      <td>Cassava mosaic Madagascar virus</td>\n",
       "      <td>cassava mosaic Madagascar virus</td>\n",
       "      <td>Madgascar/Toliary/2006</td>\n",
       "      <td>DNA-A: HE617299;DNA-B: HE617300</td>\n",
       "      <td>Complete genome</td>\n",
       "      <td>CMMGV</td>\n",
       "    </tr>\n",
       "    <tr>\n",
       "      <th>3</th>\n",
       "      <td>East African cassava mosaic Cameroon virus</td>\n",
       "      <td>East African cassava mosaic Cameroon virus</td>\n",
       "      <td>Cameroon/1998</td>\n",
       "      <td>DNA-A: AF112354;DNA-B: AF112355</td>\n",
       "      <td>Complete genome</td>\n",
       "      <td>EACMCMV</td>\n",
       "    </tr>\n",
       "    <tr>\n",
       "      <th>4</th>\n",
       "      <td>East African cassava mosaic Kenya virus</td>\n",
       "      <td>East African cassava mosaic Kenya virus</td>\n",
       "      <td>Kenya/Mitaboni/K298/2002</td>\n",
       "      <td>DNA-A: AJ717572;DNA-B: AJ704971</td>\n",
       "      <td>Complete genome</td>\n",
       "      <td>EACMKV</td>\n",
       "    </tr>\n",
       "    <tr>\n",
       "      <th>5</th>\n",
       "      <td>East African cassava mosaic Malawi virus</td>\n",
       "      <td>East African cassava mosaic Malawi virus</td>\n",
       "      <td>Malawi/K/1996</td>\n",
       "      <td>DNA-A: AJ006460</td>\n",
       "      <td>Complete genome</td>\n",
       "      <td>EACMMV</td>\n",
       "    </tr>\n",
       "    <tr>\n",
       "      <th>6</th>\n",
       "      <td>East African cassava mosaic virus</td>\n",
       "      <td>East African cassava mosaic virus</td>\n",
       "      <td>Uganda/Severe 2/1997/Uganda</td>\n",
       "      <td>DNA-A: AF126806;DNA-B: AF126807</td>\n",
       "      <td>Complete genome</td>\n",
       "      <td>EACMV/UG</td>\n",
       "    </tr>\n",
       "    <tr>\n",
       "      <th>7</th>\n",
       "      <td>East African cassava mosaic virus</td>\n",
       "      <td>East African cassava mosaic virus</td>\n",
       "      <td>Kenya/Boa/K48/2001/Kenya</td>\n",
       "      <td>DNA-A: AJ717542;DNA-B: AJ704949</td>\n",
       "      <td>Complete genome</td>\n",
       "      <td>EACMV/KE</td>\n",
       "    </tr>\n",
       "    <tr>\n",
       "      <th>8</th>\n",
       "      <td>East African cassava mosaic virus</td>\n",
       "      <td>East African cassava mosaic virus</td>\n",
       "      <td>Malawi/8N/2007/Malawi</td>\n",
       "      <td>JX473582</td>\n",
       "      <td>Complete genome</td>\n",
       "      <td>EACMV/MW</td>\n",
       "    </tr>\n",
       "    <tr>\n",
       "      <th>9</th>\n",
       "      <td>East African cassava mosaic virus</td>\n",
       "      <td>East African cassava mosaic virus</td>\n",
       "      <td>Tanzania/1/2001/Tanzania</td>\n",
       "      <td>DNA-A: AY795983;DNA-B: AY795989</td>\n",
       "      <td>Complete genome</td>\n",
       "      <td>EACMV/TZ</td>\n",
       "    </tr>\n",
       "    <tr>\n",
       "      <th>10</th>\n",
       "      <td>East African cassava mosaic Zanzibar virus</td>\n",
       "      <td>East African cassava mosaic Zanzibar virus</td>\n",
       "      <td>Tanzania/Uguja/1998</td>\n",
       "      <td>DNA-A: AF422174;DNA-B: AF422175</td>\n",
       "      <td>Complete genome</td>\n",
       "      <td>EACMZV</td>\n",
       "    </tr>\n",
       "    <tr>\n",
       "      <th>11</th>\n",
       "      <td>Indian cassava mosaic virus</td>\n",
       "      <td>Indian cassava mosaic virus</td>\n",
       "      <td>India/Trivandrum/1986/India</td>\n",
       "      <td>DNA-A: Z24758;DNA-B: Z24759</td>\n",
       "      <td>Complete genome</td>\n",
       "      <td>ICMV/IN</td>\n",
       "    </tr>\n",
       "    <tr>\n",
       "      <th>12</th>\n",
       "      <td>Indian cassava mosaic virus</td>\n",
       "      <td>Indian cassava mosaic virus</td>\n",
       "      <td>India/Maharashtra/2009</td>\n",
       "      <td>DNA-A: JF496657</td>\n",
       "      <td>Complete genome</td>\n",
       "      <td>ICMV</td>\n",
       "    </tr>\n",
       "    <tr>\n",
       "      <th>13</th>\n",
       "      <td>Indian cassava mosaic virus</td>\n",
       "      <td>Indian cassava mosaic virus</td>\n",
       "      <td>India/Dhawad/2008/Jatropha</td>\n",
       "      <td>DNA-A: GQ924760;DNA-B: GQ924761</td>\n",
       "      <td>Complete genome</td>\n",
       "      <td>ICMV/Jat</td>\n",
       "    </tr>\n",
       "    <tr>\n",
       "      <th>14</th>\n",
       "      <td>Indian cassava mosaic virus</td>\n",
       "      <td>Indian cassava mosaic virus</td>\n",
       "      <td>India/Kerala 2/2002/Kerala</td>\n",
       "      <td>DNA-A: AJ575819</td>\n",
       "      <td>Complete genome</td>\n",
       "      <td>ICMV/Ker</td>\n",
       "    </tr>\n",
       "    <tr>\n",
       "      <th>15</th>\n",
       "      <td>South African cassava mosaic virus</td>\n",
       "      <td>South African cassava mosaic virus</td>\n",
       "      <td>South Africa</td>\n",
       "      <td>DNA-A: AF155806;DNA-B: AF155807</td>\n",
       "      <td>Complete genome</td>\n",
       "      <td>SACMV</td>\n",
       "    </tr>\n",
       "    <tr>\n",
       "      <th>16</th>\n",
       "      <td>Sri Lankan cassava mosaic virus</td>\n",
       "      <td>Sri Lankan cassava mosaic virus</td>\n",
       "      <td>Sri Lanka/Colombo/1998/Sri Lanka</td>\n",
       "      <td>DNA-A: AJ314737;DNA-B: AJ314738</td>\n",
       "      <td>Complete genome</td>\n",
       "      <td>SLCMV/LK</td>\n",
       "    </tr>\n",
       "    <tr>\n",
       "      <th>17</th>\n",
       "      <td>Sri Lankan cassava mosaic virus</td>\n",
       "      <td>Sri Lankan cassava mosaic virus</td>\n",
       "      <td>India/Adivaram/2003/India</td>\n",
       "      <td>DNA-A: AJ579307</td>\n",
       "      <td>Complete genome</td>\n",
       "      <td>SLCMV/IN</td>\n",
       "    </tr>\n",
       "  </tbody>\n",
       "</table>\n",
       "</div>"
      ],
      "text/plain": [
       "                                       Species  \\\n",
       "0    African cassava mosaic Burkina Faso virus   \n",
       "1                 African cassava mosaic virus   \n",
       "2              Cassava mosaic Madagascar virus   \n",
       "3   East African cassava mosaic Cameroon virus   \n",
       "4      East African cassava mosaic Kenya virus   \n",
       "5     East African cassava mosaic Malawi virus   \n",
       "6            East African cassava mosaic virus   \n",
       "7            East African cassava mosaic virus   \n",
       "8            East African cassava mosaic virus   \n",
       "9            East African cassava mosaic virus   \n",
       "10  East African cassava mosaic Zanzibar virus   \n",
       "11                 Indian cassava mosaic virus   \n",
       "12                 Indian cassava mosaic virus   \n",
       "13                 Indian cassava mosaic virus   \n",
       "14                 Indian cassava mosaic virus   \n",
       "15          South African cassava mosaic virus   \n",
       "16             Sri Lankan cassava mosaic virus   \n",
       "17             Sri Lankan cassava mosaic virus   \n",
       "\n",
       "                                    Virus name  \\\n",
       "0    African cassava mosaic Burkina Faso virus   \n",
       "1                 African cassava mosaic virus   \n",
       "2              cassava mosaic Madagascar virus   \n",
       "3   East African cassava mosaic Cameroon virus   \n",
       "4      East African cassava mosaic Kenya virus   \n",
       "5     East African cassava mosaic Malawi virus   \n",
       "6            East African cassava mosaic virus   \n",
       "7            East African cassava mosaic virus   \n",
       "8            East African cassava mosaic virus   \n",
       "9            East African cassava mosaic virus   \n",
       "10  East African cassava mosaic Zanzibar virus   \n",
       "11                 Indian cassava mosaic virus   \n",
       "12                 Indian cassava mosaic virus   \n",
       "13                 Indian cassava mosaic virus   \n",
       "14                 Indian cassava mosaic virus   \n",
       "15          South African cassava mosaic virus   \n",
       "16             Sri Lankan cassava mosaic virus   \n",
       "17             Sri Lankan cassava mosaic virus   \n",
       "\n",
       "                             Isolate                        Accession  \\\n",
       "0                      BF-Oua-127-08  DNA-A: HE616777;DNA-B: HE616778   \n",
       "1                      Cameroon/1998      DNA-A: J02057;DNA-B: J02058   \n",
       "2             Madgascar/Toliary/2006  DNA-A: HE617299;DNA-B: HE617300   \n",
       "3                      Cameroon/1998  DNA-A: AF112354;DNA-B: AF112355   \n",
       "4           Kenya/Mitaboni/K298/2002  DNA-A: AJ717572;DNA-B: AJ704971   \n",
       "5                      Malawi/K/1996                  DNA-A: AJ006460   \n",
       "6        Uganda/Severe 2/1997/Uganda  DNA-A: AF126806;DNA-B: AF126807   \n",
       "7           Kenya/Boa/K48/2001/Kenya  DNA-A: AJ717542;DNA-B: AJ704949   \n",
       "8              Malawi/8N/2007/Malawi                         JX473582   \n",
       "9           Tanzania/1/2001/Tanzania  DNA-A: AY795983;DNA-B: AY795989   \n",
       "10               Tanzania/Uguja/1998  DNA-A: AF422174;DNA-B: AF422175   \n",
       "11       India/Trivandrum/1986/India      DNA-A: Z24758;DNA-B: Z24759   \n",
       "12            India/Maharashtra/2009                  DNA-A: JF496657   \n",
       "13        India/Dhawad/2008/Jatropha  DNA-A: GQ924760;DNA-B: GQ924761   \n",
       "14        India/Kerala 2/2002/Kerala                  DNA-A: AJ575819   \n",
       "15                      South Africa  DNA-A: AF155806;DNA-B: AF155807   \n",
       "16  Sri Lanka/Colombo/1998/Sri Lanka  DNA-A: AJ314737;DNA-B: AJ314738   \n",
       "17         India/Adivaram/2003/India                  DNA-A: AJ579307   \n",
       "\n",
       "   Available sequence    Abbrev  \n",
       "0     Complete genome    ACMBFV  \n",
       "1     Complete genome      ACMV  \n",
       "2     Complete genome     CMMGV  \n",
       "3     Complete genome   EACMCMV  \n",
       "4     Complete genome    EACMKV  \n",
       "5     Complete genome    EACMMV  \n",
       "6     Complete genome  EACMV/UG  \n",
       "7     Complete genome  EACMV/KE  \n",
       "8     Complete genome  EACMV/MW  \n",
       "9     Complete genome  EACMV/TZ  \n",
       "10    Complete genome    EACMZV  \n",
       "11    Complete genome   ICMV/IN  \n",
       "12    Complete genome      ICMV  \n",
       "13    Complete genome  ICMV/Jat  \n",
       "14    Complete genome  ICMV/Ker  \n",
       "15    Complete genome     SACMV  \n",
       "16    Complete genome  SLCMV/LK  \n",
       "17    Complete genome  SLCMV/IN  "
      ]
     },
     "execution_count": 43,
     "metadata": {},
     "output_type": "execute_result"
    }
   ],
   "source": [
    "cmv"
   ]
  }
 ],
 "metadata": {
  "kernelspec": {
   "display_name": "Python 3 (ipykernel)",
   "language": "python",
   "name": "python3"
  },
  "language_info": {
   "codemirror_mode": {
    "name": "ipython",
    "version": 3
   },
   "file_extension": ".py",
   "mimetype": "text/x-python",
   "name": "python",
   "nbconvert_exporter": "python",
   "pygments_lexer": "ipython3",
   "version": "3.11.5"
  }
 },
 "nbformat": 4,
 "nbformat_minor": 5
}
