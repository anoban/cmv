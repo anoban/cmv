{
 "cells": [
  {
   "cell_type": "code",
   "execution_count": 1,
   "id": "7d59b97b-0c0c-4adf-abb7-ce60c673e5b5",
   "metadata": {
    "execution": {
     "iopub.execute_input": "2023-09-26T13:07:06.999248Z",
     "iopub.status.busy": "2023-09-26T13:07:06.999248Z",
     "iopub.status.idle": "2023-09-26T13:07:08.903125Z",
     "shell.execute_reply": "2023-09-26T13:07:08.902167Z",
     "shell.execute_reply.started": "2023-09-26T13:07:06.999248Z"
    }
   },
   "outputs": [],
   "source": [
    "import numpy as np\n",
    "from numpy.typing import NDArray\n",
    "import pandas as pd\n",
    "import matplotlib.pyplot as plt\n",
    "import os"
   ]
  },
  {
   "cell_type": "code",
   "execution_count": null,
   "id": "eb1b7f47-efaa-4b78-899d-3abdc01a796f",
   "metadata": {},
   "outputs": [],
   "source": []
  },
  {
   "cell_type": "code",
   "execution_count": 2,
   "id": "771b3f42-101b-4473-b468-23332817ab58",
   "metadata": {
    "execution": {
     "iopub.execute_input": "2023-09-25T22:58:39.482130Z",
     "iopub.status.busy": "2023-09-25T22:58:39.482130Z",
     "iopub.status.idle": "2023-09-25T22:58:39.504150Z",
     "shell.execute_reply": "2023-09-25T22:58:39.504150Z",
     "shell.execute_reply.started": "2023-09-25T22:58:39.482130Z"
    }
   },
   "outputs": [],
   "source": [
    "def extend_array(array: NDArray, size: np.uint64, filler: np.float64 = 0) -> NDArray:\n",
    "    \n",
    "    \"\"\"\n",
    "    array: NDArray          => Input Numpy array (One dimensional).\n",
    "    size: np.uint64         => Size of the newly created array.\n",
    "    filler: np.float64 = 0  => Value to fill the new elements.\n",
    "    \n",
    "    Takes in a one dimensional numpy array of numbers (ints and floats) and extends the array to the specified size.\n",
    "    The returned array is a new array with the original elements at the front and fillers padded at the back.\n",
    "    By default the filler is 0.\n",
    "    If `size` is less than array.size an exception will be thrown!\n",
    "    If `size` is equal to array.size the same input array will be returned!\n",
    "    \"\"\"\n",
    "    \n",
    "    assert isinstance(array, np.ndarray), \"Only Numpy arrays are accepted for the `array` argument!\"\n",
    "    assert len(array.shape) == 1, \"Only one dimensional Numpy arrays are accepted for the `array` argument!\"\n",
    "    \n",
    "    if array.size > size:\n",
    "        raise ValueError(\"array.size > size: Cannot accept sizes smaller than the size of passed array!\")\n",
    "    elif array.size == size:\n",
    "        return array\n",
    "\n",
    "    filler = np.full(size - array.size, fill_value = filler, dtype = array.dtype)\n",
    "    return np.append(array, filler)"
   ]
  },
  {
   "cell_type": "code",
   "execution_count": 3,
   "id": "b25d1c77-3953-467a-9c51-bbbd59359b57",
   "metadata": {
    "execution": {
     "iopub.execute_input": "2023-09-25T22:58:39.892852Z",
     "iopub.status.busy": "2023-09-25T22:58:39.892852Z",
     "iopub.status.idle": "2023-09-25T22:58:39.902138Z",
     "shell.execute_reply": "2023-09-25T22:58:39.900999Z",
     "shell.execute_reply.started": "2023-09-25T22:58:39.892852Z"
    }
   },
   "outputs": [],
   "source": [
    "def fasta_to_numpy(fasta_file_path: str, enc: str = \"ascii\") -> NDArray:\n",
    "    \n",
    "    \"\"\"\n",
    "    fasta_file_path: str => Path to the .fasta or .fa file containing the DNA sequence.\n",
    "    enc: str = \"ascii\"   => Encoding used in the .fasta file.\n",
    "\n",
    "    Reads in the FASTA file specified by `fasta_file_path` and truns it into a Numpy one\n",
    "    dimensional array of characters (nucleotides).\n",
    "    A FileNotFoundError will be raised if the file specified by `fasta_file_path` does not exist on the system.\n",
    "    \"\"\"\n",
    "\n",
    "    if not os.path.exists(fasta_file_path):\n",
    "        raise FileNotFoundError(f\"{fasta_file_path} is not found in the system!\") \n",
    "\n",
    "    with open(fasta_file_path, \"r\", encoding = enc) as fp:\n",
    "        contents = str(fp.read())\n",
    "    \n",
    "    # get rid of the first line >ACCESSION SOME KUMBAYA.\n",
    "    # and cleanup newline characters if present.\n",
    "    content = \"\".join(contents.splitlines()[1:]).replace('\\n', '')\n",
    "\n",
    "    return np.array(list(content))"
   ]
  },
  {
   "cell_type": "code",
   "execution_count": 4,
   "id": "3668ac4a-add5-49ee-888f-85257c3edb2e",
   "metadata": {
    "execution": {
     "iopub.execute_input": "2023-09-25T22:58:40.335210Z",
     "iopub.status.busy": "2023-09-25T22:58:40.335210Z",
     "iopub.status.idle": "2023-09-25T22:58:40.386405Z",
     "shell.execute_reply": "2023-09-25T22:58:40.386405Z",
     "shell.execute_reply.started": "2023-09-25T22:58:40.335210Z"
    }
   },
   "outputs": [
    {
     "data": {
      "text/plain": [
       "array(['A', 'C', 'G', 'T'], dtype='<U1')"
      ]
     },
     "execution_count": 4,
     "metadata": {},
     "output_type": "execute_result"
    }
   ],
   "source": [
    "np.unique(fasta_to_numpy(\"./data/seqs/Kin2021.fasta\"))"
   ]
  },
  {
   "cell_type": "code",
   "execution_count": 5,
   "id": "ddb6f61c-266e-4f5c-8e27-ae2937c78881",
   "metadata": {
    "execution": {
     "iopub.execute_input": "2023-09-25T22:58:41.789655Z",
     "iopub.status.busy": "2023-09-25T22:58:41.789655Z",
     "iopub.status.idle": "2023-09-25T22:58:41.929375Z",
     "shell.execute_reply": "2023-09-25T22:58:41.929375Z",
     "shell.execute_reply.started": "2023-09-25T22:58:41.789655Z"
    }
   },
   "outputs": [],
   "source": [
    "seqs = []\n",
    "\n",
    "for f in os.listdir(\"./data/refseqs/edited/\"):\n",
    "        with open(\"./data/refseqs/edited/\"+ f, \"r\") as file:\n",
    "            seqs.append(str(file.read()))\n",
    "            "
   ]
  },
  {
   "cell_type": "code",
   "execution_count": 6,
   "id": "9c17e7b9-eda1-4136-ac57-f7fb393f1e9c",
   "metadata": {
    "execution": {
     "iopub.execute_input": "2023-09-25T22:58:43.067542Z",
     "iopub.status.busy": "2023-09-25T22:58:43.067542Z",
     "iopub.status.idle": "2023-09-25T22:58:43.117877Z",
     "shell.execute_reply": "2023-09-25T22:58:43.117877Z",
     "shell.execute_reply.started": "2023-09-25T22:58:43.067542Z"
    }
   },
   "outputs": [],
   "source": [
    "cleaned_seqs = []\n",
    "temp = \"\"\n",
    "\n",
    "for seq in seqs:\n",
    "    __tmp = seq.splitlines()[1:]      # skip the first >... line\n",
    "    for line in __tmp:\n",
    "        temp += line\n",
    "    cleaned_seqs.append(pd.Series(list(temp)))\n",
    "    temp = \"\""
   ]
  },
  {
   "cell_type": "code",
   "execution_count": 7,
   "id": "f5572e71-6038-4dfa-a637-929ee0608159",
   "metadata": {
    "execution": {
     "iopub.execute_input": "2023-09-25T22:58:43.399134Z",
     "iopub.status.busy": "2023-09-25T22:58:43.398098Z",
     "iopub.status.idle": "2023-09-25T22:58:43.406469Z",
     "shell.execute_reply": "2023-09-25T22:58:43.405434Z",
     "shell.execute_reply.started": "2023-09-25T22:58:43.399134Z"
    }
   },
   "outputs": [
    {
     "data": {
      "text/plain": [
       "[2770,\n",
       " 2779,\n",
       " 2769,\n",
       " 2802,\n",
       " 2797,\n",
       " 2804,\n",
       " 2801,\n",
       " 2798,\n",
       " 2798,\n",
       " 2799,\n",
       " 2785,\n",
       " 2815,\n",
       " 2735,\n",
       " 2743,\n",
       " 2719,\n",
       " 2800,\n",
       " 2758,\n",
       " 2755]"
      ]
     },
     "execution_count": 7,
     "metadata": {},
     "output_type": "execute_result"
    }
   ],
   "source": [
    "seqsizes = [seq.size for seq in cleaned_seqs]\n",
    "seqsizes"
   ]
  },
  {
   "cell_type": "code",
   "execution_count": 8,
   "id": "a079ba0d-0bc4-4628-99df-38c455deaba3",
   "metadata": {
    "execution": {
     "iopub.execute_input": "2023-09-25T22:58:43.891066Z",
     "iopub.status.busy": "2023-09-25T22:58:43.891066Z",
     "iopub.status.idle": "2023-09-25T22:58:43.909526Z",
     "shell.execute_reply": "2023-09-25T22:58:43.907961Z",
     "shell.execute_reply.started": "2023-09-25T22:58:43.891066Z"
    }
   },
   "outputs": [
    {
     "data": {
      "text/plain": [
       "2815"
      ]
     },
     "execution_count": 8,
     "metadata": {},
     "output_type": "execute_result"
    }
   ],
   "source": [
    "sizemax = np.max(seqsizes)\n",
    "sizemax"
   ]
  },
  {
   "cell_type": "code",
   "execution_count": 9,
   "id": "7cb005ab-449f-4a5a-b1b2-2707e64fcfa0",
   "metadata": {
    "execution": {
     "iopub.execute_input": "2023-09-25T22:58:44.255311Z",
     "iopub.status.busy": "2023-09-25T22:58:44.255311Z",
     "iopub.status.idle": "2023-09-25T22:58:44.268844Z",
     "shell.execute_reply": "2023-09-25T22:58:44.268844Z",
     "shell.execute_reply.started": "2023-09-25T22:58:44.255311Z"
    }
   },
   "outputs": [
    {
     "data": {
      "text/plain": [
       "['ACMBFV',\n",
       " 'ACMV',\n",
       " 'CMMGV',\n",
       " 'EACMCMV',\n",
       " 'EACMKV',\n",
       " 'EACMMV',\n",
       " 'EACMV-KE',\n",
       " 'EACMV-MW',\n",
       " 'EACMV-TZ',\n",
       " 'EACMV-UG',\n",
       " 'EACMZV',\n",
       " 'ICMV-IN',\n",
       " 'ICMV-Jat',\n",
       " 'ICMV-Ker',\n",
       " 'ICMV',\n",
       " 'SACMV',\n",
       " 'SLCMV-IN',\n",
       " 'SLCMV-LK']"
      ]
     },
     "execution_count": 9,
     "metadata": {},
     "output_type": "execute_result"
    }
   ],
   "source": [
    "abbrs = [fname.replace(\".fasta\", \"\") for fname in os.listdir(\"./data/refseqs/edited/\")]\n",
    "abbrs"
   ]
  },
  {
   "cell_type": "code",
   "execution_count": null,
   "id": "adba5a65-8b38-4563-9c1f-669595a47b11",
   "metadata": {},
   "outputs": [],
   "source": []
  },
  {
   "cell_type": "code",
   "execution_count": 10,
   "id": "68eb3d2c-924b-4922-b0f5-787854c28f44",
   "metadata": {
    "execution": {
     "iopub.execute_input": "2023-09-25T22:58:44.666660Z",
     "iopub.status.busy": "2023-09-25T22:58:44.666660Z",
     "iopub.status.idle": "2023-09-25T22:58:44.721038Z",
     "shell.execute_reply": "2023-09-25T22:58:44.720220Z",
     "shell.execute_reply.started": "2023-09-25T22:58:44.666660Z"
    }
   },
   "outputs": [],
   "source": [
    "seq_series = []\n",
    "\n",
    "for seq in cleaned_seqs:\n",
    "    if seq.size != sizemax:\n",
    "        seq_series.append(pd.concat([seq, pd.Series(['Z'] * (sizemax - seq.size))], ignore_index = True))\n",
    "    else:\n",
    "        seq_series.append(seq)"
   ]
  },
  {
   "cell_type": "code",
   "execution_count": 11,
   "id": "9458e179-b0c9-4d41-8cc8-2c5a1c77f746",
   "metadata": {
    "execution": {
     "iopub.execute_input": "2023-09-25T22:58:44.825024Z",
     "iopub.status.busy": "2023-09-25T22:58:44.825024Z",
     "iopub.status.idle": "2023-09-25T22:58:44.845271Z",
     "shell.execute_reply": "2023-09-25T22:58:44.844678Z",
     "shell.execute_reply.started": "2023-09-25T22:58:44.825024Z"
    }
   },
   "outputs": [
    {
     "data": {
      "text/plain": [
       "[2815,\n",
       " 2815,\n",
       " 2815,\n",
       " 2815,\n",
       " 2815,\n",
       " 2815,\n",
       " 2815,\n",
       " 2815,\n",
       " 2815,\n",
       " 2815,\n",
       " 2815,\n",
       " 2815,\n",
       " 2815,\n",
       " 2815,\n",
       " 2815,\n",
       " 2815,\n",
       " 2815,\n",
       " 2815]"
      ]
     },
     "execution_count": 11,
     "metadata": {},
     "output_type": "execute_result"
    }
   ],
   "source": [
    "[seq.size for seq in seq_series]"
   ]
  },
  {
   "cell_type": "code",
   "execution_count": 12,
   "id": "7f4a07c7-151b-4915-9319-15357a04b780",
   "metadata": {
    "execution": {
     "iopub.execute_input": "2023-09-25T22:58:44.998121Z",
     "iopub.status.busy": "2023-09-25T22:58:44.998121Z",
     "iopub.status.idle": "2023-09-25T22:58:45.010749Z",
     "shell.execute_reply": "2023-09-25T22:58:45.009979Z",
     "shell.execute_reply.started": "2023-09-25T22:58:44.998121Z"
    }
   },
   "outputs": [],
   "source": [
    "df = {abbr : seq for (abbr, seq) in zip(abbrs, seq_series)}"
   ]
  },
  {
   "cell_type": "code",
   "execution_count": 13,
   "id": "5182a238-c28b-4f15-b5bd-8c6666312d28",
   "metadata": {
    "execution": {
     "iopub.execute_input": "2023-09-25T22:58:45.155929Z",
     "iopub.status.busy": "2023-09-25T22:58:45.155929Z",
     "iopub.status.idle": "2023-09-25T22:58:45.210851Z",
     "shell.execute_reply": "2023-09-25T22:58:45.210851Z",
     "shell.execute_reply.started": "2023-09-25T22:58:45.155929Z"
    }
   },
   "outputs": [],
   "source": [
    "seqframe = pd.DataFrame.from_dict(df)"
   ]
  },
  {
   "cell_type": "code",
   "execution_count": 14,
   "id": "7258fd77-d916-456c-ab0c-c5c8aafbf42e",
   "metadata": {
    "execution": {
     "iopub.execute_input": "2023-09-25T22:58:45.296246Z",
     "iopub.status.busy": "2023-09-25T22:58:45.296246Z",
     "iopub.status.idle": "2023-09-25T22:58:45.316002Z",
     "shell.execute_reply": "2023-09-25T22:58:45.316002Z",
     "shell.execute_reply.started": "2023-09-25T22:58:45.296246Z"
    }
   },
   "outputs": [
    {
     "data": {
      "text/plain": [
       "(2815, 18)"
      ]
     },
     "execution_count": 14,
     "metadata": {},
     "output_type": "execute_result"
    }
   ],
   "source": [
    "seqframe.shape"
   ]
  },
  {
   "cell_type": "code",
   "execution_count": 15,
   "id": "ef8a3eed-d6e5-4224-a156-8698c1139047",
   "metadata": {
    "execution": {
     "iopub.execute_input": "2023-09-25T22:58:45.991961Z",
     "iopub.status.busy": "2023-09-25T22:58:45.991961Z",
     "iopub.status.idle": "2023-09-25T22:58:46.053946Z",
     "shell.execute_reply": "2023-09-25T22:58:46.053946Z",
     "shell.execute_reply.started": "2023-09-25T22:58:45.991961Z"
    }
   },
   "outputs": [
    {
     "data": {
      "text/plain": [
       "ACMBFV      45\n",
       "ACMV        36\n",
       "CMMGV       46\n",
       "EACMCMV     13\n",
       "EACMKV      18\n",
       "EACMMV      11\n",
       "EACMV-KE    14\n",
       "EACMV-MW    17\n",
       "EACMV-TZ    17\n",
       "EACMV-UG    16\n",
       "EACMZV      30\n",
       "ICMV-IN      0\n",
       "ICMV-Jat    80\n",
       "ICMV-Ker    72\n",
       "ICMV        96\n",
       "SACMV       15\n",
       "SLCMV-IN    57\n",
       "SLCMV-LK    60\n",
       "dtype: int64"
      ]
     },
     "execution_count": 15,
     "metadata": {},
     "output_type": "execute_result"
    }
   ],
   "source": [
    "seqframe.apply(lambda column: (column == 'Z').sum(), axis = 0)"
   ]
  },
  {
   "cell_type": "code",
   "execution_count": 16,
   "id": "10170b80-5d04-4da7-b65e-5dcab9f3d6f0",
   "metadata": {
    "execution": {
     "iopub.execute_input": "2023-09-25T22:58:46.577281Z",
     "iopub.status.busy": "2023-09-25T22:58:46.577281Z",
     "iopub.status.idle": "2023-09-25T22:58:46.591275Z",
     "shell.execute_reply": "2023-09-25T22:58:46.591275Z",
     "shell.execute_reply.started": "2023-09-25T22:58:46.577281Z"
    }
   },
   "outputs": [
    {
     "data": {
      "text/plain": [
       "0       65\n",
       "1       67\n",
       "2       67\n",
       "3       71\n",
       "4       71\n",
       "        ..\n",
       "2810    90\n",
       "2811    90\n",
       "2812    90\n",
       "2813    90\n",
       "2814    90\n",
       "Name: ACMBFV, Length: 2815, dtype: int64"
      ]
     },
     "execution_count": 16,
     "metadata": {},
     "output_type": "execute_result"
    }
   ],
   "source": [
    "seqframe.ACMBFV.apply(ord)"
   ]
  },
  {
   "cell_type": "code",
   "execution_count": null,
   "id": "75ae2bb0-0b41-486c-9404-25c83a53c88a",
   "metadata": {},
   "outputs": [],
   "source": []
  },
  {
   "cell_type": "code",
   "execution_count": 19,
   "id": "7f39f64c-9afa-42e0-ba9d-0d5e9876a30f",
   "metadata": {
    "execution": {
     "iopub.execute_input": "2023-09-25T22:58:58.550628Z",
     "iopub.status.busy": "2023-09-25T22:58:58.550628Z",
     "iopub.status.idle": "2023-09-25T22:58:58.557904Z",
     "shell.execute_reply": "2023-09-25T22:58:58.557382Z",
     "shell.execute_reply.started": "2023-09-25T22:58:58.550628Z"
    }
   },
   "outputs": [],
   "source": [
    "def seq_to_numeric(sequence: NDArray) -> NDArray[np.int64]:\n",
    "    \n",
    "    \"\"\"\n",
    "    \n",
    "    \"\"\"\n",
    "        \n",
    "    cmap : dict[str, int] = {\n",
    "        'A': 0,\n",
    "        'T': 20,\n",
    "        'G': 40,\n",
    "        'C': 60, \n",
    "        'Z': 100    # For fillers.\n",
    "    }\n",
    "\n",
    "    status: list[bool] = [ntide in cmap.keys() for ntide in np.unique(sequence)]\n",
    "    assert all(status), \"Unknown nucleotides found in the `sequence` array!\"\n",
    "    return np.array(list(map(lambda ntide: cmap.get(ntide), sequence)), dtype = np.int64)\n",
    "    "
   ]
  },
  {
   "cell_type": "code",
   "execution_count": null,
   "id": "0502a105-1047-408c-98c4-9ae840a84a2b",
   "metadata": {},
   "outputs": [],
   "source": []
  },
  {
   "cell_type": "code",
   "execution_count": 20,
   "id": "0e9d451b-39d2-4936-b328-78a678a3ff0a",
   "metadata": {
    "execution": {
     "iopub.execute_input": "2023-09-25T22:59:00.496805Z",
     "iopub.status.busy": "2023-09-25T22:59:00.496805Z",
     "iopub.status.idle": "2023-09-25T22:59:00.520206Z",
     "shell.execute_reply": "2023-09-25T22:59:00.520206Z",
     "shell.execute_reply.started": "2023-09-25T22:59:00.496805Z"
    }
   },
   "outputs": [
    {
     "data": {
      "text/plain": [
       "(array(['A', 'C', 'G', 'T'], dtype='<U1'),\n",
       " array([689, 614, 652, 791], dtype=int64))"
      ]
     },
     "execution_count": 20,
     "metadata": {},
     "output_type": "execute_result"
    }
   ],
   "source": [
    "np.unique(fasta_to_numpy(\"./data/seqs/Kin2021.fasta\"), return_counts = True)"
   ]
  },
  {
   "cell_type": "code",
   "execution_count": null,
   "id": "3cac8db6-1129-47f2-898f-415f8fe42b2b",
   "metadata": {},
   "outputs": [],
   "source": []
  },
  {
   "cell_type": "code",
   "execution_count": 25,
   "id": "fa7548c8-d8ce-4749-90d3-d03346d0541b",
   "metadata": {
    "execution": {
     "iopub.execute_input": "2023-09-25T22:59:39.163348Z",
     "iopub.status.busy": "2023-09-25T22:59:39.163348Z",
     "iopub.status.idle": "2023-09-25T22:59:39.172125Z",
     "shell.execute_reply": "2023-09-25T22:59:39.171295Z",
     "shell.execute_reply.started": "2023-09-25T22:59:39.163348Z"
    }
   },
   "outputs": [],
   "source": [
    "# Disease incidence plots"
   ]
  },
  {
   "cell_type": "code",
   "execution_count": 67,
   "id": "ff5e9d0a-4152-4220-8003-d2b2fb8a95df",
   "metadata": {
    "execution": {
     "iopub.execute_input": "2023-09-25T23:16:10.626222Z",
     "iopub.status.busy": "2023-09-25T23:16:10.626222Z",
     "iopub.status.idle": "2023-09-25T23:16:10.634403Z",
     "shell.execute_reply": "2023-09-25T23:16:10.634403Z",
     "shell.execute_reply.started": "2023-09-25T23:16:10.626222Z"
    }
   },
   "outputs": [],
   "source": [
    "dinc = pd.read_csv(\"./data/disease_incidence.csv\")\n",
    "dinc.drop(\"Site\", axis = 1, inplace = True)"
   ]
  },
  {
   "cell_type": "code",
   "execution_count": 68,
   "id": "255fb7be-c2dc-41b9-bc81-3e0de2035145",
   "metadata": {
    "execution": {
     "iopub.execute_input": "2023-09-25T23:16:11.657490Z",
     "iopub.status.busy": "2023-09-25T23:16:11.657490Z",
     "iopub.status.idle": "2023-09-25T23:16:11.678785Z",
     "shell.execute_reply": "2023-09-25T23:16:11.678525Z",
     "shell.execute_reply.started": "2023-09-25T23:16:11.657490Z"
    }
   },
   "outputs": [
    {
     "data": {
      "text/plain": [
       "Padavisripura     5.357518\n",
       "Muthur            4.614028\n",
       "Nilaveli          5.259907\n",
       "Kuchchaveli       4.759937\n",
       "Kinniya           4.917695\n",
       "dtype: float64"
      ]
     },
     "execution_count": 68,
     "metadata": {},
     "output_type": "execute_result"
    }
   ],
   "source": [
    "dinc.std(axis = 0)"
   ]
  },
  {
   "cell_type": "code",
   "execution_count": 82,
   "id": "28c0b7d3-4fc4-4324-91fa-0e7416b18555",
   "metadata": {
    "execution": {
     "iopub.execute_input": "2023-09-25T23:22:00.800966Z",
     "iopub.status.busy": "2023-09-25T23:22:00.800966Z",
     "iopub.status.idle": "2023-09-25T23:22:02.150884Z",
     "shell.execute_reply": "2023-09-25T23:22:02.150884Z",
     "shell.execute_reply.started": "2023-09-25T23:22:00.800966Z"
    }
   },
   "outputs": [
    {
     "data": {
      "image/png": "[encoded data removed]",
      "text/plain": [
       "<Figure size 700x700 with 1 Axes>"
      ]
     },
     "metadata": {},
     "output_type": "display_data"
    }
   ],
   "source": [
    "plt.rcParams[\"font.size\"] = 12\n",
    "fig, axes = plt.subplots()\n",
    "fig.set_size_inches(7, 7)\n",
    "axes.bar(dinc.columns, height = dinc.mean(axis = 0), color = \"#E2E4E4\", edgecolor = \"black\")\n",
    "axes.errorbar(x = dinc.columns, y = dinc.mean(axis = 0), yerr = dinc.std(axis = 0), ecolor = \"black\", elinewidth = 1, capsize = 10,\n",
    "             capthick = 1, linestyle = \"none\")\n",
    "axes.set_axisbelow(True)\n",
    "axes.grid(axis = 'y')\n",
    "axes.set_ylabel(\"$Disease\\hspace{1}incidence\\hspace{1}(\\%)$\")\n",
    "axes.set_xlabel(\"$Sites$\", labelpad = 10)\n",
    "# plt.show()\n",
    "plt.savefig(\"diseaseinc.png\", format = \"png\", dpi = 800)"
   ]
  },
  {
   "cell_type": "code",
   "execution_count": 42,
   "id": "efb954cc-0133-4567-b8fa-56514ce7a2ff",
   "metadata": {
    "execution": {
     "iopub.execute_input": "2023-09-26T03:07:39.761985Z",
     "iopub.status.busy": "2023-09-26T03:07:39.761985Z",
     "iopub.status.idle": "2023-09-26T03:07:39.774633Z",
     "shell.execute_reply": "2023-09-26T03:07:39.774548Z",
     "shell.execute_reply.started": "2023-09-26T03:07:39.761985Z"
    }
   },
   "outputs": [],
   "source": [
    "def sdt_out_matrix_to_csv(sdtool_matrix_path: str, csv_file_path = \"./sdtmatrix.csv\") -> None:\n",
    "    \n",
    "    \"\"\"\n",
    "    \n",
    "    \"\"\"\n",
    "\n",
    "    with open(file = sdtool_matrix_path, mode = 'r') as fp:\n",
    "        contents = str(fp.read())\n",
    "    \n",
    "    lines = list(filter(lambda line: line if line else None, contents.splitlines()))\n",
    "    delim_splitted_lines = [[val for val in line.split(',')] for line in lines]\n",
    "    vals_per_line = list(map(len, delim_splitted_lines))\n",
    "    maxcontents = max(vals_per_line)\n",
    "    \n",
    "    for splitted_line in delim_splitted_lines:\n",
    "        while len(splitted_line) < maxcontents:\n",
    "            splitted_line.append(\"0.00000\")\n",
    "    text = \"\"\n",
    "    for split_line in delim_splitted_lines:\n",
    "        text += \",\".join(split_line) + '\\n'\n",
    "\n",
    "    with open(csv_file_path, 'w') as fp:\n",
    "        fp.write(text)\n",
    "    return "
   ]
  },
  {
   "cell_type": "code",
   "execution_count": 43,
   "id": "842ad9e0-728a-4314-9c26-011c255cb3d0",
   "metadata": {
    "execution": {
     "iopub.execute_input": "2023-09-26T03:07:40.907132Z",
     "iopub.status.busy": "2023-09-26T03:07:40.907132Z",
     "iopub.status.idle": "2023-09-26T03:07:40.917561Z",
     "shell.execute_reply": "2023-09-26T03:07:40.917461Z",
     "shell.execute_reply.started": "2023-09-26T03:07:40.907132Z"
    }
   },
   "outputs": [],
   "source": [
    "sdt_out_matrix_to_csv(\"./data/srilanka/edited/sdt_mat.txt\")"
   ]
  },
  {
   "cell_type": "code",
   "execution_count": null,
   "id": "41b70f74-3100-48d7-a3f2-6c01066e24a4",
   "metadata": {},
   "outputs": [],
   "source": []
  },
  {
   "cell_type": "code",
   "execution_count": 5,
   "id": "3eb8f785-0e1d-4e63-b0c4-144eb48a6f3f",
   "metadata": {
    "execution": {
     "iopub.execute_input": "2023-09-26T13:10:16.620694Z",
     "iopub.status.busy": "2023-09-26T13:10:16.620694Z",
     "iopub.status.idle": "2023-09-26T13:10:16.720179Z",
     "shell.execute_reply": "2023-09-26T13:10:16.720179Z",
     "shell.execute_reply.started": "2023-09-26T13:10:16.620694Z"
    }
   },
   "outputs": [
    {
     "data": {
      "image/png": "[encoded data removed]",
      "text/plain": [
       "<Figure size 640x480 with 1 Axes>"
      ]
     },
     "metadata": {},
     "output_type": "display_data"
    }
   ],
   "source": [
    "plt.imshow(pd.read_csv(\"./sdtmatrix.csv\").iloc[:, 1:], cmap = \"RdPu\")\n",
    "plt.show()"
   ]
  },
  {
   "cell_type": "code",
   "execution_count": null,
   "id": "e3884cc8-b06f-49f9-8b6b-5c4081b3bcce",
   "metadata": {},
   "outputs": [],
   "source": []
  }
 ],
 "metadata": {
  "kernelspec": {
   "display_name": "Python 3 (ipykernel)",
   "language": "python",
   "name": "python3"
  },
  "language_info": {
   "codemirror_mode": {
    "name": "ipython",
    "version": 3
   },
   "file_extension": ".py",
   "mimetype": "text/x-python",
   "name": "python",
   "nbconvert_exporter": "python",
   "pygments_lexer": "ipython3",
   "version": "3.11.5"
  }
 },
 "nbformat": 4,
 "nbformat_minor": 5
}
