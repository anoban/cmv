{
 "cells": [
  {
   "cell_type": "code",
   "execution_count": 1,
   "id": "7d59b97b-0c0c-4adf-abb7-ce60c673e5b5",
   "metadata": {
    "execution": {
     "iopub.execute_input": "2023-09-23T12:24:30.471252Z",
     "iopub.status.busy": "2023-09-23T12:24:30.471252Z",
     "iopub.status.idle": "2023-09-23T12:24:32.445040Z",
     "shell.execute_reply": "2023-09-23T12:24:32.445040Z",
     "shell.execute_reply.started": "2023-09-23T12:24:30.471252Z"
    }
   },
   "outputs": [],
   "source": [
    "import numpy as np\n",
    "from numpy.typing import NDArray\n",
    "import pandas as pd\n",
    "import matplotlib.pyplot as plt\n",
    "import os"
   ]
  },
  {
   "cell_type": "code",
   "execution_count": null,
   "id": "eb1b7f47-efaa-4b78-899d-3abdc01a796f",
   "metadata": {},
   "outputs": [],
   "source": []
  },
  {
   "cell_type": "code",
   "execution_count": 2,
   "id": "771b3f42-101b-4473-b468-23332817ab58",
   "metadata": {
    "execution": {
     "iopub.execute_input": "2023-09-23T12:24:35.211480Z",
     "iopub.status.busy": "2023-09-23T12:24:35.211480Z",
     "iopub.status.idle": "2023-09-23T12:24:35.223044Z",
     "shell.execute_reply": "2023-09-23T12:24:35.222638Z",
     "shell.execute_reply.started": "2023-09-23T12:24:35.211480Z"
    }
   },
   "outputs": [],
   "source": [
    "def extend_array(array: NDArray, size: np.uint64, filler: np.float64 = 0) -> NDArray:\n",
    "    \n",
    "    \"\"\"\n",
    "    array: NDArray          => Input Numpy array (One dimensional).\n",
    "    size: np.uint64         => Size of the newly created array.\n",
    "    filler: np.float64 = 0  => Value to fill the new elements.\n",
    "    \n",
    "    Takes in a one dimensional numpy array of numbers (ints and floats) and extends the array to the specified size.\n",
    "    The returned array is a new array with the original elements at the front and fillers padded at the back.\n",
    "    By default the filler is 0.\n",
    "    If `size` is less than array.size an exception will be thrown!\n",
    "    If `size` is equal to array.size the same input array will be returned!\n",
    "    \"\"\"\n",
    "    \n",
    "    assert isinstance(array, np.ndarray), \"Only Numpy arrays are accepted for the `array` argument!\"\n",
    "    assert len(array.shape) == 1, \"Only one dimensional Numpy arrays are accepted for the `array` argument!\"\n",
    "    \n",
    "    if array.size > size:\n",
    "        raise ValueError(\"array.size > size: Cannot accept sizes smaller than the size of passed array!\")\n",
    "    elif array.size == size:\n",
    "        return array\n",
    "\n",
    "    filler = np.full(size - array.size, fill_value = filler, dtype = array.dtype)\n",
    "    return np.append(array, filler)"
   ]
  },
  {
   "cell_type": "code",
   "execution_count": 4,
   "id": "b25d1c77-3953-467a-9c51-bbbd59359b57",
   "metadata": {
    "execution": {
     "iopub.execute_input": "2023-09-23T12:27:32.909810Z",
     "iopub.status.busy": "2023-09-23T12:27:32.909810Z",
     "iopub.status.idle": "2023-09-23T12:27:32.926052Z",
     "shell.execute_reply": "2023-09-23T12:27:32.925372Z",
     "shell.execute_reply.started": "2023-09-23T12:27:32.909810Z"
    }
   },
   "outputs": [],
   "source": [
    "def fasta_to_numpy(fasta_file_path: str, enc: str = \"ascii\") -> NDArray:\n",
    "    \n",
    "    \"\"\"\n",
    "    fasta_file_path: str => Path to the .fasta or .fa file containing the DNA sequence.\n",
    "    enc: str = \"ascii\"   => Encoding used in the .fasta file.\n",
    "\n",
    "    Reads in the FASTA file specified by `fasta_file_path` and truns it into a Numpy one\n",
    "    dimensional array of characters (nucleotides).\n",
    "    A FileNotFoundError will be raised if the file specified by `fasta_file_path` does not exist on the system.\n",
    "    \"\"\"\n",
    "\n",
    "    if not os.path.exists(fasta_file_path):\n",
    "        raise FileNotFoundError(f\"{fasta_file_path} is not found in the system!\") \n",
    "\n",
    "    with open(fasta_file_path, \"r\", encoding = enc) as fp:\n",
    "        contents = str(fp.read())\n",
    "    \n",
    "    # get rid of the first line >ACCESSION SOME KUMBAYA.\n",
    "    # and cleanup newline characters if present.\n",
    "    content = \"\".join(contents.splitlines()[1:]).replace('\\n', '')\n",
    "\n",
    "    return np.array(list(content))"
   ]
  },
  {
   "cell_type": "code",
   "execution_count": 5,
   "id": "3668ac4a-add5-49ee-888f-85257c3edb2e",
   "metadata": {
    "execution": {
     "iopub.execute_input": "2023-09-23T12:27:34.777106Z",
     "iopub.status.busy": "2023-09-23T12:27:34.777106Z",
     "iopub.status.idle": "2023-09-23T12:27:34.836565Z",
     "shell.execute_reply": "2023-09-23T12:27:34.836565Z",
     "shell.execute_reply.started": "2023-09-23T12:27:34.777106Z"
    }
   },
   "outputs": [
    {
     "data": {
      "text/plain": [
       "array(['A', 'C', 'G', 'T'], dtype='<U1')"
      ]
     },
     "execution_count": 5,
     "metadata": {},
     "output_type": "execute_result"
    }
   ],
   "source": [
    "np.unique(fasta_to_numpy(\"./data/seqs/Kin2021.fasta\"))"
   ]
  },
  {
   "cell_type": "code",
   "execution_count": 42,
   "id": "ddb6f61c-266e-4f5c-8e27-ae2937c78881",
   "metadata": {
    "execution": {
     "iopub.execute_input": "2023-09-22T11:53:40.656303Z",
     "iopub.status.busy": "2023-09-22T11:53:40.656303Z",
     "iopub.status.idle": "2023-09-22T11:53:40.670931Z",
     "shell.execute_reply": "2023-09-22T11:53:40.670931Z",
     "shell.execute_reply.started": "2023-09-22T11:53:40.656303Z"
    }
   },
   "outputs": [],
   "source": [
    "seqs = []\n",
    "\n",
    "for f in os.listdir(\"./data/refseqs/edited/\"):\n",
    "        with open(\"./data/refseqs/edited/\"+ f, \"r\") as file:\n",
    "            seqs.append(str(file.read()))\n",
    "            "
   ]
  },
  {
   "cell_type": "code",
   "execution_count": 103,
   "id": "9c17e7b9-eda1-4136-ac57-f7fb393f1e9c",
   "metadata": {
    "execution": {
     "iopub.execute_input": "2023-09-20T21:40:21.150663Z",
     "iopub.status.busy": "2023-09-20T21:40:21.150663Z",
     "iopub.status.idle": "2023-09-20T21:40:21.164084Z",
     "shell.execute_reply": "2023-09-20T21:40:21.163568Z",
     "shell.execute_reply.started": "2023-09-20T21:40:21.150663Z"
    }
   },
   "outputs": [],
   "source": [
    "cleaned_seqs = []\n",
    "temp = \"\"\n",
    "\n",
    "for seq in seqs:\n",
    "    __tmp = seq.splitlines()[1:]      # skip the first >... line\n",
    "    for line in __tmp:\n",
    "        temp += line\n",
    "    cleaned_seqs.append(pd.Series(list(temp)))\n",
    "    temp = \"\""
   ]
  },
  {
   "cell_type": "code",
   "execution_count": 104,
   "id": "f5572e71-6038-4dfa-a637-929ee0608159",
   "metadata": {
    "execution": {
     "iopub.execute_input": "2023-09-20T21:40:24.365714Z",
     "iopub.status.busy": "2023-09-20T21:40:24.365714Z",
     "iopub.status.idle": "2023-09-20T21:40:24.376582Z",
     "shell.execute_reply": "2023-09-20T21:40:24.376582Z",
     "shell.execute_reply.started": "2023-09-20T21:40:24.365714Z"
    }
   },
   "outputs": [
    {
     "data": {
      "text/plain": [
       "[2770,\n",
       " 2779,\n",
       " 2769,\n",
       " 2802,\n",
       " 2797,\n",
       " 2804,\n",
       " 2801,\n",
       " 2798,\n",
       " 2798,\n",
       " 2799,\n",
       " 2785,\n",
       " 2815,\n",
       " 2735,\n",
       " 2743,\n",
       " 2719,\n",
       " 2800,\n",
       " 2758,\n",
       " 2755]"
      ]
     },
     "execution_count": 104,
     "metadata": {},
     "output_type": "execute_result"
    }
   ],
   "source": [
    "seqsizes = [seq.size for seq in cleaned_seqs]\n",
    "seqsizes"
   ]
  },
  {
   "cell_type": "code",
   "execution_count": 105,
   "id": "a079ba0d-0bc4-4628-99df-38c455deaba3",
   "metadata": {
    "execution": {
     "iopub.execute_input": "2023-09-20T21:40:30.484882Z",
     "iopub.status.busy": "2023-09-20T21:40:30.484882Z",
     "iopub.status.idle": "2023-09-20T21:40:30.498392Z",
     "shell.execute_reply": "2023-09-20T21:40:30.498268Z",
     "shell.execute_reply.started": "2023-09-20T21:40:30.484882Z"
    }
   },
   "outputs": [
    {
     "data": {
      "text/plain": [
       "2815"
      ]
     },
     "execution_count": 105,
     "metadata": {},
     "output_type": "execute_result"
    }
   ],
   "source": [
    "sizemax = np.max(seqsizes)\n",
    "sizemax"
   ]
  },
  {
   "cell_type": "code",
   "execution_count": 106,
   "id": "7cb005ab-449f-4a5a-b1b2-2707e64fcfa0",
   "metadata": {
    "execution": {
     "iopub.execute_input": "2023-09-20T21:40:31.144165Z",
     "iopub.status.busy": "2023-09-20T21:40:31.144165Z",
     "iopub.status.idle": "2023-09-20T21:40:31.159448Z",
     "shell.execute_reply": "2023-09-20T21:40:31.159448Z",
     "shell.execute_reply.started": "2023-09-20T21:40:31.144165Z"
    }
   },
   "outputs": [
    {
     "data": {
      "text/plain": [
       "['ACMBFV',\n",
       " 'ACMV',\n",
       " 'CMMGV',\n",
       " 'EACMCMV',\n",
       " 'EACMKV',\n",
       " 'EACMMV',\n",
       " 'EACMV-KE',\n",
       " 'EACMV-MW',\n",
       " 'EACMV-TZ',\n",
       " 'EACMV-UG',\n",
       " 'EACMZV',\n",
       " 'ICMV-IN',\n",
       " 'ICMV-Jat',\n",
       " 'ICMV-Ker',\n",
       " 'ICMV',\n",
       " 'SACMV',\n",
       " 'SLCMV-IN',\n",
       " 'SLCMV-LK']"
      ]
     },
     "execution_count": 106,
     "metadata": {},
     "output_type": "execute_result"
    }
   ],
   "source": [
    "abbrs = [fname.replace(\".fasta\", \"\") for fname in os.listdir(\"./data/refseqs/edited/\")]\n",
    "abbrs"
   ]
  },
  {
   "cell_type": "code",
   "execution_count": null,
   "id": "adba5a65-8b38-4563-9c1f-669595a47b11",
   "metadata": {},
   "outputs": [],
   "source": []
  },
  {
   "cell_type": "code",
   "execution_count": 113,
   "id": "68eb3d2c-924b-4922-b0f5-787854c28f44",
   "metadata": {
    "execution": {
     "iopub.execute_input": "2023-09-20T21:41:38.625335Z",
     "iopub.status.busy": "2023-09-20T21:41:38.625335Z",
     "iopub.status.idle": "2023-09-20T21:41:38.636351Z",
     "shell.execute_reply": "2023-09-20T21:41:38.636351Z",
     "shell.execute_reply.started": "2023-09-20T21:41:38.625335Z"
    }
   },
   "outputs": [],
   "source": [
    "seq_series = []\n",
    "\n",
    "for seq in cleaned_seqs:\n",
    "    if seq.size != sizemax:\n",
    "        seq_series.append(pd.concat([seq, pd.Series(['Z'] * (sizemax - seq.size))], ignore_index = True))\n",
    "    else:\n",
    "        seq_series.append(seq)"
   ]
  },
  {
   "cell_type": "code",
   "execution_count": 114,
   "id": "9458e179-b0c9-4d41-8cc8-2c5a1c77f746",
   "metadata": {
    "execution": {
     "iopub.execute_input": "2023-09-20T21:41:39.364698Z",
     "iopub.status.busy": "2023-09-20T21:41:39.364698Z",
     "iopub.status.idle": "2023-09-20T21:41:39.376789Z",
     "shell.execute_reply": "2023-09-20T21:41:39.376789Z",
     "shell.execute_reply.started": "2023-09-20T21:41:39.364698Z"
    }
   },
   "outputs": [
    {
     "data": {
      "text/plain": [
       "[2815,\n",
       " 2815,\n",
       " 2815,\n",
       " 2815,\n",
       " 2815,\n",
       " 2815,\n",
       " 2815,\n",
       " 2815,\n",
       " 2815,\n",
       " 2815,\n",
       " 2815,\n",
       " 2815,\n",
       " 2815,\n",
       " 2815,\n",
       " 2815,\n",
       " 2815,\n",
       " 2815,\n",
       " 2815]"
      ]
     },
     "execution_count": 114,
     "metadata": {},
     "output_type": "execute_result"
    }
   ],
   "source": [
    "[seq.size for seq in seq_series]"
   ]
  },
  {
   "cell_type": "code",
   "execution_count": 115,
   "id": "7f4a07c7-151b-4915-9319-15357a04b780",
   "metadata": {
    "execution": {
     "iopub.execute_input": "2023-09-20T21:41:42.018305Z",
     "iopub.status.busy": "2023-09-20T21:41:42.018305Z",
     "iopub.status.idle": "2023-09-20T21:41:42.023426Z",
     "shell.execute_reply": "2023-09-20T21:41:42.023255Z",
     "shell.execute_reply.started": "2023-09-20T21:41:42.018305Z"
    }
   },
   "outputs": [],
   "source": [
    "df = {abbr : seq for (abbr, seq) in zip(abbrs, seq_series)}"
   ]
  },
  {
   "cell_type": "code",
   "execution_count": 116,
   "id": "5182a238-c28b-4f15-b5bd-8c6666312d28",
   "metadata": {
    "execution": {
     "iopub.execute_input": "2023-09-20T21:41:42.488704Z",
     "iopub.status.busy": "2023-09-20T21:41:42.488704Z",
     "iopub.status.idle": "2023-09-20T21:41:42.495220Z",
     "shell.execute_reply": "2023-09-20T21:41:42.494578Z",
     "shell.execute_reply.started": "2023-09-20T21:41:42.488704Z"
    }
   },
   "outputs": [],
   "source": [
    "seqframe = pd.DataFrame.from_dict(df)"
   ]
  },
  {
   "cell_type": "code",
   "execution_count": 117,
   "id": "7258fd77-d916-456c-ab0c-c5c8aafbf42e",
   "metadata": {
    "execution": {
     "iopub.execute_input": "2023-09-20T21:41:42.848290Z",
     "iopub.status.busy": "2023-09-20T21:41:42.848290Z",
     "iopub.status.idle": "2023-09-20T21:41:42.855539Z",
     "shell.execute_reply": "2023-09-20T21:41:42.855539Z",
     "shell.execute_reply.started": "2023-09-20T21:41:42.848290Z"
    }
   },
   "outputs": [
    {
     "data": {
      "text/plain": [
       "(2815, 18)"
      ]
     },
     "execution_count": 117,
     "metadata": {},
     "output_type": "execute_result"
    }
   ],
   "source": [
    "seqframe.shape"
   ]
  },
  {
   "cell_type": "code",
   "execution_count": 118,
   "id": "ef8a3eed-d6e5-4224-a156-8698c1139047",
   "metadata": {
    "execution": {
     "iopub.execute_input": "2023-09-20T21:41:43.931173Z",
     "iopub.status.busy": "2023-09-20T21:41:43.931173Z",
     "iopub.status.idle": "2023-09-20T21:41:43.950204Z",
     "shell.execute_reply": "2023-09-20T21:41:43.950204Z",
     "shell.execute_reply.started": "2023-09-20T21:41:43.931173Z"
    }
   },
   "outputs": [
    {
     "data": {
      "text/plain": [
       "ACMBFV      45\n",
       "ACMV        36\n",
       "CMMGV       46\n",
       "EACMCMV     13\n",
       "EACMKV      18\n",
       "EACMMV      11\n",
       "EACMV-KE    14\n",
       "EACMV-MW    17\n",
       "EACMV-TZ    17\n",
       "EACMV-UG    16\n",
       "EACMZV      30\n",
       "ICMV-IN      0\n",
       "ICMV-Jat    80\n",
       "ICMV-Ker    72\n",
       "ICMV        96\n",
       "SACMV       15\n",
       "SLCMV-IN    57\n",
       "SLCMV-LK    60\n",
       "dtype: int64"
      ]
     },
     "execution_count": 118,
     "metadata": {},
     "output_type": "execute_result"
    }
   ],
   "source": [
    "seqframe.apply(lambda column: (column == 'Z').sum(), axis = 0)"
   ]
  },
  {
   "cell_type": "code",
   "execution_count": 121,
   "id": "10170b80-5d04-4da7-b65e-5dcab9f3d6f0",
   "metadata": {
    "execution": {
     "iopub.execute_input": "2023-09-20T21:41:58.090771Z",
     "iopub.status.busy": "2023-09-20T21:41:58.090771Z",
     "iopub.status.idle": "2023-09-20T21:41:58.107517Z",
     "shell.execute_reply": "2023-09-20T21:41:58.107413Z",
     "shell.execute_reply.started": "2023-09-20T21:41:58.090771Z"
    }
   },
   "outputs": [
    {
     "data": {
      "text/plain": [
       "0       65\n",
       "1       67\n",
       "2       67\n",
       "3       71\n",
       "4       71\n",
       "        ..\n",
       "2810    90\n",
       "2811    90\n",
       "2812    90\n",
       "2813    90\n",
       "2814    90\n",
       "Name: ACMBFV, Length: 2815, dtype: int64"
      ]
     },
     "execution_count": 121,
     "metadata": {},
     "output_type": "execute_result"
    }
   ],
   "source": [
    "seqframe.ACMBFV.apply(ord)"
   ]
  },
  {
   "cell_type": "code",
   "execution_count": 169,
   "id": "f315d4b8-401b-456c-aa0f-5cf7167a848b",
   "metadata": {
    "execution": {
     "iopub.execute_input": "2023-09-20T22:00:56.107299Z",
     "iopub.status.busy": "2023-09-20T22:00:56.107299Z",
     "iopub.status.idle": "2023-09-20T22:00:56.121663Z",
     "shell.execute_reply": "2023-09-20T22:00:56.121595Z",
     "shell.execute_reply.started": "2023-09-20T22:00:56.107299Z"
    }
   },
   "outputs": [
    {
     "data": {
      "text/plain": [
       "[0, 750, 1500, 2250]"
      ]
     },
     "execution_count": 169,
     "metadata": {},
     "output_type": "execute_result"
    }
   ],
   "source": [
    "list(delim)"
   ]
  },
  {
   "cell_type": "code",
   "execution_count": null,
   "id": "a2e496fb-76af-4b30-acc6-fcc536d218f3",
   "metadata": {},
   "outputs": [],
   "source": [
    "fig, axis = plt.subplots(nrows = 5)\n",
    "fig.set_size_inches(100, 100)\n",
    "delim = list(range(0, seqframe.shape[0], 750))\n",
    "\n",
    "for (d, ax) in zip(delim, axis):\n",
    "    ax.imshow(seqframe.iloc[:(d + 750), :].map(ord).T)"
   ]
  },
  {
   "cell_type": "code",
   "execution_count": null,
   "id": "75ae2bb0-0b41-486c-9404-25c83a53c88a",
   "metadata": {},
   "outputs": [],
   "source": []
  },
  {
   "cell_type": "code",
   "execution_count": 20,
   "id": "7f39f64c-9afa-42e0-ba9d-0d5e9876a30f",
   "metadata": {
    "execution": {
     "iopub.execute_input": "2023-09-23T12:40:05.120493Z",
     "iopub.status.busy": "2023-09-23T12:40:05.120493Z",
     "iopub.status.idle": "2023-09-23T12:40:05.134857Z",
     "shell.execute_reply": "2023-09-23T12:40:05.134857Z",
     "shell.execute_reply.started": "2023-09-23T12:40:05.120493Z"
    }
   },
   "outputs": [],
   "source": [
    "def seq_to_numeric(sequence: NDArray) -> NDArray[np.int64]:\n",
    "    \n",
    "    \"\"\"\n",
    "    \n",
    "    \"\"\"\n",
    "        \n",
    "    cmap : dict[str, int] = {\n",
    "        'A': 0,\n",
    "        'T': 20,\n",
    "        'G': 40,\n",
    "        'C': 60, \n",
    "        'Z': 100    # For fillers.\n",
    "    }\n",
    "\n",
    "    status: list[bool] = [ntide in cmap.keys() for ntide in np.unique(sequence)]\n",
    "    assert all(status), \"Unknown nucleotides found in the `sequence` array!\"\n",
    "    return np.array(list(map(lambda ntide: cmap.get(ntide), sequence)), dtype = np.int64)\n",
    "    "
   ]
  },
  {
   "cell_type": "code",
   "execution_count": null,
   "id": "0502a105-1047-408c-98c4-9ae840a84a2b",
   "metadata": {},
   "outputs": [],
   "source": []
  },
  {
   "cell_type": "code",
   "execution_count": 21,
   "id": "0e9d451b-39d2-4936-b328-78a678a3ff0a",
   "metadata": {
    "execution": {
     "iopub.execute_input": "2023-09-23T12:40:06.045551Z",
     "iopub.status.busy": "2023-09-23T12:40:06.045551Z",
     "iopub.status.idle": "2023-09-23T12:40:06.054018Z",
     "shell.execute_reply": "2023-09-23T12:40:06.053906Z",
     "shell.execute_reply.started": "2023-09-23T12:40:06.045551Z"
    }
   },
   "outputs": [
    {
     "data": {
      "text/plain": [
       "(array(['A', 'C', 'G', 'T'], dtype='<U1'),\n",
       " array([689, 614, 652, 791], dtype=int64))"
      ]
     },
     "execution_count": 21,
     "metadata": {},
     "output_type": "execute_result"
    }
   ],
   "source": [
    "np.unique(fasta_to_numpy(\"./data/seqs/Kin2021.fasta\"), return_counts = True)"
   ]
  },
  {
   "cell_type": "code",
   "execution_count": 56,
   "id": "3cac8db6-1129-47f2-898f-415f8fe42b2b",
   "metadata": {
    "execution": {
     "iopub.execute_input": "2023-09-23T12:50:10.759279Z",
     "iopub.status.busy": "2023-09-23T12:50:10.759279Z",
     "iopub.status.idle": "2023-09-23T12:50:10.946825Z",
     "shell.execute_reply": "2023-09-23T12:50:10.946825Z",
     "shell.execute_reply.started": "2023-09-23T12:50:10.759279Z"
    }
   },
   "outputs": [
    {
     "data": {
      "image/png": "[encoded data removed]",
      "text/plain": [
       "<Figure size 2000x1500 with 1 Axes>"
      ]
     },
     "metadata": {},
     "output_type": "display_data"
    }
   ],
   "source": [
    "fig, axes = plt.subplots()\n",
    "fig.set_size_inches(20, 15)\n",
    "axes.hist([fasta_to_numpy(\"./data/seqs/Kin2021.fasta\"), fasta_to_numpy(\"./data/seqs/Mut2021.fasta\"), fasta_to_numpy(\"./data/seqs/Pd2021.fasta\"),\n",
    "          fasta_to_numpy(\"./data/seqs/Kuc2021.fasta\")])\n",
    "plt.show()"
   ]
  },
  {
   "cell_type": "code",
   "execution_count": 42,
   "id": "c87c783d-83dd-4dee-8d3e-a6c354ec8e83",
   "metadata": {
    "execution": {
     "iopub.execute_input": "2023-09-23T12:43:20.720718Z",
     "iopub.status.busy": "2023-09-23T12:43:20.720718Z",
     "iopub.status.idle": "2023-09-23T12:43:20.740584Z",
     "shell.execute_reply": "2023-09-23T12:43:20.740431Z",
     "shell.execute_reply.started": "2023-09-23T12:43:20.720718Z"
    }
   },
   "outputs": [
    {
     "data": {
      "text/plain": [
       "1373.0"
      ]
     },
     "execution_count": 42,
     "metadata": {},
     "output_type": "execute_result"
    }
   ],
   "source": [
    "2746  / 2"
   ]
  },
  {
   "cell_type": "code",
   "execution_count": 43,
   "id": "c325c8fa-ac3a-4ee2-94f0-ef54cd6b911f",
   "metadata": {
    "execution": {
     "iopub.execute_input": "2023-09-23T12:43:26.124462Z",
     "iopub.status.busy": "2023-09-23T12:43:26.124462Z",
     "iopub.status.idle": "2023-09-23T12:43:26.142689Z",
     "shell.execute_reply": "2023-09-23T12:43:26.142689Z",
     "shell.execute_reply.started": "2023-09-23T12:43:26.124462Z"
    }
   },
   "outputs": [
    {
     "data": {
      "text/plain": [
       "457.6666666666667"
      ]
     },
     "execution_count": 43,
     "metadata": {},
     "output_type": "execute_result"
    }
   ],
   "source": [
    "np.isp 1373"
   ]
  }
 ],
 "metadata": {
  "kernelspec": {
   "display_name": "Python 3 (ipykernel)",
   "language": "python",
   "name": "python3"
  },
  "language_info": {
   "codemirror_mode": {
    "name": "ipython",
    "version": 3
   },
   "file_extension": ".py",
   "mimetype": "text/x-python",
   "name": "python",
   "nbconvert_exporter": "python",
   "pygments_lexer": "ipython3",
   "version": "3.11.5"
  }
 },
 "nbformat": 4,
 "nbformat_minor": 5
}
