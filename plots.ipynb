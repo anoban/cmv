{
 "cells": [
  {
   "cell_type": "code",
   "execution_count": 1,
   "id": "7d59b97b-0c0c-4adf-abb7-ce60c673e5b5",
   "metadata": {
    "execution": {
     "iopub.execute_input": "2023-09-22T11:10:34.050375Z",
     "iopub.status.busy": "2023-09-22T11:10:34.050375Z",
     "iopub.status.idle": "2023-09-22T11:10:34.769274Z",
     "shell.execute_reply": "2023-09-22T11:10:34.769274Z",
     "shell.execute_reply.started": "2023-09-22T11:10:34.050375Z"
    }
   },
   "outputs": [],
   "source": [
    "import numpy as np\n",
    "from numpy.typing import NDArray\n",
    "import pandas as pd\n",
    "import matplotlib.pyplot as plt\n",
    "import os"
   ]
  },
  {
   "cell_type": "code",
   "execution_count": null,
   "id": "eb1b7f47-efaa-4b78-899d-3abdc01a796f",
   "metadata": {},
   "outputs": [],
   "source": []
  },
  {
   "cell_type": "code",
   "execution_count": 30,
   "id": "771b3f42-101b-4473-b468-23332817ab58",
   "metadata": {
    "execution": {
     "iopub.execute_input": "2023-09-22T11:32:35.273949Z",
     "iopub.status.busy": "2023-09-22T11:32:35.273949Z",
     "iopub.status.idle": "2023-09-22T11:32:35.280721Z",
     "shell.execute_reply": "2023-09-22T11:32:35.280721Z",
     "shell.execute_reply.started": "2023-09-22T11:32:35.273949Z"
    }
   },
   "outputs": [],
   "source": [
    "def extend_array(array: NDArray, size: np.uint64, filler: np.float64 = 0) -> NDArray:\n",
    "    \n",
    "    \"\"\"\n",
    "    array: NDArray          => Input Numpy array (One dimensional).\n",
    "    size: np.uint64         => Size of the newly created array.\n",
    "    filler: np.float64 = 0  => Value to fill the new elements.\n",
    "    \n",
    "    Takes in a one dimensional numpy array of numbers (ints and floats) and extends the array to the specified size.\n",
    "    The returned array is a new array with the original elements at the front and fillers padded at the back.\n",
    "    By default the filler is 0.\n",
    "    If `size` is less than array.size an exception will be thrown!\n",
    "    If `size` is equal to array.size the same input array will be returned!\n",
    "    \"\"\"\n",
    "    \n",
    "    assert isinstance(array, np.ndarray), \"Only Numpy arrays are accepted for the `array` argument!\"\n",
    "    assert len(array.shape) == 1, \"Only one dimensional Numpy arrays are accepted for the `array` argument!\"\n",
    "    \n",
    "    if array.size > size:\n",
    "        raise ValueError(\"array.size > size: Cannot accept sizes smaller than the size of passed array!\")\n",
    "    elif array.size == size:\n",
    "        return array\n",
    "\n",
    "    filler = np.full(size - array.size, fill_value = filler, dtype = array.dtype)\n",
    "    return np.append(array, filler)"
   ]
  },
  {
   "cell_type": "code",
   "execution_count": null,
   "id": "b25d1c77-3953-467a-9c51-bbbd59359b57",
   "metadata": {},
   "outputs": [],
   "source": []
  },
  {
   "cell_type": "code",
   "execution_count": 2,
   "id": "ddb6f61c-266e-4f5c-8e27-ae2937c78881",
   "metadata": {
    "execution": {
     "iopub.execute_input": "2023-09-20T21:13:03.863975Z",
     "iopub.status.busy": "2023-09-20T21:13:03.863975Z",
     "iopub.status.idle": "2023-09-20T21:13:03.922779Z",
     "shell.execute_reply": "2023-09-20T21:13:03.922779Z",
     "shell.execute_reply.started": "2023-09-20T21:13:03.863975Z"
    }
   },
   "outputs": [],
   "source": [
    "seqs = []\n",
    "\n",
    "for f in os.listdir(\"./data/refseqs/edited/\"):\n",
    "        with open(\"./data/refseqs/edited/\"+ f, \"r\") as file:\n",
    "            seqs.append(str(file.read()))\n",
    "            "
   ]
  },
  {
   "cell_type": "code",
   "execution_count": 103,
   "id": "9c17e7b9-eda1-4136-ac57-f7fb393f1e9c",
   "metadata": {
    "execution": {
     "iopub.execute_input": "2023-09-20T21:40:21.150663Z",
     "iopub.status.busy": "2023-09-20T21:40:21.150663Z",
     "iopub.status.idle": "2023-09-20T21:40:21.164084Z",
     "shell.execute_reply": "2023-09-20T21:40:21.163568Z",
     "shell.execute_reply.started": "2023-09-20T21:40:21.150663Z"
    }
   },
   "outputs": [],
   "source": [
    "cleaned_seqs = []\n",
    "temp = \"\"\n",
    "\n",
    "for seq in seqs:\n",
    "    __tmp = seq.splitlines()[1:]      # skip the first >... line\n",
    "    for line in __tmp:\n",
    "        temp += line\n",
    "    cleaned_seqs.append(pd.Series(list(temp)))\n",
    "    temp = \"\""
   ]
  },
  {
   "cell_type": "code",
   "execution_count": 104,
   "id": "f5572e71-6038-4dfa-a637-929ee0608159",
   "metadata": {
    "execution": {
     "iopub.execute_input": "2023-09-20T21:40:24.365714Z",
     "iopub.status.busy": "2023-09-20T21:40:24.365714Z",
     "iopub.status.idle": "2023-09-20T21:40:24.376582Z",
     "shell.execute_reply": "2023-09-20T21:40:24.376582Z",
     "shell.execute_reply.started": "2023-09-20T21:40:24.365714Z"
    }
   },
   "outputs": [
    {
     "data": {
      "text/plain": [
       "[2770,\n",
       " 2779,\n",
       " 2769,\n",
       " 2802,\n",
       " 2797,\n",
       " 2804,\n",
       " 2801,\n",
       " 2798,\n",
       " 2798,\n",
       " 2799,\n",
       " 2785,\n",
       " 2815,\n",
       " 2735,\n",
       " 2743,\n",
       " 2719,\n",
       " 2800,\n",
       " 2758,\n",
       " 2755]"
      ]
     },
     "execution_count": 104,
     "metadata": {},
     "output_type": "execute_result"
    }
   ],
   "source": [
    "seqsizes = [seq.size for seq in cleaned_seqs]\n",
    "seqsizes"
   ]
  },
  {
   "cell_type": "code",
   "execution_count": 105,
   "id": "a079ba0d-0bc4-4628-99df-38c455deaba3",
   "metadata": {
    "execution": {
     "iopub.execute_input": "2023-09-20T21:40:30.484882Z",
     "iopub.status.busy": "2023-09-20T21:40:30.484882Z",
     "iopub.status.idle": "2023-09-20T21:40:30.498392Z",
     "shell.execute_reply": "2023-09-20T21:40:30.498268Z",
     "shell.execute_reply.started": "2023-09-20T21:40:30.484882Z"
    }
   },
   "outputs": [
    {
     "data": {
      "text/plain": [
       "2815"
      ]
     },
     "execution_count": 105,
     "metadata": {},
     "output_type": "execute_result"
    }
   ],
   "source": [
    "sizemax = np.max(seqsizes)\n",
    "sizemax"
   ]
  },
  {
   "cell_type": "code",
   "execution_count": 106,
   "id": "7cb005ab-449f-4a5a-b1b2-2707e64fcfa0",
   "metadata": {
    "execution": {
     "iopub.execute_input": "2023-09-20T21:40:31.144165Z",
     "iopub.status.busy": "2023-09-20T21:40:31.144165Z",
     "iopub.status.idle": "2023-09-20T21:40:31.159448Z",
     "shell.execute_reply": "2023-09-20T21:40:31.159448Z",
     "shell.execute_reply.started": "2023-09-20T21:40:31.144165Z"
    }
   },
   "outputs": [
    {
     "data": {
      "text/plain": [
       "['ACMBFV',\n",
       " 'ACMV',\n",
       " 'CMMGV',\n",
       " 'EACMCMV',\n",
       " 'EACMKV',\n",
       " 'EACMMV',\n",
       " 'EACMV-KE',\n",
       " 'EACMV-MW',\n",
       " 'EACMV-TZ',\n",
       " 'EACMV-UG',\n",
       " 'EACMZV',\n",
       " 'ICMV-IN',\n",
       " 'ICMV-Jat',\n",
       " 'ICMV-Ker',\n",
       " 'ICMV',\n",
       " 'SACMV',\n",
       " 'SLCMV-IN',\n",
       " 'SLCMV-LK']"
      ]
     },
     "execution_count": 106,
     "metadata": {},
     "output_type": "execute_result"
    }
   ],
   "source": [
    "abbrs = [fname.replace(\".fasta\", \"\") for fname in os.listdir(\"./data/refseqs/edited/\")]\n",
    "abbrs"
   ]
  },
  {
   "cell_type": "code",
   "execution_count": null,
   "id": "adba5a65-8b38-4563-9c1f-669595a47b11",
   "metadata": {},
   "outputs": [],
   "source": []
  },
  {
   "cell_type": "code",
   "execution_count": 113,
   "id": "68eb3d2c-924b-4922-b0f5-787854c28f44",
   "metadata": {
    "execution": {
     "iopub.execute_input": "2023-09-20T21:41:38.625335Z",
     "iopub.status.busy": "2023-09-20T21:41:38.625335Z",
     "iopub.status.idle": "2023-09-20T21:41:38.636351Z",
     "shell.execute_reply": "2023-09-20T21:41:38.636351Z",
     "shell.execute_reply.started": "2023-09-20T21:41:38.625335Z"
    }
   },
   "outputs": [],
   "source": [
    "seq_series = []\n",
    "\n",
    "for seq in cleaned_seqs:\n",
    "    if seq.size != sizemax:\n",
    "        seq_series.append(pd.concat([seq, pd.Series(['Z'] * (sizemax - seq.size))], ignore_index = True))\n",
    "    else:\n",
    "        seq_series.append(seq)"
   ]
  },
  {
   "cell_type": "code",
   "execution_count": 114,
   "id": "9458e179-b0c9-4d41-8cc8-2c5a1c77f746",
   "metadata": {
    "execution": {
     "iopub.execute_input": "2023-09-20T21:41:39.364698Z",
     "iopub.status.busy": "2023-09-20T21:41:39.364698Z",
     "iopub.status.idle": "2023-09-20T21:41:39.376789Z",
     "shell.execute_reply": "2023-09-20T21:41:39.376789Z",
     "shell.execute_reply.started": "2023-09-20T21:41:39.364698Z"
    }
   },
   "outputs": [
    {
     "data": {
      "text/plain": [
       "[2815,\n",
       " 2815,\n",
       " 2815,\n",
       " 2815,\n",
       " 2815,\n",
       " 2815,\n",
       " 2815,\n",
       " 2815,\n",
       " 2815,\n",
       " 2815,\n",
       " 2815,\n",
       " 2815,\n",
       " 2815,\n",
       " 2815,\n",
       " 2815,\n",
       " 2815,\n",
       " 2815,\n",
       " 2815]"
      ]
     },
     "execution_count": 114,
     "metadata": {},
     "output_type": "execute_result"
    }
   ],
   "source": [
    "[seq.size for seq in seq_series]"
   ]
  },
  {
   "cell_type": "code",
   "execution_count": 115,
   "id": "7f4a07c7-151b-4915-9319-15357a04b780",
   "metadata": {
    "execution": {
     "iopub.execute_input": "2023-09-20T21:41:42.018305Z",
     "iopub.status.busy": "2023-09-20T21:41:42.018305Z",
     "iopub.status.idle": "2023-09-20T21:41:42.023426Z",
     "shell.execute_reply": "2023-09-20T21:41:42.023255Z",
     "shell.execute_reply.started": "2023-09-20T21:41:42.018305Z"
    }
   },
   "outputs": [],
   "source": [
    "df = {abbr : seq for (abbr, seq) in zip(abbrs, seq_series)}"
   ]
  },
  {
   "cell_type": "code",
   "execution_count": 116,
   "id": "5182a238-c28b-4f15-b5bd-8c6666312d28",
   "metadata": {
    "execution": {
     "iopub.execute_input": "2023-09-20T21:41:42.488704Z",
     "iopub.status.busy": "2023-09-20T21:41:42.488704Z",
     "iopub.status.idle": "2023-09-20T21:41:42.495220Z",
     "shell.execute_reply": "2023-09-20T21:41:42.494578Z",
     "shell.execute_reply.started": "2023-09-20T21:41:42.488704Z"
    }
   },
   "outputs": [],
   "source": [
    "seqframe = pd.DataFrame.from_dict(df)"
   ]
  },
  {
   "cell_type": "code",
   "execution_count": 117,
   "id": "7258fd77-d916-456c-ab0c-c5c8aafbf42e",
   "metadata": {
    "execution": {
     "iopub.execute_input": "2023-09-20T21:41:42.848290Z",
     "iopub.status.busy": "2023-09-20T21:41:42.848290Z",
     "iopub.status.idle": "2023-09-20T21:41:42.855539Z",
     "shell.execute_reply": "2023-09-20T21:41:42.855539Z",
     "shell.execute_reply.started": "2023-09-20T21:41:42.848290Z"
    }
   },
   "outputs": [
    {
     "data": {
      "text/plain": [
       "(2815, 18)"
      ]
     },
     "execution_count": 117,
     "metadata": {},
     "output_type": "execute_result"
    }
   ],
   "source": [
    "seqframe.shape"
   ]
  },
  {
   "cell_type": "code",
   "execution_count": 118,
   "id": "ef8a3eed-d6e5-4224-a156-8698c1139047",
   "metadata": {
    "execution": {
     "iopub.execute_input": "2023-09-20T21:41:43.931173Z",
     "iopub.status.busy": "2023-09-20T21:41:43.931173Z",
     "iopub.status.idle": "2023-09-20T21:41:43.950204Z",
     "shell.execute_reply": "2023-09-20T21:41:43.950204Z",
     "shell.execute_reply.started": "2023-09-20T21:41:43.931173Z"
    }
   },
   "outputs": [
    {
     "data": {
      "text/plain": [
       "ACMBFV      45\n",
       "ACMV        36\n",
       "CMMGV       46\n",
       "EACMCMV     13\n",
       "EACMKV      18\n",
       "EACMMV      11\n",
       "EACMV-KE    14\n",
       "EACMV-MW    17\n",
       "EACMV-TZ    17\n",
       "EACMV-UG    16\n",
       "EACMZV      30\n",
       "ICMV-IN      0\n",
       "ICMV-Jat    80\n",
       "ICMV-Ker    72\n",
       "ICMV        96\n",
       "SACMV       15\n",
       "SLCMV-IN    57\n",
       "SLCMV-LK    60\n",
       "dtype: int64"
      ]
     },
     "execution_count": 118,
     "metadata": {},
     "output_type": "execute_result"
    }
   ],
   "source": [
    "seqframe.apply(lambda column: (column == 'Z').sum(), axis = 0)"
   ]
  },
  {
   "cell_type": "code",
   "execution_count": 121,
   "id": "10170b80-5d04-4da7-b65e-5dcab9f3d6f0",
   "metadata": {
    "execution": {
     "iopub.execute_input": "2023-09-20T21:41:58.090771Z",
     "iopub.status.busy": "2023-09-20T21:41:58.090771Z",
     "iopub.status.idle": "2023-09-20T21:41:58.107517Z",
     "shell.execute_reply": "2023-09-20T21:41:58.107413Z",
     "shell.execute_reply.started": "2023-09-20T21:41:58.090771Z"
    }
   },
   "outputs": [
    {
     "data": {
      "text/plain": [
       "0       65\n",
       "1       67\n",
       "2       67\n",
       "3       71\n",
       "4       71\n",
       "        ..\n",
       "2810    90\n",
       "2811    90\n",
       "2812    90\n",
       "2813    90\n",
       "2814    90\n",
       "Name: ACMBFV, Length: 2815, dtype: int64"
      ]
     },
     "execution_count": 121,
     "metadata": {},
     "output_type": "execute_result"
    }
   ],
   "source": [
    "seqframe.ACMBFV.apply(ord)"
   ]
  },
  {
   "cell_type": "code",
   "execution_count": 169,
   "id": "f315d4b8-401b-456c-aa0f-5cf7167a848b",
   "metadata": {
    "execution": {
     "iopub.execute_input": "2023-09-20T22:00:56.107299Z",
     "iopub.status.busy": "2023-09-20T22:00:56.107299Z",
     "iopub.status.idle": "2023-09-20T22:00:56.121663Z",
     "shell.execute_reply": "2023-09-20T22:00:56.121595Z",
     "shell.execute_reply.started": "2023-09-20T22:00:56.107299Z"
    }
   },
   "outputs": [
    {
     "data": {
      "text/plain": [
       "[0, 750, 1500, 2250]"
      ]
     },
     "execution_count": 169,
     "metadata": {},
     "output_type": "execute_result"
    }
   ],
   "source": [
    "list(delim)"
   ]
  },
  {
   "cell_type": "code",
   "execution_count": null,
   "id": "a2e496fb-76af-4b30-acc6-fcc536d218f3",
   "metadata": {},
   "outputs": [],
   "source": [
    "fig, axis = plt.subplots(nrows = 5)\n",
    "fig.set_size_inches(100, 100)\n",
    "delim = list(range(0, seqframe.shape[0], 750))\n",
    "\n",
    "for (d, ax) in zip(delim, axis):\n",
    "    ax.imshow(seqframe.iloc[:(d + 750), :].map(ord).T)"
   ]
  },
  {
   "cell_type": "code",
   "execution_count": null,
   "id": "75ae2bb0-0b41-486c-9404-25c83a53c88a",
   "metadata": {},
   "outputs": [],
   "source": []
  }
 ],
 "metadata": {
  "kernelspec": {
   "display_name": "Python 3 (ipykernel)",
   "language": "python",
   "name": "python3"
  },
  "language_info": {
   "codemirror_mode": {
    "name": "ipython",
    "version": 3
   },
   "file_extension": ".py",
   "mimetype": "text/x-python",
   "name": "python",
   "nbconvert_exporter": "python",
   "pygments_lexer": "ipython3",
   "version": "3.11.5"
  }
 },
 "nbformat": 4,
 "nbformat_minor": 5
}
